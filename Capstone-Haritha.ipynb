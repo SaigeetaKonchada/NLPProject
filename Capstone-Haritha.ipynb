{
  "cells": [
    {
      "cell_type": "code",
      "execution_count": 1,
      "metadata": {
        "colab": {
          "base_uri": "https://localhost:8080/"
        },
        "id": "RxEFC4xu5GC7",
        "outputId": "70ae153b-e6a6-4879-a1b0-dafd542d0db8"
      },
      "outputs": [
        {
          "output_type": "stream",
          "name": "stdout",
          "text": [
            "Mounted at /content/drive\n"
          ]
        }
      ],
      "source": [
        "from google.colab import drive\n",
        "drive.mount('/content/drive')"
      ]
    },
    {
      "cell_type": "code",
      "execution_count": 2,
      "metadata": {
        "id": "kHF87J9U6ZJh"
      },
      "outputs": [],
      "source": [
        "import numpy as np                                  \n",
        "import pandas as pd \n",
        "import tensorflow as tf \n",
        "import keras\n",
        "import matplotlib.pyplot as plt\n",
        "# pd.set_option(\"display.max_colwidth\", None)"
      ]
    },
    {
      "cell_type": "code",
      "execution_count": 3,
      "metadata": {
        "id": "Y1ZMd_CL5TyZ"
      },
      "outputs": [],
      "source": [
        "data=pd.read_excel('/content/drive/MyDrive/Input+Data+Synthetic+%28created+but+not+used+in+our+project%29.xlsx')\n"
      ]
    },
    {
      "cell_type": "code",
      "execution_count": 4,
      "metadata": {
        "colab": {
          "base_uri": "https://localhost:8080/",
          "height": 206
        },
        "id": "I4YxV1A_6nvt",
        "outputId": "577d90ec-d1f1-40d3-8af4-66c7b6a78cc7"
      },
      "outputs": [
        {
          "output_type": "execute_result",
          "data": {
            "text/plain": [
              "               Short description  \\\n",
              "0                    login issue   \n",
              "1                        outlook   \n",
              "2             cant log in to vpn   \n",
              "3  unable to access hr_tool page   \n",
              "4                   skype error    \n",
              "\n",
              "                                         Description             Caller  \\\n",
              "0  -verified user details.(employee# & manager na...  spxjnwir pjlcoqds   \n",
              "1  _x000D_\\n_x000D_\\nreceived from: hmjdrvpb.komu...  hmjdrvpb komuaywn   \n",
              "2  _x000D_\\n_x000D_\\nreceived from: eylqgodm.ybqk...  eylqgodm ybqkwiam   \n",
              "3                      unable to access hr_tool page  xbkucsvz gcpydteq   \n",
              "4                                       skype error   owlgqjme qhcozdfx   \n",
              "\n",
              "  Assignment group  \n",
              "0            GRP_0  \n",
              "1            GRP_0  \n",
              "2            GRP_0  \n",
              "3            GRP_0  \n",
              "4            GRP_0  "
            ],
            "text/html": [
              "\n",
              "  <div id=\"df-a8a268ae-07e1-45b4-b1c1-c3b6fcd10123\">\n",
              "    <div class=\"colab-df-container\">\n",
              "      <div>\n",
              "<style scoped>\n",
              "    .dataframe tbody tr th:only-of-type {\n",
              "        vertical-align: middle;\n",
              "    }\n",
              "\n",
              "    .dataframe tbody tr th {\n",
              "        vertical-align: top;\n",
              "    }\n",
              "\n",
              "    .dataframe thead th {\n",
              "        text-align: right;\n",
              "    }\n",
              "</style>\n",
              "<table border=\"1\" class=\"dataframe\">\n",
              "  <thead>\n",
              "    <tr style=\"text-align: right;\">\n",
              "      <th></th>\n",
              "      <th>Short description</th>\n",
              "      <th>Description</th>\n",
              "      <th>Caller</th>\n",
              "      <th>Assignment group</th>\n",
              "    </tr>\n",
              "  </thead>\n",
              "  <tbody>\n",
              "    <tr>\n",
              "      <th>0</th>\n",
              "      <td>login issue</td>\n",
              "      <td>-verified user details.(employee# &amp; manager na...</td>\n",
              "      <td>spxjnwir pjlcoqds</td>\n",
              "      <td>GRP_0</td>\n",
              "    </tr>\n",
              "    <tr>\n",
              "      <th>1</th>\n",
              "      <td>outlook</td>\n",
              "      <td>_x000D_\\n_x000D_\\nreceived from: hmjdrvpb.komu...</td>\n",
              "      <td>hmjdrvpb komuaywn</td>\n",
              "      <td>GRP_0</td>\n",
              "    </tr>\n",
              "    <tr>\n",
              "      <th>2</th>\n",
              "      <td>cant log in to vpn</td>\n",
              "      <td>_x000D_\\n_x000D_\\nreceived from: eylqgodm.ybqk...</td>\n",
              "      <td>eylqgodm ybqkwiam</td>\n",
              "      <td>GRP_0</td>\n",
              "    </tr>\n",
              "    <tr>\n",
              "      <th>3</th>\n",
              "      <td>unable to access hr_tool page</td>\n",
              "      <td>unable to access hr_tool page</td>\n",
              "      <td>xbkucsvz gcpydteq</td>\n",
              "      <td>GRP_0</td>\n",
              "    </tr>\n",
              "    <tr>\n",
              "      <th>4</th>\n",
              "      <td>skype error</td>\n",
              "      <td>skype error</td>\n",
              "      <td>owlgqjme qhcozdfx</td>\n",
              "      <td>GRP_0</td>\n",
              "    </tr>\n",
              "  </tbody>\n",
              "</table>\n",
              "</div>\n",
              "      <button class=\"colab-df-convert\" onclick=\"convertToInteractive('df-a8a268ae-07e1-45b4-b1c1-c3b6fcd10123')\"\n",
              "              title=\"Convert this dataframe to an interactive table.\"\n",
              "              style=\"display:none;\">\n",
              "        \n",
              "  <svg xmlns=\"http://www.w3.org/2000/svg\" height=\"24px\"viewBox=\"0 0 24 24\"\n",
              "       width=\"24px\">\n",
              "    <path d=\"M0 0h24v24H0V0z\" fill=\"none\"/>\n",
              "    <path d=\"M18.56 5.44l.94 2.06.94-2.06 2.06-.94-2.06-.94-.94-2.06-.94 2.06-2.06.94zm-11 1L8.5 8.5l.94-2.06 2.06-.94-2.06-.94L8.5 2.5l-.94 2.06-2.06.94zm10 10l.94 2.06.94-2.06 2.06-.94-2.06-.94-.94-2.06-.94 2.06-2.06.94z\"/><path d=\"M17.41 7.96l-1.37-1.37c-.4-.4-.92-.59-1.43-.59-.52 0-1.04.2-1.43.59L10.3 9.45l-7.72 7.72c-.78.78-.78 2.05 0 2.83L4 21.41c.39.39.9.59 1.41.59.51 0 1.02-.2 1.41-.59l7.78-7.78 2.81-2.81c.8-.78.8-2.07 0-2.86zM5.41 20L4 18.59l7.72-7.72 1.47 1.35L5.41 20z\"/>\n",
              "  </svg>\n",
              "      </button>\n",
              "      \n",
              "  <style>\n",
              "    .colab-df-container {\n",
              "      display:flex;\n",
              "      flex-wrap:wrap;\n",
              "      gap: 12px;\n",
              "    }\n",
              "\n",
              "    .colab-df-convert {\n",
              "      background-color: #E8F0FE;\n",
              "      border: none;\n",
              "      border-radius: 50%;\n",
              "      cursor: pointer;\n",
              "      display: none;\n",
              "      fill: #1967D2;\n",
              "      height: 32px;\n",
              "      padding: 0 0 0 0;\n",
              "      width: 32px;\n",
              "    }\n",
              "\n",
              "    .colab-df-convert:hover {\n",
              "      background-color: #E2EBFA;\n",
              "      box-shadow: 0px 1px 2px rgba(60, 64, 67, 0.3), 0px 1px 3px 1px rgba(60, 64, 67, 0.15);\n",
              "      fill: #174EA6;\n",
              "    }\n",
              "\n",
              "    [theme=dark] .colab-df-convert {\n",
              "      background-color: #3B4455;\n",
              "      fill: #D2E3FC;\n",
              "    }\n",
              "\n",
              "    [theme=dark] .colab-df-convert:hover {\n",
              "      background-color: #434B5C;\n",
              "      box-shadow: 0px 1px 3px 1px rgba(0, 0, 0, 0.15);\n",
              "      filter: drop-shadow(0px 1px 2px rgba(0, 0, 0, 0.3));\n",
              "      fill: #FFFFFF;\n",
              "    }\n",
              "  </style>\n",
              "\n",
              "      <script>\n",
              "        const buttonEl =\n",
              "          document.querySelector('#df-a8a268ae-07e1-45b4-b1c1-c3b6fcd10123 button.colab-df-convert');\n",
              "        buttonEl.style.display =\n",
              "          google.colab.kernel.accessAllowed ? 'block' : 'none';\n",
              "\n",
              "        async function convertToInteractive(key) {\n",
              "          const element = document.querySelector('#df-a8a268ae-07e1-45b4-b1c1-c3b6fcd10123');\n",
              "          const dataTable =\n",
              "            await google.colab.kernel.invokeFunction('convertToInteractive',\n",
              "                                                     [key], {});\n",
              "          if (!dataTable) return;\n",
              "\n",
              "          const docLinkHtml = 'Like what you see? Visit the ' +\n",
              "            '<a target=\"_blank\" href=https://colab.research.google.com/notebooks/data_table.ipynb>data table notebook</a>'\n",
              "            + ' to learn more about interactive tables.';\n",
              "          element.innerHTML = '';\n",
              "          dataTable['output_type'] = 'display_data';\n",
              "          await google.colab.output.renderOutput(dataTable, element);\n",
              "          const docLink = document.createElement('div');\n",
              "          docLink.innerHTML = docLinkHtml;\n",
              "          element.appendChild(docLink);\n",
              "        }\n",
              "      </script>\n",
              "    </div>\n",
              "  </div>\n",
              "  "
            ]
          },
          "metadata": {},
          "execution_count": 4
        }
      ],
      "source": [
        "data.head(5)"
      ]
    },
    {
      "cell_type": "code",
      "execution_count": 5,
      "metadata": {
        "colab": {
          "base_uri": "https://localhost:8080/"
        },
        "id": "jbr4u7Ie6teT",
        "outputId": "2ed4750e-2f0e-4c04-8163-a6127c8b88d0"
      },
      "outputs": [
        {
          "output_type": "execute_result",
          "data": {
            "text/plain": [
              "83"
            ]
          },
          "metadata": {},
          "execution_count": 5
        }
      ],
      "source": [
        "data.duplicated().sum()"
      ]
    },
    {
      "cell_type": "code",
      "execution_count": 6,
      "metadata": {
        "colab": {
          "base_uri": "https://localhost:8080/",
          "height": 424
        },
        "id": "MV-uOdPl63Xg",
        "outputId": "2dce6b13-8264-4274-a807-b445105a6924"
      },
      "outputs": [
        {
          "output_type": "execute_result",
          "data": {
            "text/plain": [
              "                                      Short description  \\\n",
              "51                           call for ecwtrjnq jpecxuty   \n",
              "229                          call for ecwtrjnq jpecxuty   \n",
              "493                     ticket update on inplant_872730   \n",
              "512                                    blank call //gso   \n",
              "667   job bkbackup_tool_powder_prod_full failed in j...   \n",
              "...                                                 ...   \n",
              "7836             probleme mit erpgui \\tmqfjard qzhgdoua   \n",
              "8051               issue on pricing in distributor_tool   \n",
              "8093  reset passwords for prgthyuulla ramdntythanjes...   \n",
              "8347                           blank call // loud noise   \n",
              "8405                           unable to launch outlook   \n",
              "\n",
              "                                            Description             Caller  \\\n",
              "51                           call for ecwtrjnq jpecxuty  olckhmvx pcqobjnd   \n",
              "229                          call for ecwtrjnq jpecxuty  olckhmvx pcqobjnd   \n",
              "493                     ticket update on inplant_872730  fumkcsji sarmtlhy   \n",
              "512                                    blank call //gso  rbozivdq gmlhrtvp   \n",
              "667   received from: monitoring_tool@company.com_x00...  bpctwhsn kzqsbmtp   \n",
              "...                                                 ...                ...   \n",
              "7836             probleme mit erpgui \\tmqfjard qzhgdoua  tmqfjard qzhgdoua   \n",
              "8051  we have agreed price with many of the distribu...  hbmwlprq ilfvyodx   \n",
              "8093                                                the  boirqctx bkijgqry   \n",
              "8347                           blank call // loud noise  rbozivdq gmlhrtvp   \n",
              "8405                           unable to launch outlook  wjtzrmqc ikqpbflg   \n",
              "\n",
              "     Assignment group  \n",
              "51              GRP_0  \n",
              "229             GRP_0  \n",
              "493             GRP_0  \n",
              "512             GRP_0  \n",
              "667             GRP_8  \n",
              "...               ...  \n",
              "7836           GRP_24  \n",
              "8051           GRP_21  \n",
              "8093           GRP_17  \n",
              "8347            GRP_0  \n",
              "8405            GRP_0  \n",
              "\n",
              "[83 rows x 4 columns]"
            ],
            "text/html": [
              "\n",
              "  <div id=\"df-6dd71b5b-f482-4df9-9c1c-9b49b66bcde9\">\n",
              "    <div class=\"colab-df-container\">\n",
              "      <div>\n",
              "<style scoped>\n",
              "    .dataframe tbody tr th:only-of-type {\n",
              "        vertical-align: middle;\n",
              "    }\n",
              "\n",
              "    .dataframe tbody tr th {\n",
              "        vertical-align: top;\n",
              "    }\n",
              "\n",
              "    .dataframe thead th {\n",
              "        text-align: right;\n",
              "    }\n",
              "</style>\n",
              "<table border=\"1\" class=\"dataframe\">\n",
              "  <thead>\n",
              "    <tr style=\"text-align: right;\">\n",
              "      <th></th>\n",
              "      <th>Short description</th>\n",
              "      <th>Description</th>\n",
              "      <th>Caller</th>\n",
              "      <th>Assignment group</th>\n",
              "    </tr>\n",
              "  </thead>\n",
              "  <tbody>\n",
              "    <tr>\n",
              "      <th>51</th>\n",
              "      <td>call for ecwtrjnq jpecxuty</td>\n",
              "      <td>call for ecwtrjnq jpecxuty</td>\n",
              "      <td>olckhmvx pcqobjnd</td>\n",
              "      <td>GRP_0</td>\n",
              "    </tr>\n",
              "    <tr>\n",
              "      <th>229</th>\n",
              "      <td>call for ecwtrjnq jpecxuty</td>\n",
              "      <td>call for ecwtrjnq jpecxuty</td>\n",
              "      <td>olckhmvx pcqobjnd</td>\n",
              "      <td>GRP_0</td>\n",
              "    </tr>\n",
              "    <tr>\n",
              "      <th>493</th>\n",
              "      <td>ticket update on inplant_872730</td>\n",
              "      <td>ticket update on inplant_872730</td>\n",
              "      <td>fumkcsji sarmtlhy</td>\n",
              "      <td>GRP_0</td>\n",
              "    </tr>\n",
              "    <tr>\n",
              "      <th>512</th>\n",
              "      <td>blank call //gso</td>\n",
              "      <td>blank call //gso</td>\n",
              "      <td>rbozivdq gmlhrtvp</td>\n",
              "      <td>GRP_0</td>\n",
              "    </tr>\n",
              "    <tr>\n",
              "      <th>667</th>\n",
              "      <td>job bkbackup_tool_powder_prod_full failed in j...</td>\n",
              "      <td>received from: monitoring_tool@company.com_x00...</td>\n",
              "      <td>bpctwhsn kzqsbmtp</td>\n",
              "      <td>GRP_8</td>\n",
              "    </tr>\n",
              "    <tr>\n",
              "      <th>...</th>\n",
              "      <td>...</td>\n",
              "      <td>...</td>\n",
              "      <td>...</td>\n",
              "      <td>...</td>\n",
              "    </tr>\n",
              "    <tr>\n",
              "      <th>7836</th>\n",
              "      <td>probleme mit erpgui \\tmqfjard qzhgdoua</td>\n",
              "      <td>probleme mit erpgui \\tmqfjard qzhgdoua</td>\n",
              "      <td>tmqfjard qzhgdoua</td>\n",
              "      <td>GRP_24</td>\n",
              "    </tr>\n",
              "    <tr>\n",
              "      <th>8051</th>\n",
              "      <td>issue on pricing in distributor_tool</td>\n",
              "      <td>we have agreed price with many of the distribu...</td>\n",
              "      <td>hbmwlprq ilfvyodx</td>\n",
              "      <td>GRP_21</td>\n",
              "    </tr>\n",
              "    <tr>\n",
              "      <th>8093</th>\n",
              "      <td>reset passwords for prgthyuulla ramdntythanjes...</td>\n",
              "      <td>the</td>\n",
              "      <td>boirqctx bkijgqry</td>\n",
              "      <td>GRP_17</td>\n",
              "    </tr>\n",
              "    <tr>\n",
              "      <th>8347</th>\n",
              "      <td>blank call // loud noise</td>\n",
              "      <td>blank call // loud noise</td>\n",
              "      <td>rbozivdq gmlhrtvp</td>\n",
              "      <td>GRP_0</td>\n",
              "    </tr>\n",
              "    <tr>\n",
              "      <th>8405</th>\n",
              "      <td>unable to launch outlook</td>\n",
              "      <td>unable to launch outlook</td>\n",
              "      <td>wjtzrmqc ikqpbflg</td>\n",
              "      <td>GRP_0</td>\n",
              "    </tr>\n",
              "  </tbody>\n",
              "</table>\n",
              "<p>83 rows × 4 columns</p>\n",
              "</div>\n",
              "      <button class=\"colab-df-convert\" onclick=\"convertToInteractive('df-6dd71b5b-f482-4df9-9c1c-9b49b66bcde9')\"\n",
              "              title=\"Convert this dataframe to an interactive table.\"\n",
              "              style=\"display:none;\">\n",
              "        \n",
              "  <svg xmlns=\"http://www.w3.org/2000/svg\" height=\"24px\"viewBox=\"0 0 24 24\"\n",
              "       width=\"24px\">\n",
              "    <path d=\"M0 0h24v24H0V0z\" fill=\"none\"/>\n",
              "    <path d=\"M18.56 5.44l.94 2.06.94-2.06 2.06-.94-2.06-.94-.94-2.06-.94 2.06-2.06.94zm-11 1L8.5 8.5l.94-2.06 2.06-.94-2.06-.94L8.5 2.5l-.94 2.06-2.06.94zm10 10l.94 2.06.94-2.06 2.06-.94-2.06-.94-.94-2.06-.94 2.06-2.06.94z\"/><path d=\"M17.41 7.96l-1.37-1.37c-.4-.4-.92-.59-1.43-.59-.52 0-1.04.2-1.43.59L10.3 9.45l-7.72 7.72c-.78.78-.78 2.05 0 2.83L4 21.41c.39.39.9.59 1.41.59.51 0 1.02-.2 1.41-.59l7.78-7.78 2.81-2.81c.8-.78.8-2.07 0-2.86zM5.41 20L4 18.59l7.72-7.72 1.47 1.35L5.41 20z\"/>\n",
              "  </svg>\n",
              "      </button>\n",
              "      \n",
              "  <style>\n",
              "    .colab-df-container {\n",
              "      display:flex;\n",
              "      flex-wrap:wrap;\n",
              "      gap: 12px;\n",
              "    }\n",
              "\n",
              "    .colab-df-convert {\n",
              "      background-color: #E8F0FE;\n",
              "      border: none;\n",
              "      border-radius: 50%;\n",
              "      cursor: pointer;\n",
              "      display: none;\n",
              "      fill: #1967D2;\n",
              "      height: 32px;\n",
              "      padding: 0 0 0 0;\n",
              "      width: 32px;\n",
              "    }\n",
              "\n",
              "    .colab-df-convert:hover {\n",
              "      background-color: #E2EBFA;\n",
              "      box-shadow: 0px 1px 2px rgba(60, 64, 67, 0.3), 0px 1px 3px 1px rgba(60, 64, 67, 0.15);\n",
              "      fill: #174EA6;\n",
              "    }\n",
              "\n",
              "    [theme=dark] .colab-df-convert {\n",
              "      background-color: #3B4455;\n",
              "      fill: #D2E3FC;\n",
              "    }\n",
              "\n",
              "    [theme=dark] .colab-df-convert:hover {\n",
              "      background-color: #434B5C;\n",
              "      box-shadow: 0px 1px 3px 1px rgba(0, 0, 0, 0.15);\n",
              "      filter: drop-shadow(0px 1px 2px rgba(0, 0, 0, 0.3));\n",
              "      fill: #FFFFFF;\n",
              "    }\n",
              "  </style>\n",
              "\n",
              "      <script>\n",
              "        const buttonEl =\n",
              "          document.querySelector('#df-6dd71b5b-f482-4df9-9c1c-9b49b66bcde9 button.colab-df-convert');\n",
              "        buttonEl.style.display =\n",
              "          google.colab.kernel.accessAllowed ? 'block' : 'none';\n",
              "\n",
              "        async function convertToInteractive(key) {\n",
              "          const element = document.querySelector('#df-6dd71b5b-f482-4df9-9c1c-9b49b66bcde9');\n",
              "          const dataTable =\n",
              "            await google.colab.kernel.invokeFunction('convertToInteractive',\n",
              "                                                     [key], {});\n",
              "          if (!dataTable) return;\n",
              "\n",
              "          const docLinkHtml = 'Like what you see? Visit the ' +\n",
              "            '<a target=\"_blank\" href=https://colab.research.google.com/notebooks/data_table.ipynb>data table notebook</a>'\n",
              "            + ' to learn more about interactive tables.';\n",
              "          element.innerHTML = '';\n",
              "          dataTable['output_type'] = 'display_data';\n",
              "          await google.colab.output.renderOutput(dataTable, element);\n",
              "          const docLink = document.createElement('div');\n",
              "          docLink.innerHTML = docLinkHtml;\n",
              "          element.appendChild(docLink);\n",
              "        }\n",
              "      </script>\n",
              "    </div>\n",
              "  </div>\n",
              "  "
            ]
          },
          "metadata": {},
          "execution_count": 6
        }
      ],
      "source": [
        "data[data.duplicated()]"
      ]
    },
    {
      "cell_type": "code",
      "execution_count": 7,
      "metadata": {
        "id": "ch7N59vO7CNN"
      },
      "outputs": [],
      "source": [
        "data.drop_duplicates(inplace=True)"
      ]
    },
    {
      "cell_type": "code",
      "execution_count": 8,
      "metadata": {
        "colab": {
          "base_uri": "https://localhost:8080/"
        },
        "id": "ifHhsOor7M-l",
        "outputId": "cf57d735-ba4c-4606-ee5e-7b1308d14aeb"
      },
      "outputs": [
        {
          "output_type": "execute_result",
          "data": {
            "text/plain": [
              "0"
            ]
          },
          "metadata": {},
          "execution_count": 8
        }
      ],
      "source": [
        "data.duplicated().sum()"
      ]
    },
    {
      "cell_type": "code",
      "execution_count": 9,
      "metadata": {
        "colab": {
          "base_uri": "https://localhost:8080/",
          "height": 206
        },
        "id": "b1pu5cT87QJO",
        "outputId": "906e84c9-12de-4592-ddd0-26c33e87d187"
      },
      "outputs": [
        {
          "output_type": "execute_result",
          "data": {
            "text/plain": [
              "                                      Short description  \\\n",
              "982                         business_clientæ— æ³•ç™»å…¥   \n",
              "3752  my phone #, erp, \"name or password is incorrec...   \n",
              "3291  job Job_1332 failed in job_scheduler at: 09/26...   \n",
              "6908                         access to engineering_tool   \n",
              "3541  clad qc computer cannot access the erp, shop_f...   \n",
              "\n",
              "                                            Description             Caller  \\\n",
              "982   \\n\\nreceived from: ktghvuwr.uwtakcmj@gmail.com...  ktghvuwr uwtakcmj   \n",
              "3752  i have access to a few systems on erp but i am...  wvaksnpy vnixhytj   \n",
              "3291  received from: monitoring_tool@company.com_x00...  bpctwhsn kzqsbmtp   \n",
              "6908                         access to engineering_tool  sjhrytwn yakzbslm   \n",
              "3541  brgtyad ahdwqrson is the operator in this area...  uqrbzknc snvimeqt   \n",
              "\n",
              "     Assignment group  \n",
              "982             GRP_0  \n",
              "3752            GRP_0  \n",
              "3291            GRP_9  \n",
              "6908            GRP_0  \n",
              "3541            GRP_3  "
            ],
            "text/html": [
              "\n",
              "  <div id=\"df-e2449301-ebd8-47f4-aaf3-c586d2ba5a1f\">\n",
              "    <div class=\"colab-df-container\">\n",
              "      <div>\n",
              "<style scoped>\n",
              "    .dataframe tbody tr th:only-of-type {\n",
              "        vertical-align: middle;\n",
              "    }\n",
              "\n",
              "    .dataframe tbody tr th {\n",
              "        vertical-align: top;\n",
              "    }\n",
              "\n",
              "    .dataframe thead th {\n",
              "        text-align: right;\n",
              "    }\n",
              "</style>\n",
              "<table border=\"1\" class=\"dataframe\">\n",
              "  <thead>\n",
              "    <tr style=\"text-align: right;\">\n",
              "      <th></th>\n",
              "      <th>Short description</th>\n",
              "      <th>Description</th>\n",
              "      <th>Caller</th>\n",
              "      <th>Assignment group</th>\n",
              "    </tr>\n",
              "  </thead>\n",
              "  <tbody>\n",
              "    <tr>\n",
              "      <th>982</th>\n",
              "      <td>business_clientæ— æ³•ç™»å…¥</td>\n",
              "      <td>\\n\\nreceived from: ktghvuwr.uwtakcmj@gmail.com...</td>\n",
              "      <td>ktghvuwr uwtakcmj</td>\n",
              "      <td>GRP_0</td>\n",
              "    </tr>\n",
              "    <tr>\n",
              "      <th>3752</th>\n",
              "      <td>my phone #, erp, \"name or password is incorrec...</td>\n",
              "      <td>i have access to a few systems on erp but i am...</td>\n",
              "      <td>wvaksnpy vnixhytj</td>\n",
              "      <td>GRP_0</td>\n",
              "    </tr>\n",
              "    <tr>\n",
              "      <th>3291</th>\n",
              "      <td>job Job_1332 failed in job_scheduler at: 09/26...</td>\n",
              "      <td>received from: monitoring_tool@company.com_x00...</td>\n",
              "      <td>bpctwhsn kzqsbmtp</td>\n",
              "      <td>GRP_9</td>\n",
              "    </tr>\n",
              "    <tr>\n",
              "      <th>6908</th>\n",
              "      <td>access to engineering_tool</td>\n",
              "      <td>access to engineering_tool</td>\n",
              "      <td>sjhrytwn yakzbslm</td>\n",
              "      <td>GRP_0</td>\n",
              "    </tr>\n",
              "    <tr>\n",
              "      <th>3541</th>\n",
              "      <td>clad qc computer cannot access the erp, shop_f...</td>\n",
              "      <td>brgtyad ahdwqrson is the operator in this area...</td>\n",
              "      <td>uqrbzknc snvimeqt</td>\n",
              "      <td>GRP_3</td>\n",
              "    </tr>\n",
              "  </tbody>\n",
              "</table>\n",
              "</div>\n",
              "      <button class=\"colab-df-convert\" onclick=\"convertToInteractive('df-e2449301-ebd8-47f4-aaf3-c586d2ba5a1f')\"\n",
              "              title=\"Convert this dataframe to an interactive table.\"\n",
              "              style=\"display:none;\">\n",
              "        \n",
              "  <svg xmlns=\"http://www.w3.org/2000/svg\" height=\"24px\"viewBox=\"0 0 24 24\"\n",
              "       width=\"24px\">\n",
              "    <path d=\"M0 0h24v24H0V0z\" fill=\"none\"/>\n",
              "    <path d=\"M18.56 5.44l.94 2.06.94-2.06 2.06-.94-2.06-.94-.94-2.06-.94 2.06-2.06.94zm-11 1L8.5 8.5l.94-2.06 2.06-.94-2.06-.94L8.5 2.5l-.94 2.06-2.06.94zm10 10l.94 2.06.94-2.06 2.06-.94-2.06-.94-.94-2.06-.94 2.06-2.06.94z\"/><path d=\"M17.41 7.96l-1.37-1.37c-.4-.4-.92-.59-1.43-.59-.52 0-1.04.2-1.43.59L10.3 9.45l-7.72 7.72c-.78.78-.78 2.05 0 2.83L4 21.41c.39.39.9.59 1.41.59.51 0 1.02-.2 1.41-.59l7.78-7.78 2.81-2.81c.8-.78.8-2.07 0-2.86zM5.41 20L4 18.59l7.72-7.72 1.47 1.35L5.41 20z\"/>\n",
              "  </svg>\n",
              "      </button>\n",
              "      \n",
              "  <style>\n",
              "    .colab-df-container {\n",
              "      display:flex;\n",
              "      flex-wrap:wrap;\n",
              "      gap: 12px;\n",
              "    }\n",
              "\n",
              "    .colab-df-convert {\n",
              "      background-color: #E8F0FE;\n",
              "      border: none;\n",
              "      border-radius: 50%;\n",
              "      cursor: pointer;\n",
              "      display: none;\n",
              "      fill: #1967D2;\n",
              "      height: 32px;\n",
              "      padding: 0 0 0 0;\n",
              "      width: 32px;\n",
              "    }\n",
              "\n",
              "    .colab-df-convert:hover {\n",
              "      background-color: #E2EBFA;\n",
              "      box-shadow: 0px 1px 2px rgba(60, 64, 67, 0.3), 0px 1px 3px 1px rgba(60, 64, 67, 0.15);\n",
              "      fill: #174EA6;\n",
              "    }\n",
              "\n",
              "    [theme=dark] .colab-df-convert {\n",
              "      background-color: #3B4455;\n",
              "      fill: #D2E3FC;\n",
              "    }\n",
              "\n",
              "    [theme=dark] .colab-df-convert:hover {\n",
              "      background-color: #434B5C;\n",
              "      box-shadow: 0px 1px 3px 1px rgba(0, 0, 0, 0.15);\n",
              "      filter: drop-shadow(0px 1px 2px rgba(0, 0, 0, 0.3));\n",
              "      fill: #FFFFFF;\n",
              "    }\n",
              "  </style>\n",
              "\n",
              "      <script>\n",
              "        const buttonEl =\n",
              "          document.querySelector('#df-e2449301-ebd8-47f4-aaf3-c586d2ba5a1f button.colab-df-convert');\n",
              "        buttonEl.style.display =\n",
              "          google.colab.kernel.accessAllowed ? 'block' : 'none';\n",
              "\n",
              "        async function convertToInteractive(key) {\n",
              "          const element = document.querySelector('#df-e2449301-ebd8-47f4-aaf3-c586d2ba5a1f');\n",
              "          const dataTable =\n",
              "            await google.colab.kernel.invokeFunction('convertToInteractive',\n",
              "                                                     [key], {});\n",
              "          if (!dataTable) return;\n",
              "\n",
              "          const docLinkHtml = 'Like what you see? Visit the ' +\n",
              "            '<a target=\"_blank\" href=https://colab.research.google.com/notebooks/data_table.ipynb>data table notebook</a>'\n",
              "            + ' to learn more about interactive tables.';\n",
              "          element.innerHTML = '';\n",
              "          dataTable['output_type'] = 'display_data';\n",
              "          await google.colab.output.renderOutput(dataTable, element);\n",
              "          const docLink = document.createElement('div');\n",
              "          docLink.innerHTML = docLinkHtml;\n",
              "          element.appendChild(docLink);\n",
              "        }\n",
              "      </script>\n",
              "    </div>\n",
              "  </div>\n",
              "  "
            ]
          },
          "metadata": {},
          "execution_count": 9
        }
      ],
      "source": [
        "data.sample(5)"
      ]
    },
    {
      "cell_type": "code",
      "execution_count": 10,
      "metadata": {
        "colab": {
          "base_uri": "https://localhost:8080/"
        },
        "id": "xy6HgQr57XfS",
        "outputId": "053ccaa3-464b-42e0-d4b1-efa22f5cac08"
      },
      "outputs": [
        {
          "output_type": "stream",
          "name": "stdout",
          "text": [
            "<class 'pandas.core.frame.DataFrame'>\n",
            "Int64Index: 8417 entries, 0 to 8499\n",
            "Data columns (total 4 columns):\n",
            " #   Column             Non-Null Count  Dtype \n",
            "---  ------             --------------  ----- \n",
            " 0   Short description  8409 non-null   object\n",
            " 1   Description        8416 non-null   object\n",
            " 2   Caller             8417 non-null   object\n",
            " 3   Assignment group   8417 non-null   object\n",
            "dtypes: object(4)\n",
            "memory usage: 328.8+ KB\n"
          ]
        }
      ],
      "source": [
        "data.info()"
      ]
    },
    {
      "cell_type": "code",
      "execution_count": 11,
      "metadata": {
        "colab": {
          "base_uri": "https://localhost:8080/"
        },
        "id": "I8bZ_efz7dGG",
        "outputId": "3b3f2034-dea9-4853-829a-37ee5fc3058c"
      },
      "outputs": [
        {
          "output_type": "execute_result",
          "data": {
            "text/plain": [
              "Short description    8\n",
              "Description          1\n",
              "Caller               0\n",
              "Assignment group     0\n",
              "dtype: int64"
            ]
          },
          "metadata": {},
          "execution_count": 11
        }
      ],
      "source": [
        "data.isnull().sum()"
      ]
    },
    {
      "cell_type": "code",
      "execution_count": 12,
      "metadata": {
        "colab": {
          "base_uri": "https://localhost:8080/",
          "height": 81
        },
        "id": "oRpm0zoN7ixs",
        "outputId": "e75e1a19-1264-4f52-d715-4d54ffca3373"
      },
      "outputs": [
        {
          "output_type": "execute_result",
          "data": {
            "text/plain": [
              "             Short description Description             Caller Assignment group\n",
              "4395  i am locked out of skype         NaN  viyglzfo ajtfzpkb            GRP_0"
            ],
            "text/html": [
              "\n",
              "  <div id=\"df-e37bc327-6013-4d56-b817-8b9484fd3bbf\">\n",
              "    <div class=\"colab-df-container\">\n",
              "      <div>\n",
              "<style scoped>\n",
              "    .dataframe tbody tr th:only-of-type {\n",
              "        vertical-align: middle;\n",
              "    }\n",
              "\n",
              "    .dataframe tbody tr th {\n",
              "        vertical-align: top;\n",
              "    }\n",
              "\n",
              "    .dataframe thead th {\n",
              "        text-align: right;\n",
              "    }\n",
              "</style>\n",
              "<table border=\"1\" class=\"dataframe\">\n",
              "  <thead>\n",
              "    <tr style=\"text-align: right;\">\n",
              "      <th></th>\n",
              "      <th>Short description</th>\n",
              "      <th>Description</th>\n",
              "      <th>Caller</th>\n",
              "      <th>Assignment group</th>\n",
              "    </tr>\n",
              "  </thead>\n",
              "  <tbody>\n",
              "    <tr>\n",
              "      <th>4395</th>\n",
              "      <td>i am locked out of skype</td>\n",
              "      <td>NaN</td>\n",
              "      <td>viyglzfo ajtfzpkb</td>\n",
              "      <td>GRP_0</td>\n",
              "    </tr>\n",
              "  </tbody>\n",
              "</table>\n",
              "</div>\n",
              "      <button class=\"colab-df-convert\" onclick=\"convertToInteractive('df-e37bc327-6013-4d56-b817-8b9484fd3bbf')\"\n",
              "              title=\"Convert this dataframe to an interactive table.\"\n",
              "              style=\"display:none;\">\n",
              "        \n",
              "  <svg xmlns=\"http://www.w3.org/2000/svg\" height=\"24px\"viewBox=\"0 0 24 24\"\n",
              "       width=\"24px\">\n",
              "    <path d=\"M0 0h24v24H0V0z\" fill=\"none\"/>\n",
              "    <path d=\"M18.56 5.44l.94 2.06.94-2.06 2.06-.94-2.06-.94-.94-2.06-.94 2.06-2.06.94zm-11 1L8.5 8.5l.94-2.06 2.06-.94-2.06-.94L8.5 2.5l-.94 2.06-2.06.94zm10 10l.94 2.06.94-2.06 2.06-.94-2.06-.94-.94-2.06-.94 2.06-2.06.94z\"/><path d=\"M17.41 7.96l-1.37-1.37c-.4-.4-.92-.59-1.43-.59-.52 0-1.04.2-1.43.59L10.3 9.45l-7.72 7.72c-.78.78-.78 2.05 0 2.83L4 21.41c.39.39.9.59 1.41.59.51 0 1.02-.2 1.41-.59l7.78-7.78 2.81-2.81c.8-.78.8-2.07 0-2.86zM5.41 20L4 18.59l7.72-7.72 1.47 1.35L5.41 20z\"/>\n",
              "  </svg>\n",
              "      </button>\n",
              "      \n",
              "  <style>\n",
              "    .colab-df-container {\n",
              "      display:flex;\n",
              "      flex-wrap:wrap;\n",
              "      gap: 12px;\n",
              "    }\n",
              "\n",
              "    .colab-df-convert {\n",
              "      background-color: #E8F0FE;\n",
              "      border: none;\n",
              "      border-radius: 50%;\n",
              "      cursor: pointer;\n",
              "      display: none;\n",
              "      fill: #1967D2;\n",
              "      height: 32px;\n",
              "      padding: 0 0 0 0;\n",
              "      width: 32px;\n",
              "    }\n",
              "\n",
              "    .colab-df-convert:hover {\n",
              "      background-color: #E2EBFA;\n",
              "      box-shadow: 0px 1px 2px rgba(60, 64, 67, 0.3), 0px 1px 3px 1px rgba(60, 64, 67, 0.15);\n",
              "      fill: #174EA6;\n",
              "    }\n",
              "\n",
              "    [theme=dark] .colab-df-convert {\n",
              "      background-color: #3B4455;\n",
              "      fill: #D2E3FC;\n",
              "    }\n",
              "\n",
              "    [theme=dark] .colab-df-convert:hover {\n",
              "      background-color: #434B5C;\n",
              "      box-shadow: 0px 1px 3px 1px rgba(0, 0, 0, 0.15);\n",
              "      filter: drop-shadow(0px 1px 2px rgba(0, 0, 0, 0.3));\n",
              "      fill: #FFFFFF;\n",
              "    }\n",
              "  </style>\n",
              "\n",
              "      <script>\n",
              "        const buttonEl =\n",
              "          document.querySelector('#df-e37bc327-6013-4d56-b817-8b9484fd3bbf button.colab-df-convert');\n",
              "        buttonEl.style.display =\n",
              "          google.colab.kernel.accessAllowed ? 'block' : 'none';\n",
              "\n",
              "        async function convertToInteractive(key) {\n",
              "          const element = document.querySelector('#df-e37bc327-6013-4d56-b817-8b9484fd3bbf');\n",
              "          const dataTable =\n",
              "            await google.colab.kernel.invokeFunction('convertToInteractive',\n",
              "                                                     [key], {});\n",
              "          if (!dataTable) return;\n",
              "\n",
              "          const docLinkHtml = 'Like what you see? Visit the ' +\n",
              "            '<a target=\"_blank\" href=https://colab.research.google.com/notebooks/data_table.ipynb>data table notebook</a>'\n",
              "            + ' to learn more about interactive tables.';\n",
              "          element.innerHTML = '';\n",
              "          dataTable['output_type'] = 'display_data';\n",
              "          await google.colab.output.renderOutput(dataTable, element);\n",
              "          const docLink = document.createElement('div');\n",
              "          docLink.innerHTML = docLinkHtml;\n",
              "          element.appendChild(docLink);\n",
              "        }\n",
              "      </script>\n",
              "    </div>\n",
              "  </div>\n",
              "  "
            ]
          },
          "metadata": {},
          "execution_count": 12
        }
      ],
      "source": [
        "data[data['Description'].isnull()]"
      ]
    },
    {
      "cell_type": "code",
      "execution_count": 13,
      "metadata": {
        "id": "psvbXx-EZFXM"
      },
      "outputs": [],
      "source": [
        "data.Description.replace(np.NaN, 'i am locked out of skype', inplace=True)"
      ]
    },
    {
      "cell_type": "code",
      "execution_count": 14,
      "metadata": {
        "colab": {
          "base_uri": "https://localhost:8080/",
          "height": 300
        },
        "id": "EPZntmsC8Acc",
        "outputId": "6cf07dbc-2de9-4758-c7ee-dc2ba5dd2691"
      },
      "outputs": [
        {
          "output_type": "execute_result",
          "data": {
            "text/plain": [
              "     Short description                                        Description  \\\n",
              "2604               NaN  _x000D_\\n_x000D_\\nreceived from: ohdrnswl.rezu...   \n",
              "3383               NaN  _x000D_\\n-connected to the user system using t...   \n",
              "3906               NaN  -user unable  tologin to vpn._x000D_\\n-connect...   \n",
              "3910               NaN  -user unable  tologin to vpn._x000D_\\n-connect...   \n",
              "3915               NaN  -user unable  tologin to vpn._x000D_\\n-connect...   \n",
              "3921               NaN  -user unable  tologin to vpn._x000D_\\n-connect...   \n",
              "3924               NaN  name:wvqgbdhm fwchqjor\\nlanguage:\\nbrowser:mic...   \n",
              "4341               NaN  _x000D_\\n_x000D_\\nreceived from: eqmuniov.ehxk...   \n",
              "\n",
              "                 Caller Assignment group  \n",
              "2604  ohdrnswl rezuibdt           GRP_34  \n",
              "3383  qftpazns fxpnytmk            GRP_0  \n",
              "3906  awpcmsey ctdiuqwe            GRP_0  \n",
              "3910  rhwsmefo tvphyura            GRP_0  \n",
              "3915  hxripljo efzounig            GRP_0  \n",
              "3921  cziadygo veiosxby            GRP_0  \n",
              "3924  wvqgbdhm fwchqjor            GRP_0  \n",
              "4341  eqmuniov ehxkcbgj            GRP_0  "
            ],
            "text/html": [
              "\n",
              "  <div id=\"df-971f9769-f9f2-4b1e-bf23-047222af979b\">\n",
              "    <div class=\"colab-df-container\">\n",
              "      <div>\n",
              "<style scoped>\n",
              "    .dataframe tbody tr th:only-of-type {\n",
              "        vertical-align: middle;\n",
              "    }\n",
              "\n",
              "    .dataframe tbody tr th {\n",
              "        vertical-align: top;\n",
              "    }\n",
              "\n",
              "    .dataframe thead th {\n",
              "        text-align: right;\n",
              "    }\n",
              "</style>\n",
              "<table border=\"1\" class=\"dataframe\">\n",
              "  <thead>\n",
              "    <tr style=\"text-align: right;\">\n",
              "      <th></th>\n",
              "      <th>Short description</th>\n",
              "      <th>Description</th>\n",
              "      <th>Caller</th>\n",
              "      <th>Assignment group</th>\n",
              "    </tr>\n",
              "  </thead>\n",
              "  <tbody>\n",
              "    <tr>\n",
              "      <th>2604</th>\n",
              "      <td>NaN</td>\n",
              "      <td>_x000D_\\n_x000D_\\nreceived from: ohdrnswl.rezu...</td>\n",
              "      <td>ohdrnswl rezuibdt</td>\n",
              "      <td>GRP_34</td>\n",
              "    </tr>\n",
              "    <tr>\n",
              "      <th>3383</th>\n",
              "      <td>NaN</td>\n",
              "      <td>_x000D_\\n-connected to the user system using t...</td>\n",
              "      <td>qftpazns fxpnytmk</td>\n",
              "      <td>GRP_0</td>\n",
              "    </tr>\n",
              "    <tr>\n",
              "      <th>3906</th>\n",
              "      <td>NaN</td>\n",
              "      <td>-user unable  tologin to vpn._x000D_\\n-connect...</td>\n",
              "      <td>awpcmsey ctdiuqwe</td>\n",
              "      <td>GRP_0</td>\n",
              "    </tr>\n",
              "    <tr>\n",
              "      <th>3910</th>\n",
              "      <td>NaN</td>\n",
              "      <td>-user unable  tologin to vpn._x000D_\\n-connect...</td>\n",
              "      <td>rhwsmefo tvphyura</td>\n",
              "      <td>GRP_0</td>\n",
              "    </tr>\n",
              "    <tr>\n",
              "      <th>3915</th>\n",
              "      <td>NaN</td>\n",
              "      <td>-user unable  tologin to vpn._x000D_\\n-connect...</td>\n",
              "      <td>hxripljo efzounig</td>\n",
              "      <td>GRP_0</td>\n",
              "    </tr>\n",
              "    <tr>\n",
              "      <th>3921</th>\n",
              "      <td>NaN</td>\n",
              "      <td>-user unable  tologin to vpn._x000D_\\n-connect...</td>\n",
              "      <td>cziadygo veiosxby</td>\n",
              "      <td>GRP_0</td>\n",
              "    </tr>\n",
              "    <tr>\n",
              "      <th>3924</th>\n",
              "      <td>NaN</td>\n",
              "      <td>name:wvqgbdhm fwchqjor\\nlanguage:\\nbrowser:mic...</td>\n",
              "      <td>wvqgbdhm fwchqjor</td>\n",
              "      <td>GRP_0</td>\n",
              "    </tr>\n",
              "    <tr>\n",
              "      <th>4341</th>\n",
              "      <td>NaN</td>\n",
              "      <td>_x000D_\\n_x000D_\\nreceived from: eqmuniov.ehxk...</td>\n",
              "      <td>eqmuniov ehxkcbgj</td>\n",
              "      <td>GRP_0</td>\n",
              "    </tr>\n",
              "  </tbody>\n",
              "</table>\n",
              "</div>\n",
              "      <button class=\"colab-df-convert\" onclick=\"convertToInteractive('df-971f9769-f9f2-4b1e-bf23-047222af979b')\"\n",
              "              title=\"Convert this dataframe to an interactive table.\"\n",
              "              style=\"display:none;\">\n",
              "        \n",
              "  <svg xmlns=\"http://www.w3.org/2000/svg\" height=\"24px\"viewBox=\"0 0 24 24\"\n",
              "       width=\"24px\">\n",
              "    <path d=\"M0 0h24v24H0V0z\" fill=\"none\"/>\n",
              "    <path d=\"M18.56 5.44l.94 2.06.94-2.06 2.06-.94-2.06-.94-.94-2.06-.94 2.06-2.06.94zm-11 1L8.5 8.5l.94-2.06 2.06-.94-2.06-.94L8.5 2.5l-.94 2.06-2.06.94zm10 10l.94 2.06.94-2.06 2.06-.94-2.06-.94-.94-2.06-.94 2.06-2.06.94z\"/><path d=\"M17.41 7.96l-1.37-1.37c-.4-.4-.92-.59-1.43-.59-.52 0-1.04.2-1.43.59L10.3 9.45l-7.72 7.72c-.78.78-.78 2.05 0 2.83L4 21.41c.39.39.9.59 1.41.59.51 0 1.02-.2 1.41-.59l7.78-7.78 2.81-2.81c.8-.78.8-2.07 0-2.86zM5.41 20L4 18.59l7.72-7.72 1.47 1.35L5.41 20z\"/>\n",
              "  </svg>\n",
              "      </button>\n",
              "      \n",
              "  <style>\n",
              "    .colab-df-container {\n",
              "      display:flex;\n",
              "      flex-wrap:wrap;\n",
              "      gap: 12px;\n",
              "    }\n",
              "\n",
              "    .colab-df-convert {\n",
              "      background-color: #E8F0FE;\n",
              "      border: none;\n",
              "      border-radius: 50%;\n",
              "      cursor: pointer;\n",
              "      display: none;\n",
              "      fill: #1967D2;\n",
              "      height: 32px;\n",
              "      padding: 0 0 0 0;\n",
              "      width: 32px;\n",
              "    }\n",
              "\n",
              "    .colab-df-convert:hover {\n",
              "      background-color: #E2EBFA;\n",
              "      box-shadow: 0px 1px 2px rgba(60, 64, 67, 0.3), 0px 1px 3px 1px rgba(60, 64, 67, 0.15);\n",
              "      fill: #174EA6;\n",
              "    }\n",
              "\n",
              "    [theme=dark] .colab-df-convert {\n",
              "      background-color: #3B4455;\n",
              "      fill: #D2E3FC;\n",
              "    }\n",
              "\n",
              "    [theme=dark] .colab-df-convert:hover {\n",
              "      background-color: #434B5C;\n",
              "      box-shadow: 0px 1px 3px 1px rgba(0, 0, 0, 0.15);\n",
              "      filter: drop-shadow(0px 1px 2px rgba(0, 0, 0, 0.3));\n",
              "      fill: #FFFFFF;\n",
              "    }\n",
              "  </style>\n",
              "\n",
              "      <script>\n",
              "        const buttonEl =\n",
              "          document.querySelector('#df-971f9769-f9f2-4b1e-bf23-047222af979b button.colab-df-convert');\n",
              "        buttonEl.style.display =\n",
              "          google.colab.kernel.accessAllowed ? 'block' : 'none';\n",
              "\n",
              "        async function convertToInteractive(key) {\n",
              "          const element = document.querySelector('#df-971f9769-f9f2-4b1e-bf23-047222af979b');\n",
              "          const dataTable =\n",
              "            await google.colab.kernel.invokeFunction('convertToInteractive',\n",
              "                                                     [key], {});\n",
              "          if (!dataTable) return;\n",
              "\n",
              "          const docLinkHtml = 'Like what you see? Visit the ' +\n",
              "            '<a target=\"_blank\" href=https://colab.research.google.com/notebooks/data_table.ipynb>data table notebook</a>'\n",
              "            + ' to learn more about interactive tables.';\n",
              "          element.innerHTML = '';\n",
              "          dataTable['output_type'] = 'display_data';\n",
              "          await google.colab.output.renderOutput(dataTable, element);\n",
              "          const docLink = document.createElement('div');\n",
              "          docLink.innerHTML = docLinkHtml;\n",
              "          element.appendChild(docLink);\n",
              "        }\n",
              "      </script>\n",
              "    </div>\n",
              "  </div>\n",
              "  "
            ]
          },
          "metadata": {},
          "execution_count": 14
        }
      ],
      "source": [
        "data[data['Short description'].isnull()]"
      ]
    },
    {
      "cell_type": "code",
      "execution_count": 15,
      "metadata": {
        "colab": {
          "base_uri": "https://localhost:8080/"
        },
        "id": "RHiRl19xZ9SO",
        "outputId": "376120df-9f93-411b-c764-efb90e530436"
      },
      "outputs": [
        {
          "output_type": "execute_result",
          "data": {
            "text/plain": [
              "(2950,)"
            ]
          },
          "metadata": {},
          "execution_count": 15
        }
      ],
      "source": [
        "datacallers = data['Caller'].unique() \n",
        "datacallers.shape"
      ]
    },
    {
      "cell_type": "code",
      "execution_count": 16,
      "metadata": {
        "colab": {
          "base_uri": "https://localhost:8080/"
        },
        "id": "oAEU-32-aGuZ",
        "outputId": "1ab855ca-1501-46ea-b65c-625e20074399"
      },
      "outputs": [
        {
          "output_type": "stream",
          "name": "stdout",
          "text": [
            "<class 'pandas.core.frame.DataFrame'>\n",
            "Int64Index: 8417 entries, 0 to 8499\n",
            "Data columns (total 2 columns):\n",
            " #   Column            Non-Null Count  Dtype \n",
            "---  ------            --------------  ----- \n",
            " 0   Description       8417 non-null   object\n",
            " 1   Assignment group  8417 non-null   object\n",
            "dtypes: object(2)\n",
            "memory usage: 197.3+ KB\n"
          ]
        }
      ],
      "source": [
        "dfbck=data.copy(deep=True)\n",
        "data.drop([\"Caller\",\"Short description\"],axis=1,inplace= True)\n",
        "data.info()"
      ]
    },
    {
      "cell_type": "code",
      "execution_count": 17,
      "metadata": {
        "colab": {
          "base_uri": "https://localhost:8080/"
        },
        "id": "OnlJaCb-aUWn",
        "outputId": "261c64cb-acf0-4983-ef8c-94eaab9d0f68"
      },
      "outputs": [
        {
          "output_type": "execute_result",
          "data": {
            "text/plain": [
              "Description         0\n",
              "Assignment group    0\n",
              "dtype: int64"
            ]
          },
          "metadata": {},
          "execution_count": 17
        }
      ],
      "source": [
        "data.isnull().sum()"
      ]
    },
    {
      "cell_type": "code",
      "execution_count": 18,
      "metadata": {
        "colab": {
          "base_uri": "https://localhost:8080/"
        },
        "id": "zithkCVqadTd",
        "outputId": "095fcd04-5bba-4b5a-d9f5-fa3283fa9511"
      },
      "outputs": [
        {
          "output_type": "execute_result",
          "data": {
            "text/plain": [
              "array(['GRP_0', 'GRP_1', 'GRP_3', 'GRP_4', 'GRP_5', 'GRP_6', 'GRP_7',\n",
              "       'GRP_8', 'GRP_9', 'GRP_10', 'GRP_11', 'GRP_12', 'GRP_13', 'GRP_14',\n",
              "       'GRP_15', 'GRP_16', 'GRP_17', 'GRP_18', 'GRP_19', 'GRP_2',\n",
              "       'GRP_20', 'GRP_21', 'GRP_22', 'GRP_23', 'GRP_24', 'GRP_25',\n",
              "       'GRP_26', 'GRP_27', 'GRP_28', 'GRP_29', 'GRP_30', 'GRP_31',\n",
              "       'GRP_33', 'GRP_34', 'GRP_35', 'GRP_36', 'GRP_37', 'GRP_38',\n",
              "       'GRP_39', 'GRP_40', 'GRP_41', 'GRP_42', 'GRP_43', 'GRP_44',\n",
              "       'GRP_45', 'GRP_46', 'GRP_47', 'GRP_48', 'GRP_49', 'GRP_50',\n",
              "       'GRP_51', 'GRP_52', 'GRP_53', 'GRP_54', 'GRP_55', 'GRP_56',\n",
              "       'GRP_57', 'GRP_58', 'GRP_59', 'GRP_60', 'GRP_61', 'GRP_32',\n",
              "       'GRP_62', 'GRP_63', 'GRP_64', 'GRP_65', 'GRP_66', 'GRP_67',\n",
              "       'GRP_68', 'GRP_69', 'GRP_70', 'GRP_71', 'GRP_72', 'GRP_73'],\n",
              "      dtype=object)"
            ]
          },
          "metadata": {},
          "execution_count": 18
        }
      ],
      "source": [
        "data[\"Assignment group\"].unique()"
      ]
    },
    {
      "cell_type": "code",
      "execution_count": 19,
      "metadata": {
        "colab": {
          "base_uri": "https://localhost:8080/",
          "height": 424
        },
        "id": "QT-PR4lNapsr",
        "outputId": "cc4e0fc3-791a-4011-e835-39db1563d95e"
      },
      "outputs": [
        {
          "output_type": "execute_result",
          "data": {
            "text/plain": [
              "   Assignment group  counts\n",
              "0             GRP_0    3934\n",
              "1             GRP_1      31\n",
              "2            GRP_10     140\n",
              "3            GRP_11      30\n",
              "4            GRP_12     257\n",
              "..              ...     ...\n",
              "69           GRP_71       2\n",
              "70           GRP_72       2\n",
              "71           GRP_73       1\n",
              "72            GRP_8     645\n",
              "73            GRP_9     252\n",
              "\n",
              "[74 rows x 2 columns]"
            ],
            "text/html": [
              "\n",
              "  <div id=\"df-8ae76c11-a34f-40aa-a844-4949bba3ea34\">\n",
              "    <div class=\"colab-df-container\">\n",
              "      <div>\n",
              "<style scoped>\n",
              "    .dataframe tbody tr th:only-of-type {\n",
              "        vertical-align: middle;\n",
              "    }\n",
              "\n",
              "    .dataframe tbody tr th {\n",
              "        vertical-align: top;\n",
              "    }\n",
              "\n",
              "    .dataframe thead th {\n",
              "        text-align: right;\n",
              "    }\n",
              "</style>\n",
              "<table border=\"1\" class=\"dataframe\">\n",
              "  <thead>\n",
              "    <tr style=\"text-align: right;\">\n",
              "      <th></th>\n",
              "      <th>Assignment group</th>\n",
              "      <th>counts</th>\n",
              "    </tr>\n",
              "  </thead>\n",
              "  <tbody>\n",
              "    <tr>\n",
              "      <th>0</th>\n",
              "      <td>GRP_0</td>\n",
              "      <td>3934</td>\n",
              "    </tr>\n",
              "    <tr>\n",
              "      <th>1</th>\n",
              "      <td>GRP_1</td>\n",
              "      <td>31</td>\n",
              "    </tr>\n",
              "    <tr>\n",
              "      <th>2</th>\n",
              "      <td>GRP_10</td>\n",
              "      <td>140</td>\n",
              "    </tr>\n",
              "    <tr>\n",
              "      <th>3</th>\n",
              "      <td>GRP_11</td>\n",
              "      <td>30</td>\n",
              "    </tr>\n",
              "    <tr>\n",
              "      <th>4</th>\n",
              "      <td>GRP_12</td>\n",
              "      <td>257</td>\n",
              "    </tr>\n",
              "    <tr>\n",
              "      <th>...</th>\n",
              "      <td>...</td>\n",
              "      <td>...</td>\n",
              "    </tr>\n",
              "    <tr>\n",
              "      <th>69</th>\n",
              "      <td>GRP_71</td>\n",
              "      <td>2</td>\n",
              "    </tr>\n",
              "    <tr>\n",
              "      <th>70</th>\n",
              "      <td>GRP_72</td>\n",
              "      <td>2</td>\n",
              "    </tr>\n",
              "    <tr>\n",
              "      <th>71</th>\n",
              "      <td>GRP_73</td>\n",
              "      <td>1</td>\n",
              "    </tr>\n",
              "    <tr>\n",
              "      <th>72</th>\n",
              "      <td>GRP_8</td>\n",
              "      <td>645</td>\n",
              "    </tr>\n",
              "    <tr>\n",
              "      <th>73</th>\n",
              "      <td>GRP_9</td>\n",
              "      <td>252</td>\n",
              "    </tr>\n",
              "  </tbody>\n",
              "</table>\n",
              "<p>74 rows × 2 columns</p>\n",
              "</div>\n",
              "      <button class=\"colab-df-convert\" onclick=\"convertToInteractive('df-8ae76c11-a34f-40aa-a844-4949bba3ea34')\"\n",
              "              title=\"Convert this dataframe to an interactive table.\"\n",
              "              style=\"display:none;\">\n",
              "        \n",
              "  <svg xmlns=\"http://www.w3.org/2000/svg\" height=\"24px\"viewBox=\"0 0 24 24\"\n",
              "       width=\"24px\">\n",
              "    <path d=\"M0 0h24v24H0V0z\" fill=\"none\"/>\n",
              "    <path d=\"M18.56 5.44l.94 2.06.94-2.06 2.06-.94-2.06-.94-.94-2.06-.94 2.06-2.06.94zm-11 1L8.5 8.5l.94-2.06 2.06-.94-2.06-.94L8.5 2.5l-.94 2.06-2.06.94zm10 10l.94 2.06.94-2.06 2.06-.94-2.06-.94-.94-2.06-.94 2.06-2.06.94z\"/><path d=\"M17.41 7.96l-1.37-1.37c-.4-.4-.92-.59-1.43-.59-.52 0-1.04.2-1.43.59L10.3 9.45l-7.72 7.72c-.78.78-.78 2.05 0 2.83L4 21.41c.39.39.9.59 1.41.59.51 0 1.02-.2 1.41-.59l7.78-7.78 2.81-2.81c.8-.78.8-2.07 0-2.86zM5.41 20L4 18.59l7.72-7.72 1.47 1.35L5.41 20z\"/>\n",
              "  </svg>\n",
              "      </button>\n",
              "      \n",
              "  <style>\n",
              "    .colab-df-container {\n",
              "      display:flex;\n",
              "      flex-wrap:wrap;\n",
              "      gap: 12px;\n",
              "    }\n",
              "\n",
              "    .colab-df-convert {\n",
              "      background-color: #E8F0FE;\n",
              "      border: none;\n",
              "      border-radius: 50%;\n",
              "      cursor: pointer;\n",
              "      display: none;\n",
              "      fill: #1967D2;\n",
              "      height: 32px;\n",
              "      padding: 0 0 0 0;\n",
              "      width: 32px;\n",
              "    }\n",
              "\n",
              "    .colab-df-convert:hover {\n",
              "      background-color: #E2EBFA;\n",
              "      box-shadow: 0px 1px 2px rgba(60, 64, 67, 0.3), 0px 1px 3px 1px rgba(60, 64, 67, 0.15);\n",
              "      fill: #174EA6;\n",
              "    }\n",
              "\n",
              "    [theme=dark] .colab-df-convert {\n",
              "      background-color: #3B4455;\n",
              "      fill: #D2E3FC;\n",
              "    }\n",
              "\n",
              "    [theme=dark] .colab-df-convert:hover {\n",
              "      background-color: #434B5C;\n",
              "      box-shadow: 0px 1px 3px 1px rgba(0, 0, 0, 0.15);\n",
              "      filter: drop-shadow(0px 1px 2px rgba(0, 0, 0, 0.3));\n",
              "      fill: #FFFFFF;\n",
              "    }\n",
              "  </style>\n",
              "\n",
              "      <script>\n",
              "        const buttonEl =\n",
              "          document.querySelector('#df-8ae76c11-a34f-40aa-a844-4949bba3ea34 button.colab-df-convert');\n",
              "        buttonEl.style.display =\n",
              "          google.colab.kernel.accessAllowed ? 'block' : 'none';\n",
              "\n",
              "        async function convertToInteractive(key) {\n",
              "          const element = document.querySelector('#df-8ae76c11-a34f-40aa-a844-4949bba3ea34');\n",
              "          const dataTable =\n",
              "            await google.colab.kernel.invokeFunction('convertToInteractive',\n",
              "                                                     [key], {});\n",
              "          if (!dataTable) return;\n",
              "\n",
              "          const docLinkHtml = 'Like what you see? Visit the ' +\n",
              "            '<a target=\"_blank\" href=https://colab.research.google.com/notebooks/data_table.ipynb>data table notebook</a>'\n",
              "            + ' to learn more about interactive tables.';\n",
              "          element.innerHTML = '';\n",
              "          dataTable['output_type'] = 'display_data';\n",
              "          await google.colab.output.renderOutput(dataTable, element);\n",
              "          const docLink = document.createElement('div');\n",
              "          docLink.innerHTML = docLinkHtml;\n",
              "          element.appendChild(docLink);\n",
              "        }\n",
              "      </script>\n",
              "    </div>\n",
              "  </div>\n",
              "  "
            ]
          },
          "metadata": {},
          "execution_count": 19
        }
      ],
      "source": [
        "# Target class is imbalanced\n",
        "cls=data.groupby(['Assignment group']).size().reset_index(name='counts')\n",
        "cls"
      ]
    },
    {
      "cell_type": "code",
      "execution_count": 20,
      "metadata": {
        "colab": {
          "base_uri": "https://localhost:8080/",
          "height": 822
        },
        "id": "HcGSvUW9a7CA",
        "outputId": "2c311bc3-0d61-4451-ede5-416a33e0e538"
      },
      "outputs": [
        {
          "output_type": "display_data",
          "data": {
            "text/plain": [
              "<Figure size 1800x1224 with 1 Axes>"
            ],
            "image/png": "[encoded data removed]"
          },
          "metadata": {}
        }
      ],
      "source": [
        "import seaborn as sns\n",
        "sns.set_style('darkgrid')\n",
        "plt.figure(figsize=(25,17))\n",
        "g=sns.countplot(x='Assignment group', data=data);\n",
        "g.set_xticklabels(g.get_xticklabels(), rotation=90)\n",
        "g.set_xlabel(\"Assignment group\",fontsize=20)\n",
        "g.set_ylabel(\"Count\",fontsize=20)\n",
        "g.tick_params(labelsize=15)\n",
        "for p in g.patches:\n",
        "    g.annotate(f'\\n{p.get_height()}', (p.get_x()+0.2, p.get_height()+120), ha='center', va='top', color='black', size=15)\n",
        "plt.show()"
      ]
    },
    {
      "cell_type": "code",
      "execution_count": 21,
      "metadata": {
        "colab": {
          "base_uri": "https://localhost:8080/"
        },
        "id": "nenFp1YDbff9",
        "outputId": "3dcfe806-80bc-49a5-977a-37031caafb23"
      },
      "outputs": [
        {
          "output_type": "execute_result",
          "data": {
            "text/plain": [
              "count      74.000000\n",
              "mean      113.743243\n",
              "std       460.731077\n",
              "min         1.000000\n",
              "25%         5.250000\n",
              "50%        26.000000\n",
              "75%        81.000000\n",
              "max      3934.000000\n",
              "Name: Assignment group, dtype: float64"
            ]
          },
          "metadata": {},
          "execution_count": 21
        }
      ],
      "source": [
        "targetCnt=data['Assignment group'].value_counts()\n",
        "targetCnt.describe()"
      ]
    },
    {
      "cell_type": "code",
      "execution_count": 22,
      "metadata": {
        "colab": {
          "base_uri": "https://localhost:8080/"
        },
        "id": "n7GohHG5bpJk",
        "outputId": "63d50c78-c502-4528-e808-183044c2efda"
      },
      "outputs": [
        {
          "output_type": "stream",
          "name": "stdout",
          "text": [
            "[nltk_data] Downloading package punkt to /root/nltk_data...\n",
            "[nltk_data]   Unzipping tokenizers/punkt.zip.\n",
            "[nltk_data] Downloading package stopwords to /root/nltk_data...\n",
            "[nltk_data]   Unzipping corpora/stopwords.zip.\n",
            "[nltk_data] Downloading package wordnet to /root/nltk_data...\n",
            "[nltk_data]   Unzipping corpora/wordnet.zip.\n"
          ]
        },
        {
          "output_type": "execute_result",
          "data": {
            "text/plain": [
              "True"
            ]
          },
          "metadata": {},
          "execution_count": 22
        }
      ],
      "source": [
        "import nltk\n",
        "nltk.download('punkt')\n",
        "nltk.download('stopwords')\n",
        "nltk.download('wordnet')"
      ]
    },
    {
      "cell_type": "code",
      "execution_count": 23,
      "metadata": {
        "id": "Z17kmStabtvN"
      },
      "outputs": [],
      "source": [
        "from bs4 import BeautifulSoup\n",
        "import re\n",
        "import unicodedata\n",
        "from nltk import word_tokenize\n",
        "from nltk.stem import WordNetLemmatizer\n",
        "from nltk.corpus import stopwords                   \n",
        "from nltk.stem import PorterStemmer\n",
        "stop_words = set(stopwords.words('english'))"
      ]
    },
    {
      "cell_type": "code",
      "execution_count": 24,
      "metadata": {
        "id": "1Pwjzz-UbzqJ"
      },
      "outputs": [],
      "source": [
        "def strip_html_tags(text):\n",
        "    soup = BeautifulSoup(text, \"html.parser\")\n",
        "    stripped_text = soup.get_text()\n",
        "    return stripped_text\n",
        "\n",
        "def remove_accented_chars(text):\n",
        "    text = unicodedata.normalize('NFKD', text).encode('ascii', 'ignore').decode('utf-8', 'ignore')\n",
        "    return text\n",
        "\n",
        "def remove_special_characters(text, remove_digits=False):\n",
        "    #Using regex\n",
        "    pattern = r'[^a-zA-z0-9\\s]' if not remove_digits else r'[^a-zA-z\\s]'\n",
        "    text = re.sub(pattern, '', text)\n",
        "    # Single character removal\n",
        "    text = re.sub(r\"\\s+[a-zA-Z]\\s+\", ' ', text)\n",
        "    return text\n",
        "\n",
        "def remove_stopwords(text):\n",
        "    word_tokens = word_tokenize(text)\n",
        "    filtered_sentence = [w for w in word_tokens if not w in stop_words]\n",
        "    return ' '.join(filtered_sentence)\n",
        "\n",
        "def lemmatize_text(text):\n",
        "    lemmatizer = WordNetLemmatizer()\n",
        "    return ' '.join([lemmatizer.lemmatize(word) for word in text.split()])  \n"
      ]
    },
    {
      "cell_type": "code",
      "execution_count": 25,
      "metadata": {
        "id": "Y1ABIaXhcBj0"
      },
      "outputs": [],
      "source": [
        "def clean_text(text):\n",
        "    text=text.lower()\n",
        "    text= re.sub(r\"_x000D_\",' ',text)\n",
        "    text = re.sub(r'[\\r|\\n|\\r\\n]+', ' ',text)\n",
        "    text = re.sub(r\"received from:\",' ',text)\n",
        "    text = re.sub(r\"from:\",' ',text)\n",
        "    text = re.sub(r\"to:\",' ',text)\n",
        "    text = re.sub(r\"subject:\",' ',text)\n",
        "    text = re.sub(r\"sent:\",' ',text)\n",
        "    text = re.sub(r\"ic:\",' ',text)\n",
        "    text = re.sub(r\"cc:\",' ',text)\n",
        "    text = re.sub(r\"bcc:\",' ',text)\n",
        "    text = re.sub(r\"issue resolved.\",' ', text)\n",
        "    # Removing url\n",
        "    text = re.sub(r'^https?:\\/\\/.*[\\r\\n]*', '', text, flags=re.MULTILINE)\n",
        "    #Removing email \n",
        "    text = re.sub(r'\\S+@\\S+', '', text)\n",
        "    text = text.replace(\"\\\\\", ' ')\n",
        "    # Removing numbers \n",
        "    text = re.sub(r'\\d+','' ,text)\n",
        "    # Removing accented characters\n",
        "    text = remove_accented_chars(text)\n",
        "    # Remove new line characters \n",
        "    text = re.sub(r'\\n',' ',text)\n",
        "    # Remove hashtag while keeping hashtag text\n",
        "    text = re.sub(r'#','', text)\n",
        "    #& \n",
        "    text = re.sub(r'&;?', 'and',text)\n",
        "    # Remove HTML special entities (e.g. &amp;)\n",
        "    text= strip_html_tags(text)\n",
        "    # Remove characters beyond Readable formart by Unicode:\n",
        "    text= ''.join(c for c in text if c <= '\\uFFFF') \n",
        "    text = text.strip()\n",
        "    # Removing special characters and\\or digits    \n",
        "    special_char_pattern = re.compile(r'([{.(-)!_,}])')\n",
        "    text = special_char_pattern.sub(\" \\\\1 \", text)\n",
        "    text = remove_special_characters(text, remove_digits=True) \n",
        "    # Remove unreadable characters  (also extra spaces)\n",
        "    text = ' '.join(re.sub(\"[^\\u0030-\\u0039\\u0041-\\u005a\\u0061-\\u007a]\", \" \", text).split())\n",
        "    for name in datacallers:\n",
        "      namelist = [part for part in name.split()]\n",
        "      for namepart in namelist: \n",
        "          text = text.replace(namepart,'')\n",
        "          \n",
        "    text = re.sub(r\"\\s+[a-zA-Z]\\s+\", ' ', text)\n",
        "    text = re.sub(' +', ' ', text)\n",
        "    text = text.strip()\n",
        "\n",
        "    return text"
      ]
    },
    {
      "cell_type": "code",
      "execution_count": 26,
      "metadata": {
        "id": "eyq4EH3HcKxj"
      },
      "outputs": [],
      "source": [
        "data['Clndescription'] = data['Description'].apply(clean_text)"
      ]
    },
    {
      "cell_type": "code",
      "execution_count": 27,
      "metadata": {
        "colab": {
          "base_uri": "https://localhost:8080/",
          "height": 363
        },
        "id": "WWbGTzGkckm5",
        "outputId": "55c4cb2d-a7d5-4cff-ca9f-df9b7fdb5d15"
      },
      "outputs": [
        {
          "output_type": "execute_result",
          "data": {
            "text/plain": [
              "                                            Description Assignment group  \\\n",
              "5698  please help unlock the accounts of the followi...            GRP_0   \n",
              "6632  _x000D_\\n_x000D_\\nreceived from: wrelsfqa.qfwo...            GRP_2   \n",
              "3550                             unable to open outlook            GRP_0   \n",
              "7307  å®žä¹ ç”Ÿç™»å½•office365ä¸‹è½½é‚®ä»¶é™„ä»¶æ—¶æ...           GRP_30   \n",
              "7352  dsw ticket in33426117_x000D_\\n_x000D_\\nevent i...            GRP_2   \n",
              "775                           unable to open eps files             GRP_0   \n",
              "800   _x000D_\\na termination for svfuhlnx aqrzskpg, ...            GRP_2   \n",
              "1675  1.)     briefly describe what you were trying ...           GRP_11   \n",
              "5475  sd_sales_order* jobs abended in job_scheduler ...            GRP_5   \n",
              "2299  hi khadfhty,\\n\\ntoday, i created another lean ...           GRP_16   \n",
              "\n",
              "                                         Clndescription  \n",
              "5698  please help unlock the accounts of the followi...  \n",
              "6632  xd xd xd good morning xd xd please can you usa...  \n",
              "3550                             unable to open outlook  \n",
              "7307                      aza cycTMaofficea eeaeTMaseTM  \n",
              "7352  dsw ticket in xd xd event id xd event summary ...  \n",
              "775                            unable to open eps files  \n",
              "800   xd termination for svfuhlnx aqrzskpg effective...  \n",
              "1675  briefly describe what you were trying to do an...  \n",
              "5475  sd sales order jobs abended in job scheduler d...  \n",
              "2299  hi khadfhty today created another lean event b...  "
            ],
            "text/html": [
              "\n",
              "  <div id=\"df-555f18c9-02e5-4d7f-b363-62b86af60abc\">\n",
              "    <div class=\"colab-df-container\">\n",
              "      <div>\n",
              "<style scoped>\n",
              "    .dataframe tbody tr th:only-of-type {\n",
              "        vertical-align: middle;\n",
              "    }\n",
              "\n",
              "    .dataframe tbody tr th {\n",
              "        vertical-align: top;\n",
              "    }\n",
              "\n",
              "    .dataframe thead th {\n",
              "        text-align: right;\n",
              "    }\n",
              "</style>\n",
              "<table border=\"1\" class=\"dataframe\">\n",
              "  <thead>\n",
              "    <tr style=\"text-align: right;\">\n",
              "      <th></th>\n",
              "      <th>Description</th>\n",
              "      <th>Assignment group</th>\n",
              "      <th>Clndescription</th>\n",
              "    </tr>\n",
              "  </thead>\n",
              "  <tbody>\n",
              "    <tr>\n",
              "      <th>5698</th>\n",
              "      <td>please help unlock the accounts of the followi...</td>\n",
              "      <td>GRP_0</td>\n",
              "      <td>please help unlock the accounts of the followi...</td>\n",
              "    </tr>\n",
              "    <tr>\n",
              "      <th>6632</th>\n",
              "      <td>_x000D_\\n_x000D_\\nreceived from: wrelsfqa.qfwo...</td>\n",
              "      <td>GRP_2</td>\n",
              "      <td>xd xd xd good morning xd xd please can you usa...</td>\n",
              "    </tr>\n",
              "    <tr>\n",
              "      <th>3550</th>\n",
              "      <td>unable to open outlook</td>\n",
              "      <td>GRP_0</td>\n",
              "      <td>unable to open outlook</td>\n",
              "    </tr>\n",
              "    <tr>\n",
              "      <th>7307</th>\n",
              "      <td>å®žä¹ ç”Ÿç™»å½•office365ä¸‹è½½é‚®ä»¶é™„ä»¶æ—¶æ...</td>\n",
              "      <td>GRP_30</td>\n",
              "      <td>aza cycTMaofficea eeaeTMaseTM</td>\n",
              "    </tr>\n",
              "    <tr>\n",
              "      <th>7352</th>\n",
              "      <td>dsw ticket in33426117_x000D_\\n_x000D_\\nevent i...</td>\n",
              "      <td>GRP_2</td>\n",
              "      <td>dsw ticket in xd xd event id xd event summary ...</td>\n",
              "    </tr>\n",
              "    <tr>\n",
              "      <th>775</th>\n",
              "      <td>unable to open eps files</td>\n",
              "      <td>GRP_0</td>\n",
              "      <td>unable to open eps files</td>\n",
              "    </tr>\n",
              "    <tr>\n",
              "      <th>800</th>\n",
              "      <td>_x000D_\\na termination for svfuhlnx aqrzskpg, ...</td>\n",
              "      <td>GRP_2</td>\n",
              "      <td>xd termination for svfuhlnx aqrzskpg effective...</td>\n",
              "    </tr>\n",
              "    <tr>\n",
              "      <th>1675</th>\n",
              "      <td>1.)     briefly describe what you were trying ...</td>\n",
              "      <td>GRP_11</td>\n",
              "      <td>briefly describe what you were trying to do an...</td>\n",
              "    </tr>\n",
              "    <tr>\n",
              "      <th>5475</th>\n",
              "      <td>sd_sales_order* jobs abended in job_scheduler ...</td>\n",
              "      <td>GRP_5</td>\n",
              "      <td>sd sales order jobs abended in job scheduler d...</td>\n",
              "    </tr>\n",
              "    <tr>\n",
              "      <th>2299</th>\n",
              "      <td>hi khadfhty,\\n\\ntoday, i created another lean ...</td>\n",
              "      <td>GRP_16</td>\n",
              "      <td>hi khadfhty today created another lean event b...</td>\n",
              "    </tr>\n",
              "  </tbody>\n",
              "</table>\n",
              "</div>\n",
              "      <button class=\"colab-df-convert\" onclick=\"convertToInteractive('df-555f18c9-02e5-4d7f-b363-62b86af60abc')\"\n",
              "              title=\"Convert this dataframe to an interactive table.\"\n",
              "              style=\"display:none;\">\n",
              "        \n",
              "  <svg xmlns=\"http://www.w3.org/2000/svg\" height=\"24px\"viewBox=\"0 0 24 24\"\n",
              "       width=\"24px\">\n",
              "    <path d=\"M0 0h24v24H0V0z\" fill=\"none\"/>\n",
              "    <path d=\"M18.56 5.44l.94 2.06.94-2.06 2.06-.94-2.06-.94-.94-2.06-.94 2.06-2.06.94zm-11 1L8.5 8.5l.94-2.06 2.06-.94-2.06-.94L8.5 2.5l-.94 2.06-2.06.94zm10 10l.94 2.06.94-2.06 2.06-.94-2.06-.94-.94-2.06-.94 2.06-2.06.94z\"/><path d=\"M17.41 7.96l-1.37-1.37c-.4-.4-.92-.59-1.43-.59-.52 0-1.04.2-1.43.59L10.3 9.45l-7.72 7.72c-.78.78-.78 2.05 0 2.83L4 21.41c.39.39.9.59 1.41.59.51 0 1.02-.2 1.41-.59l7.78-7.78 2.81-2.81c.8-.78.8-2.07 0-2.86zM5.41 20L4 18.59l7.72-7.72 1.47 1.35L5.41 20z\"/>\n",
              "  </svg>\n",
              "      </button>\n",
              "      \n",
              "  <style>\n",
              "    .colab-df-container {\n",
              "      display:flex;\n",
              "      flex-wrap:wrap;\n",
              "      gap: 12px;\n",
              "    }\n",
              "\n",
              "    .colab-df-convert {\n",
              "      background-color: #E8F0FE;\n",
              "      border: none;\n",
              "      border-radius: 50%;\n",
              "      cursor: pointer;\n",
              "      display: none;\n",
              "      fill: #1967D2;\n",
              "      height: 32px;\n",
              "      padding: 0 0 0 0;\n",
              "      width: 32px;\n",
              "    }\n",
              "\n",
              "    .colab-df-convert:hover {\n",
              "      background-color: #E2EBFA;\n",
              "      box-shadow: 0px 1px 2px rgba(60, 64, 67, 0.3), 0px 1px 3px 1px rgba(60, 64, 67, 0.15);\n",
              "      fill: #174EA6;\n",
              "    }\n",
              "\n",
              "    [theme=dark] .colab-df-convert {\n",
              "      background-color: #3B4455;\n",
              "      fill: #D2E3FC;\n",
              "    }\n",
              "\n",
              "    [theme=dark] .colab-df-convert:hover {\n",
              "      background-color: #434B5C;\n",
              "      box-shadow: 0px 1px 3px 1px rgba(0, 0, 0, 0.15);\n",
              "      filter: drop-shadow(0px 1px 2px rgba(0, 0, 0, 0.3));\n",
              "      fill: #FFFFFF;\n",
              "    }\n",
              "  </style>\n",
              "\n",
              "      <script>\n",
              "        const buttonEl =\n",
              "          document.querySelector('#df-555f18c9-02e5-4d7f-b363-62b86af60abc button.colab-df-convert');\n",
              "        buttonEl.style.display =\n",
              "          google.colab.kernel.accessAllowed ? 'block' : 'none';\n",
              "\n",
              "        async function convertToInteractive(key) {\n",
              "          const element = document.querySelector('#df-555f18c9-02e5-4d7f-b363-62b86af60abc');\n",
              "          const dataTable =\n",
              "            await google.colab.kernel.invokeFunction('convertToInteractive',\n",
              "                                                     [key], {});\n",
              "          if (!dataTable) return;\n",
              "\n",
              "          const docLinkHtml = 'Like what you see? Visit the ' +\n",
              "            '<a target=\"_blank\" href=https://colab.research.google.com/notebooks/data_table.ipynb>data table notebook</a>'\n",
              "            + ' to learn more about interactive tables.';\n",
              "          element.innerHTML = '';\n",
              "          dataTable['output_type'] = 'display_data';\n",
              "          await google.colab.output.renderOutput(dataTable, element);\n",
              "          const docLink = document.createElement('div');\n",
              "          docLink.innerHTML = docLinkHtml;\n",
              "          element.appendChild(docLink);\n",
              "        }\n",
              "      </script>\n",
              "    </div>\n",
              "  </div>\n",
              "  "
            ]
          },
          "metadata": {},
          "execution_count": 27
        }
      ],
      "source": [
        "data.sample(10) "
      ]
    },
    {
      "cell_type": "code",
      "execution_count": 28,
      "metadata": {
        "id": "86bJ5w2wcqZ4"
      },
      "outputs": [],
      "source": [
        "data=data.loc[(data.Clndescription.str.len() != 0)] "
      ]
    },
    {
      "cell_type": "code",
      "execution_count": 29,
      "metadata": {
        "colab": {
          "base_uri": "https://localhost:8080/"
        },
        "id": "qVtxZf6wdVe9",
        "outputId": "347b863f-cc65-4da0-ed0d-39af5c92192c"
      },
      "outputs": [
        {
          "output_type": "stream",
          "name": "stdout",
          "text": [
            "Collecting langdetect\n",
            "  Downloading langdetect-1.0.9.tar.gz (981 kB)\n",
            "\u001b[?25l\r\u001b[K     |▍                               | 10 kB 19.4 MB/s eta 0:00:01\r\u001b[K     |▊                               | 20 kB 13.0 MB/s eta 0:00:01\r\u001b[K     |█                               | 30 kB 9.5 MB/s eta 0:00:01\r\u001b[K     |█▍                              | 40 kB 7.9 MB/s eta 0:00:01\r\u001b[K     |█▊                              | 51 kB 4.2 MB/s eta 0:00:01\r\u001b[K     |██                              | 61 kB 4.9 MB/s eta 0:00:01\r\u001b[K     |██▍                             | 71 kB 5.2 MB/s eta 0:00:01\r\u001b[K     |██▊                             | 81 kB 5.3 MB/s eta 0:00:01\r\u001b[K     |███                             | 92 kB 5.9 MB/s eta 0:00:01\r\u001b[K     |███▍                            | 102 kB 5.1 MB/s eta 0:00:01\r\u001b[K     |███▊                            | 112 kB 5.1 MB/s eta 0:00:01\r\u001b[K     |████                            | 122 kB 5.1 MB/s eta 0:00:01\r\u001b[K     |████▍                           | 133 kB 5.1 MB/s eta 0:00:01\r\u001b[K     |████▊                           | 143 kB 5.1 MB/s eta 0:00:01\r\u001b[K     |█████                           | 153 kB 5.1 MB/s eta 0:00:01\r\u001b[K     |█████▍                          | 163 kB 5.1 MB/s eta 0:00:01\r\u001b[K     |█████▊                          | 174 kB 5.1 MB/s eta 0:00:01\r\u001b[K     |██████                          | 184 kB 5.1 MB/s eta 0:00:01\r\u001b[K     |██████▍                         | 194 kB 5.1 MB/s eta 0:00:01\r\u001b[K     |██████▊                         | 204 kB 5.1 MB/s eta 0:00:01\r\u001b[K     |███████                         | 215 kB 5.1 MB/s eta 0:00:01\r\u001b[K     |███████▍                        | 225 kB 5.1 MB/s eta 0:00:01\r\u001b[K     |███████▊                        | 235 kB 5.1 MB/s eta 0:00:01\r\u001b[K     |████████                        | 245 kB 5.1 MB/s eta 0:00:01\r\u001b[K     |████████▍                       | 256 kB 5.1 MB/s eta 0:00:01\r\u001b[K     |████████▊                       | 266 kB 5.1 MB/s eta 0:00:01\r\u001b[K     |█████████                       | 276 kB 5.1 MB/s eta 0:00:01\r\u001b[K     |█████████▍                      | 286 kB 5.1 MB/s eta 0:00:01\r\u001b[K     |█████████▊                      | 296 kB 5.1 MB/s eta 0:00:01\r\u001b[K     |██████████                      | 307 kB 5.1 MB/s eta 0:00:01\r\u001b[K     |██████████▍                     | 317 kB 5.1 MB/s eta 0:00:01\r\u001b[K     |██████████▊                     | 327 kB 5.1 MB/s eta 0:00:01\r\u001b[K     |███████████                     | 337 kB 5.1 MB/s eta 0:00:01\r\u001b[K     |███████████▍                    | 348 kB 5.1 MB/s eta 0:00:01\r\u001b[K     |███████████▊                    | 358 kB 5.1 MB/s eta 0:00:01\r\u001b[K     |████████████                    | 368 kB 5.1 MB/s eta 0:00:01\r\u001b[K     |████████████▍                   | 378 kB 5.1 MB/s eta 0:00:01\r\u001b[K     |████████████▊                   | 389 kB 5.1 MB/s eta 0:00:01\r\u001b[K     |█████████████                   | 399 kB 5.1 MB/s eta 0:00:01\r\u001b[K     |█████████████▍                  | 409 kB 5.1 MB/s eta 0:00:01\r\u001b[K     |█████████████▊                  | 419 kB 5.1 MB/s eta 0:00:01\r\u001b[K     |██████████████                  | 430 kB 5.1 MB/s eta 0:00:01\r\u001b[K     |██████████████▍                 | 440 kB 5.1 MB/s eta 0:00:01\r\u001b[K     |██████████████▊                 | 450 kB 5.1 MB/s eta 0:00:01\r\u001b[K     |███████████████                 | 460 kB 5.1 MB/s eta 0:00:01\r\u001b[K     |███████████████▍                | 471 kB 5.1 MB/s eta 0:00:01\r\u001b[K     |███████████████▊                | 481 kB 5.1 MB/s eta 0:00:01\r\u001b[K     |████████████████                | 491 kB 5.1 MB/s eta 0:00:01\r\u001b[K     |████████████████▍               | 501 kB 5.1 MB/s eta 0:00:01\r\u001b[K     |████████████████▊               | 512 kB 5.1 MB/s eta 0:00:01\r\u001b[K     |█████████████████               | 522 kB 5.1 MB/s eta 0:00:01\r\u001b[K     |█████████████████▍              | 532 kB 5.1 MB/s eta 0:00:01\r\u001b[K     |█████████████████▊              | 542 kB 5.1 MB/s eta 0:00:01\r\u001b[K     |██████████████████              | 552 kB 5.1 MB/s eta 0:00:01\r\u001b[K     |██████████████████▍             | 563 kB 5.1 MB/s eta 0:00:01\r\u001b[K     |██████████████████▊             | 573 kB 5.1 MB/s eta 0:00:01\r\u001b[K     |███████████████████             | 583 kB 5.1 MB/s eta 0:00:01\r\u001b[K     |███████████████████▍            | 593 kB 5.1 MB/s eta 0:00:01\r\u001b[K     |███████████████████▊            | 604 kB 5.1 MB/s eta 0:00:01\r\u001b[K     |████████████████████            | 614 kB 5.1 MB/s eta 0:00:01\r\u001b[K     |████████████████████▍           | 624 kB 5.1 MB/s eta 0:00:01\r\u001b[K     |████████████████████▊           | 634 kB 5.1 MB/s eta 0:00:01\r\u001b[K     |█████████████████████           | 645 kB 5.1 MB/s eta 0:00:01\r\u001b[K     |█████████████████████▍          | 655 kB 5.1 MB/s eta 0:00:01\r\u001b[K     |█████████████████████▊          | 665 kB 5.1 MB/s eta 0:00:01\r\u001b[K     |██████████████████████          | 675 kB 5.1 MB/s eta 0:00:01\r\u001b[K     |██████████████████████▍         | 686 kB 5.1 MB/s eta 0:00:01\r\u001b[K     |██████████████████████▊         | 696 kB 5.1 MB/s eta 0:00:01\r\u001b[K     |███████████████████████         | 706 kB 5.1 MB/s eta 0:00:01\r\u001b[K     |███████████████████████▍        | 716 kB 5.1 MB/s eta 0:00:01\r\u001b[K     |███████████████████████▊        | 727 kB 5.1 MB/s eta 0:00:01\r\u001b[K     |████████████████████████        | 737 kB 5.1 MB/s eta 0:00:01\r\u001b[K     |████████████████████████▍       | 747 kB 5.1 MB/s eta 0:00:01\r\u001b[K     |████████████████████████▊       | 757 kB 5.1 MB/s eta 0:00:01\r\u001b[K     |█████████████████████████       | 768 kB 5.1 MB/s eta 0:00:01\r\u001b[K     |█████████████████████████▍      | 778 kB 5.1 MB/s eta 0:00:01\r\u001b[K     |█████████████████████████▊      | 788 kB 5.1 MB/s eta 0:00:01\r\u001b[K     |██████████████████████████      | 798 kB 5.1 MB/s eta 0:00:01\r\u001b[K     |██████████████████████████▍     | 808 kB 5.1 MB/s eta 0:00:01\r\u001b[K     |██████████████████████████▊     | 819 kB 5.1 MB/s eta 0:00:01\r\u001b[K     |███████████████████████████     | 829 kB 5.1 MB/s eta 0:00:01\r\u001b[K     |███████████████████████████▍    | 839 kB 5.1 MB/s eta 0:00:01\r\u001b[K     |███████████████████████████▊    | 849 kB 5.1 MB/s eta 0:00:01\r\u001b[K     |████████████████████████████    | 860 kB 5.1 MB/s eta 0:00:01\r\u001b[K     |████████████████████████████▍   | 870 kB 5.1 MB/s eta 0:00:01\r\u001b[K     |████████████████████████████▊   | 880 kB 5.1 MB/s eta 0:00:01\r\u001b[K     |█████████████████████████████   | 890 kB 5.1 MB/s eta 0:00:01\r\u001b[K     |█████████████████████████████▍  | 901 kB 5.1 MB/s eta 0:00:01\r\u001b[K     |█████████████████████████████▊  | 911 kB 5.1 MB/s eta 0:00:01\r\u001b[K     |██████████████████████████████  | 921 kB 5.1 MB/s eta 0:00:01\r\u001b[K     |██████████████████████████████▍ | 931 kB 5.1 MB/s eta 0:00:01\r\u001b[K     |██████████████████████████████▊ | 942 kB 5.1 MB/s eta 0:00:01\r\u001b[K     |███████████████████████████████ | 952 kB 5.1 MB/s eta 0:00:01\r\u001b[K     |███████████████████████████████▍| 962 kB 5.1 MB/s eta 0:00:01\r\u001b[K     |███████████████████████████████▊| 972 kB 5.1 MB/s eta 0:00:01\r\u001b[K     |████████████████████████████████| 981 kB 5.1 MB/s \n",
            "\u001b[?25hRequirement already satisfied: six in /usr/local/lib/python3.7/dist-packages (from langdetect) (1.15.0)\n",
            "Building wheels for collected packages: langdetect\n",
            "  Building wheel for langdetect (setup.py) ... \u001b[?25l\u001b[?25hdone\n",
            "  Created wheel for langdetect: filename=langdetect-1.0.9-py3-none-any.whl size=993242 sha256=d2b2ccfb48b65fe7c14aa0c68f740d8de2bd88bf71d95ca32d4b1e56c4ea609a\n",
            "  Stored in directory: /root/.cache/pip/wheels/c5/96/8a/f90c59ed25d75e50a8c10a1b1c2d4c402e4dacfa87f3aff36a\n",
            "Successfully built langdetect\n",
            "Installing collected packages: langdetect\n",
            "Successfully installed langdetect-1.0.9\n"
          ]
        }
      ],
      "source": [
        "!pip install langdetect \n"
      ]
    },
    {
      "cell_type": "code",
      "execution_count": 30,
      "metadata": {
        "colab": {
          "base_uri": "https://localhost:8080/"
        },
        "id": "pqbYDK14dvAb",
        "outputId": "11674aa6-90d2-4235-eeab-2880db78a2d5"
      },
      "outputs": [
        {
          "output_type": "stream",
          "name": "stdout",
          "text": [
            "Collecting googletrans\n",
            "  Downloading googletrans-3.0.0.tar.gz (17 kB)\n",
            "Collecting httpx==0.13.3\n",
            "  Downloading httpx-0.13.3-py3-none-any.whl (55 kB)\n",
            "\u001b[K     |████████████████████████████████| 55 kB 2.0 MB/s \n",
            "\u001b[?25hCollecting sniffio\n",
            "  Downloading sniffio-1.2.0-py3-none-any.whl (10 kB)\n",
            "Requirement already satisfied: idna==2.* in /usr/local/lib/python3.7/dist-packages (from httpx==0.13.3->googletrans) (2.10)\n",
            "Requirement already satisfied: chardet==3.* in /usr/local/lib/python3.7/dist-packages (from httpx==0.13.3->googletrans) (3.0.4)\n",
            "Collecting hstspreload\n",
            "  Downloading hstspreload-2021.12.1-py3-none-any.whl (1.3 MB)\n",
            "\u001b[K     |████████████████████████████████| 1.3 MB 10.6 MB/s \n",
            "\u001b[?25hCollecting httpcore==0.9.*\n",
            "  Downloading httpcore-0.9.1-py3-none-any.whl (42 kB)\n",
            "\u001b[K     |████████████████████████████████| 42 kB 1.3 MB/s \n",
            "\u001b[?25hRequirement already satisfied: certifi in /usr/local/lib/python3.7/dist-packages (from httpx==0.13.3->googletrans) (2021.10.8)\n",
            "Collecting rfc3986<2,>=1.3\n",
            "  Downloading rfc3986-1.5.0-py2.py3-none-any.whl (31 kB)\n",
            "Collecting h2==3.*\n",
            "  Downloading h2-3.2.0-py2.py3-none-any.whl (65 kB)\n",
            "\u001b[K     |████████████████████████████████| 65 kB 3.1 MB/s \n",
            "\u001b[?25hCollecting h11<0.10,>=0.8\n",
            "  Downloading h11-0.9.0-py2.py3-none-any.whl (53 kB)\n",
            "\u001b[K     |████████████████████████████████| 53 kB 1.8 MB/s \n",
            "\u001b[?25hCollecting hpack<4,>=3.0\n",
            "  Downloading hpack-3.0.0-py2.py3-none-any.whl (38 kB)\n",
            "Collecting hyperframe<6,>=5.2.0\n",
            "  Downloading hyperframe-5.2.0-py2.py3-none-any.whl (12 kB)\n",
            "Building wheels for collected packages: googletrans\n",
            "  Building wheel for googletrans (setup.py) ... \u001b[?25l\u001b[?25hdone\n",
            "  Created wheel for googletrans: filename=googletrans-3.0.0-py3-none-any.whl size=15735 sha256=7f4c584a1f2804b98b5f8a05e7caed1745b9c989dc59e7eab1631a31b8323448\n",
            "  Stored in directory: /root/.cache/pip/wheels/20/da/eb/a54579056f265eede0417df537dd56d3df5b9eb2b25df0003d\n",
            "Successfully built googletrans\n",
            "Installing collected packages: hyperframe, hpack, sniffio, h2, h11, rfc3986, httpcore, hstspreload, httpx, googletrans\n",
            "Successfully installed googletrans-3.0.0 h11-0.9.0 h2-3.2.0 hpack-3.0.0 hstspreload-2021.12.1 httpcore-0.9.1 httpx-0.13.3 hyperframe-5.2.0 rfc3986-1.5.0 sniffio-1.2.0\n"
          ]
        }
      ],
      "source": [
        "!pip install googletrans"
      ]
    },
    {
      "cell_type": "code",
      "execution_count": 31,
      "metadata": {
        "colab": {
          "base_uri": "https://localhost:8080/",
          "height": 419
        },
        "id": "YF6IhYKweEmB",
        "outputId": "7b5720fe-174f-4242-f8b2-a16ae470f4ca"
      },
      "outputs": [
        {
          "output_type": "stream",
          "name": "stdout",
          "text": [
            "Collecting deep-translator\n",
            "  Downloading deep_translator-1.8.3-py3-none-any.whl (29 kB)\n",
            "Collecting beautifulsoup4<5.0.0,>=4.9.1\n",
            "  Downloading beautifulsoup4-4.11.1-py3-none-any.whl (128 kB)\n",
            "\u001b[K     |████████████████████████████████| 128 kB 8.7 MB/s \n",
            "\u001b[?25hRequirement already satisfied: requests<3.0.0,>=2.23.0 in /usr/local/lib/python3.7/dist-packages (from deep-translator) (2.23.0)\n",
            "Requirement already satisfied: soupsieve>1.2 in /usr/local/lib/python3.7/dist-packages (from beautifulsoup4<5.0.0,>=4.9.1->deep-translator) (2.3.2.post1)\n",
            "Requirement already satisfied: certifi>=2017.4.17 in /usr/local/lib/python3.7/dist-packages (from requests<3.0.0,>=2.23.0->deep-translator) (2021.10.8)\n",
            "Requirement already satisfied: idna<3,>=2.5 in /usr/local/lib/python3.7/dist-packages (from requests<3.0.0,>=2.23.0->deep-translator) (2.10)\n",
            "Requirement already satisfied: chardet<4,>=3.0.2 in /usr/local/lib/python3.7/dist-packages (from requests<3.0.0,>=2.23.0->deep-translator) (3.0.4)\n",
            "Requirement already satisfied: urllib3!=1.25.0,!=1.25.1,<1.26,>=1.21.1 in /usr/local/lib/python3.7/dist-packages (from requests<3.0.0,>=2.23.0->deep-translator) (1.24.3)\n",
            "Installing collected packages: beautifulsoup4, deep-translator\n",
            "  Attempting uninstall: beautifulsoup4\n",
            "    Found existing installation: beautifulsoup4 4.6.3\n",
            "    Uninstalling beautifulsoup4-4.6.3:\n",
            "      Successfully uninstalled beautifulsoup4-4.6.3\n",
            "Successfully installed beautifulsoup4-4.11.1 deep-translator-1.8.3\n"
          ]
        },
        {
          "output_type": "display_data",
          "data": {
            "application/vnd.colab-display-data+json": {
              "pip_warning": {
                "packages": [
                  "bs4"
                ]
              }
            }
          },
          "metadata": {}
        }
      ],
      "source": [
        "!pip install deep-translator"
      ]
    },
    {
      "cell_type": "code",
      "execution_count": 32,
      "metadata": {
        "id": "tKh4OWmocwni"
      },
      "outputs": [],
      "source": [
        "from langdetect import detect\n",
        "from deep_translator import GoogleTranslator\n",
        "\n",
        "def detectln(text):\n",
        "  try:\n",
        "    result_lang = detect(text)\n",
        "  except:\n",
        "    result_lang ='Other'\n",
        "  return result_lang\n",
        "\n",
        "#simple function to detect and translate text \n",
        "def detect_translate(text,target_lang):\n",
        "    \n",
        "    result_lang = detect(text)\n",
        "    \n",
        "    if result_lang == target_lang:\n",
        "        return text \n",
        "    \n",
        "    else:\n",
        "        translated = GoogleTranslator(source='auto', target=target_lang).translate(text)\n",
        "        return translated "
      ]
    },
    {
      "cell_type": "code",
      "execution_count": 33,
      "metadata": {
        "id": "2HceGXRoeMgJ"
      },
      "outputs": [],
      "source": [
        "data[\"Language\"] = data['Clndescription'].apply(lambda x: detectln(x)) "
      ]
    },
    {
      "cell_type": "code",
      "execution_count": 34,
      "metadata": {
        "colab": {
          "base_uri": "https://localhost:8080/"
        },
        "id": "KaeBZEG1eY7a",
        "outputId": "2d3f6db9-d4ac-4429-914c-db5e22661391"
      },
      "outputs": [
        {
          "output_type": "execute_result",
          "data": {
            "text/plain": [
              "array(['en', 'so', 'no', 'es', 'it', 'af', 'sl', 'sv', 'fr', 'nl', 'ca',\n",
              "       'tl', 'id', 'fi', 'de', 'cy', 'pt', 'ro', 'pl', 'et', 'da', 'tr',\n",
              "       'sw', 'hu', 'lv', 'sq', 'cs', 'lt', 'hr', 'sk'], dtype=object)"
            ]
          },
          "metadata": {},
          "execution_count": 34
        }
      ],
      "source": [
        "data[\"Language\"].unique()"
      ]
    },
    {
      "cell_type": "code",
      "execution_count": 35,
      "metadata": {
        "colab": {
          "base_uri": "https://localhost:8080/",
          "height": 959
        },
        "id": "zIQ8_ylvfsLn",
        "outputId": "0bb7741c-971a-4fda-fde7-04ff8a6fadd1"
      },
      "outputs": [
        {
          "output_type": "execute_result",
          "data": {
            "text/plain": [
              "   Language  counts\n",
              "0        af     290\n",
              "1        ca      46\n",
              "2        cs       3\n",
              "3        cy       8\n",
              "4        da      60\n",
              "5        de     406\n",
              "6        es      63\n",
              "7        et      11\n",
              "8        fi       6\n",
              "9        fr     122\n",
              "10       hr       1\n",
              "11       hu       5\n",
              "12       id       3\n",
              "13       it     161\n",
              "14       lt       2\n",
              "15       lv       3\n",
              "16       nl      60\n",
              "17       no      67\n",
              "18       pl      18\n",
              "19       pt      23\n",
              "20       ro      47\n",
              "21       sk       1\n",
              "22       sl     160\n",
              "23       so      60\n",
              "24       sq       1\n",
              "25       sv      63\n",
              "26       sw       7\n",
              "27       tl      11\n",
              "28       tr       1"
            ],
            "text/html": [
              "\n",
              "  <div id=\"df-32772340-4a99-426b-bf98-d4f19afd328f\">\n",
              "    <div class=\"colab-df-container\">\n",
              "      <div>\n",
              "<style scoped>\n",
              "    .dataframe tbody tr th:only-of-type {\n",
              "        vertical-align: middle;\n",
              "    }\n",
              "\n",
              "    .dataframe tbody tr th {\n",
              "        vertical-align: top;\n",
              "    }\n",
              "\n",
              "    .dataframe thead th {\n",
              "        text-align: right;\n",
              "    }\n",
              "</style>\n",
              "<table border=\"1\" class=\"dataframe\">\n",
              "  <thead>\n",
              "    <tr style=\"text-align: right;\">\n",
              "      <th></th>\n",
              "      <th>Language</th>\n",
              "      <th>counts</th>\n",
              "    </tr>\n",
              "  </thead>\n",
              "  <tbody>\n",
              "    <tr>\n",
              "      <th>0</th>\n",
              "      <td>af</td>\n",
              "      <td>290</td>\n",
              "    </tr>\n",
              "    <tr>\n",
              "      <th>1</th>\n",
              "      <td>ca</td>\n",
              "      <td>46</td>\n",
              "    </tr>\n",
              "    <tr>\n",
              "      <th>2</th>\n",
              "      <td>cs</td>\n",
              "      <td>3</td>\n",
              "    </tr>\n",
              "    <tr>\n",
              "      <th>3</th>\n",
              "      <td>cy</td>\n",
              "      <td>8</td>\n",
              "    </tr>\n",
              "    <tr>\n",
              "      <th>4</th>\n",
              "      <td>da</td>\n",
              "      <td>60</td>\n",
              "    </tr>\n",
              "    <tr>\n",
              "      <th>5</th>\n",
              "      <td>de</td>\n",
              "      <td>406</td>\n",
              "    </tr>\n",
              "    <tr>\n",
              "      <th>6</th>\n",
              "      <td>es</td>\n",
              "      <td>63</td>\n",
              "    </tr>\n",
              "    <tr>\n",
              "      <th>7</th>\n",
              "      <td>et</td>\n",
              "      <td>11</td>\n",
              "    </tr>\n",
              "    <tr>\n",
              "      <th>8</th>\n",
              "      <td>fi</td>\n",
              "      <td>6</td>\n",
              "    </tr>\n",
              "    <tr>\n",
              "      <th>9</th>\n",
              "      <td>fr</td>\n",
              "      <td>122</td>\n",
              "    </tr>\n",
              "    <tr>\n",
              "      <th>10</th>\n",
              "      <td>hr</td>\n",
              "      <td>1</td>\n",
              "    </tr>\n",
              "    <tr>\n",
              "      <th>11</th>\n",
              "      <td>hu</td>\n",
              "      <td>5</td>\n",
              "    </tr>\n",
              "    <tr>\n",
              "      <th>12</th>\n",
              "      <td>id</td>\n",
              "      <td>3</td>\n",
              "    </tr>\n",
              "    <tr>\n",
              "      <th>13</th>\n",
              "      <td>it</td>\n",
              "      <td>161</td>\n",
              "    </tr>\n",
              "    <tr>\n",
              "      <th>14</th>\n",
              "      <td>lt</td>\n",
              "      <td>2</td>\n",
              "    </tr>\n",
              "    <tr>\n",
              "      <th>15</th>\n",
              "      <td>lv</td>\n",
              "      <td>3</td>\n",
              "    </tr>\n",
              "    <tr>\n",
              "      <th>16</th>\n",
              "      <td>nl</td>\n",
              "      <td>60</td>\n",
              "    </tr>\n",
              "    <tr>\n",
              "      <th>17</th>\n",
              "      <td>no</td>\n",
              "      <td>67</td>\n",
              "    </tr>\n",
              "    <tr>\n",
              "      <th>18</th>\n",
              "      <td>pl</td>\n",
              "      <td>18</td>\n",
              "    </tr>\n",
              "    <tr>\n",
              "      <th>19</th>\n",
              "      <td>pt</td>\n",
              "      <td>23</td>\n",
              "    </tr>\n",
              "    <tr>\n",
              "      <th>20</th>\n",
              "      <td>ro</td>\n",
              "      <td>47</td>\n",
              "    </tr>\n",
              "    <tr>\n",
              "      <th>21</th>\n",
              "      <td>sk</td>\n",
              "      <td>1</td>\n",
              "    </tr>\n",
              "    <tr>\n",
              "      <th>22</th>\n",
              "      <td>sl</td>\n",
              "      <td>160</td>\n",
              "    </tr>\n",
              "    <tr>\n",
              "      <th>23</th>\n",
              "      <td>so</td>\n",
              "      <td>60</td>\n",
              "    </tr>\n",
              "    <tr>\n",
              "      <th>24</th>\n",
              "      <td>sq</td>\n",
              "      <td>1</td>\n",
              "    </tr>\n",
              "    <tr>\n",
              "      <th>25</th>\n",
              "      <td>sv</td>\n",
              "      <td>63</td>\n",
              "    </tr>\n",
              "    <tr>\n",
              "      <th>26</th>\n",
              "      <td>sw</td>\n",
              "      <td>7</td>\n",
              "    </tr>\n",
              "    <tr>\n",
              "      <th>27</th>\n",
              "      <td>tl</td>\n",
              "      <td>11</td>\n",
              "    </tr>\n",
              "    <tr>\n",
              "      <th>28</th>\n",
              "      <td>tr</td>\n",
              "      <td>1</td>\n",
              "    </tr>\n",
              "  </tbody>\n",
              "</table>\n",
              "</div>\n",
              "      <button class=\"colab-df-convert\" onclick=\"convertToInteractive('df-32772340-4a99-426b-bf98-d4f19afd328f')\"\n",
              "              title=\"Convert this dataframe to an interactive table.\"\n",
              "              style=\"display:none;\">\n",
              "        \n",
              "  <svg xmlns=\"http://www.w3.org/2000/svg\" height=\"24px\"viewBox=\"0 0 24 24\"\n",
              "       width=\"24px\">\n",
              "    <path d=\"M0 0h24v24H0V0z\" fill=\"none\"/>\n",
              "    <path d=\"M18.56 5.44l.94 2.06.94-2.06 2.06-.94-2.06-.94-.94-2.06-.94 2.06-2.06.94zm-11 1L8.5 8.5l.94-2.06 2.06-.94-2.06-.94L8.5 2.5l-.94 2.06-2.06.94zm10 10l.94 2.06.94-2.06 2.06-.94-2.06-.94-.94-2.06-.94 2.06-2.06.94z\"/><path d=\"M17.41 7.96l-1.37-1.37c-.4-.4-.92-.59-1.43-.59-.52 0-1.04.2-1.43.59L10.3 9.45l-7.72 7.72c-.78.78-.78 2.05 0 2.83L4 21.41c.39.39.9.59 1.41.59.51 0 1.02-.2 1.41-.59l7.78-7.78 2.81-2.81c.8-.78.8-2.07 0-2.86zM5.41 20L4 18.59l7.72-7.72 1.47 1.35L5.41 20z\"/>\n",
              "  </svg>\n",
              "      </button>\n",
              "      \n",
              "  <style>\n",
              "    .colab-df-container {\n",
              "      display:flex;\n",
              "      flex-wrap:wrap;\n",
              "      gap: 12px;\n",
              "    }\n",
              "\n",
              "    .colab-df-convert {\n",
              "      background-color: #E8F0FE;\n",
              "      border: none;\n",
              "      border-radius: 50%;\n",
              "      cursor: pointer;\n",
              "      display: none;\n",
              "      fill: #1967D2;\n",
              "      height: 32px;\n",
              "      padding: 0 0 0 0;\n",
              "      width: 32px;\n",
              "    }\n",
              "\n",
              "    .colab-df-convert:hover {\n",
              "      background-color: #E2EBFA;\n",
              "      box-shadow: 0px 1px 2px rgba(60, 64, 67, 0.3), 0px 1px 3px 1px rgba(60, 64, 67, 0.15);\n",
              "      fill: #174EA6;\n",
              "    }\n",
              "\n",
              "    [theme=dark] .colab-df-convert {\n",
              "      background-color: #3B4455;\n",
              "      fill: #D2E3FC;\n",
              "    }\n",
              "\n",
              "    [theme=dark] .colab-df-convert:hover {\n",
              "      background-color: #434B5C;\n",
              "      box-shadow: 0px 1px 3px 1px rgba(0, 0, 0, 0.15);\n",
              "      filter: drop-shadow(0px 1px 2px rgba(0, 0, 0, 0.3));\n",
              "      fill: #FFFFFF;\n",
              "    }\n",
              "  </style>\n",
              "\n",
              "      <script>\n",
              "        const buttonEl =\n",
              "          document.querySelector('#df-32772340-4a99-426b-bf98-d4f19afd328f button.colab-df-convert');\n",
              "        buttonEl.style.display =\n",
              "          google.colab.kernel.accessAllowed ? 'block' : 'none';\n",
              "\n",
              "        async function convertToInteractive(key) {\n",
              "          const element = document.querySelector('#df-32772340-4a99-426b-bf98-d4f19afd328f');\n",
              "          const dataTable =\n",
              "            await google.colab.kernel.invokeFunction('convertToInteractive',\n",
              "                                                     [key], {});\n",
              "          if (!dataTable) return;\n",
              "\n",
              "          const docLinkHtml = 'Like what you see? Visit the ' +\n",
              "            '<a target=\"_blank\" href=https://colab.research.google.com/notebooks/data_table.ipynb>data table notebook</a>'\n",
              "            + ' to learn more about interactive tables.';\n",
              "          element.innerHTML = '';\n",
              "          dataTable['output_type'] = 'display_data';\n",
              "          await google.colab.output.renderOutput(dataTable, element);\n",
              "          const docLink = document.createElement('div');\n",
              "          docLink.innerHTML = docLinkHtml;\n",
              "          element.appendChild(docLink);\n",
              "        }\n",
              "      </script>\n",
              "    </div>\n",
              "  </div>\n",
              "  "
            ]
          },
          "metadata": {},
          "execution_count": 35
        }
      ],
      "source": [
        "data[data[\"Language\"] != 'en'].groupby(['Language']).size().reset_index(name='counts')"
      ]
    },
    {
      "cell_type": "code",
      "execution_count": 36,
      "metadata": {
        "id": "hxGF0QwQedXq"
      },
      "outputs": [],
      "source": [
        "data=data[data[\"Language\"] != 'Other']"
      ]
    },
    {
      "cell_type": "code",
      "execution_count": 37,
      "metadata": {
        "id": "SjkfThqFf3UA"
      },
      "outputs": [],
      "source": [
        "# Autodetecting language & Translating the same using Deep Translator library\n",
        "data[\"Trndescription\"] = data['Clndescription'].apply(lambda x: detect_translate(x,target_lang='en'))"
      ]
    },
    {
      "cell_type": "code",
      "execution_count": 38,
      "metadata": {
        "colab": {
          "base_uri": "https://localhost:8080/",
          "height": 528
        },
        "id": "150oCfREf-vI",
        "outputId": "ef46f984-9dd1-40c9-e2d8-cebaeccb6d5f"
      },
      "outputs": [
        {
          "output_type": "execute_result",
          "data": {
            "text/plain": [
              "                                            Description Assignment group  \\\n",
              "4844  _x000D_\\n_x000D_\\nreceived from: bmudkpie.qolr...            GRP_0   \n",
              "380                       unable to login to erp SID_34            GRP_0   \n",
              "8425  ich weiÃŸ mein erp passwort nicht mehr und hab...            GRP_0   \n",
              "6318  display kaum noch lesbar. verbindung bei telef...           GRP_42   \n",
              "8284  received from: monitoring_tool@company.com_x00...            GRP_6   \n",
              "1440                      setup new ws \\batuhan gueduel           GRP_24   \n",
              "1822                          erp SID_37 password reset            GRP_0   \n",
              "6630  received from: monitoring_tool@company.com_x00...           GRP_45   \n",
              "7601  received from: monitoring_tool@company.com_x00...            GRP_8   \n",
              "3411                         erp SID_34 password reset.            GRP_0   \n",
              "\n",
              "                                         Clndescription Language  \\\n",
              "4844                                   xd xd xd xd best       so   \n",
              "380                          unable to login to erp sid       it   \n",
              "8425  ich weiay mein erp passwort nicht mehr und hab...       de   \n",
              "6318  display kaum noch lesbar verbindung bei telefo...       de   \n",
              "8284   xd abended job in job scheduler snp heu regen at       nl   \n",
              "1440                       setup new ws batuhan gueduel       id   \n",
              "1822                             erp sid password reset       af   \n",
              "6630              xd job job failed in job scheduler at       sl   \n",
              "7601        xd abended job in job scheduler sid hoti at       da   \n",
              "3411                             erp sid password reset       af   \n",
              "\n",
              "                                         Trndescription  \n",
              "4844                                   xd xd xd xd best  \n",
              "380                          unable to login to erp sid  \n",
              "8425  I don't know my erp password anymore and have ...  \n",
              "6318  display barely legible connection with phone c...  \n",
              "8284    xd evening job in job scheduler snp hay rain at  \n",
              "1440                       setup new ws batuhan gueduel  \n",
              "1822                             erp sid password reset  \n",
              "6630              xd job job failed in job scheduler at  \n",
              "7601        xd abended job in job scheduler sid hoti at  \n",
              "3411                             erp sid password reset  "
            ],
            "text/html": [
              "\n",
              "  <div id=\"df-273f8adf-efd9-490c-b2d0-5eb6249b4a3f\">\n",
              "    <div class=\"colab-df-container\">\n",
              "      <div>\n",
              "<style scoped>\n",
              "    .dataframe tbody tr th:only-of-type {\n",
              "        vertical-align: middle;\n",
              "    }\n",
              "\n",
              "    .dataframe tbody tr th {\n",
              "        vertical-align: top;\n",
              "    }\n",
              "\n",
              "    .dataframe thead th {\n",
              "        text-align: right;\n",
              "    }\n",
              "</style>\n",
              "<table border=\"1\" class=\"dataframe\">\n",
              "  <thead>\n",
              "    <tr style=\"text-align: right;\">\n",
              "      <th></th>\n",
              "      <th>Description</th>\n",
              "      <th>Assignment group</th>\n",
              "      <th>Clndescription</th>\n",
              "      <th>Language</th>\n",
              "      <th>Trndescription</th>\n",
              "    </tr>\n",
              "  </thead>\n",
              "  <tbody>\n",
              "    <tr>\n",
              "      <th>4844</th>\n",
              "      <td>_x000D_\\n_x000D_\\nreceived from: bmudkpie.qolr...</td>\n",
              "      <td>GRP_0</td>\n",
              "      <td>xd xd xd xd best</td>\n",
              "      <td>so</td>\n",
              "      <td>xd xd xd xd best</td>\n",
              "    </tr>\n",
              "    <tr>\n",
              "      <th>380</th>\n",
              "      <td>unable to login to erp SID_34</td>\n",
              "      <td>GRP_0</td>\n",
              "      <td>unable to login to erp sid</td>\n",
              "      <td>it</td>\n",
              "      <td>unable to login to erp sid</td>\n",
              "    </tr>\n",
              "    <tr>\n",
              "      <th>8425</th>\n",
              "      <td>ich weiÃŸ mein erp passwort nicht mehr und hab...</td>\n",
              "      <td>GRP_0</td>\n",
              "      <td>ich weiay mein erp passwort nicht mehr und hab...</td>\n",
              "      <td>de</td>\n",
              "      <td>I don't know my erp password anymore and have ...</td>\n",
              "    </tr>\n",
              "    <tr>\n",
              "      <th>6318</th>\n",
              "      <td>display kaum noch lesbar. verbindung bei telef...</td>\n",
              "      <td>GRP_42</td>\n",
              "      <td>display kaum noch lesbar verbindung bei telefo...</td>\n",
              "      <td>de</td>\n",
              "      <td>display barely legible connection with phone c...</td>\n",
              "    </tr>\n",
              "    <tr>\n",
              "      <th>8284</th>\n",
              "      <td>received from: monitoring_tool@company.com_x00...</td>\n",
              "      <td>GRP_6</td>\n",
              "      <td>xd abended job in job scheduler snp heu regen at</td>\n",
              "      <td>nl</td>\n",
              "      <td>xd evening job in job scheduler snp hay rain at</td>\n",
              "    </tr>\n",
              "    <tr>\n",
              "      <th>1440</th>\n",
              "      <td>setup new ws \\batuhan gueduel</td>\n",
              "      <td>GRP_24</td>\n",
              "      <td>setup new ws batuhan gueduel</td>\n",
              "      <td>id</td>\n",
              "      <td>setup new ws batuhan gueduel</td>\n",
              "    </tr>\n",
              "    <tr>\n",
              "      <th>1822</th>\n",
              "      <td>erp SID_37 password reset</td>\n",
              "      <td>GRP_0</td>\n",
              "      <td>erp sid password reset</td>\n",
              "      <td>af</td>\n",
              "      <td>erp sid password reset</td>\n",
              "    </tr>\n",
              "    <tr>\n",
              "      <th>6630</th>\n",
              "      <td>received from: monitoring_tool@company.com_x00...</td>\n",
              "      <td>GRP_45</td>\n",
              "      <td>xd job job failed in job scheduler at</td>\n",
              "      <td>sl</td>\n",
              "      <td>xd job job failed in job scheduler at</td>\n",
              "    </tr>\n",
              "    <tr>\n",
              "      <th>7601</th>\n",
              "      <td>received from: monitoring_tool@company.com_x00...</td>\n",
              "      <td>GRP_8</td>\n",
              "      <td>xd abended job in job scheduler sid hoti at</td>\n",
              "      <td>da</td>\n",
              "      <td>xd abended job in job scheduler sid hoti at</td>\n",
              "    </tr>\n",
              "    <tr>\n",
              "      <th>3411</th>\n",
              "      <td>erp SID_34 password reset.</td>\n",
              "      <td>GRP_0</td>\n",
              "      <td>erp sid password reset</td>\n",
              "      <td>af</td>\n",
              "      <td>erp sid password reset</td>\n",
              "    </tr>\n",
              "  </tbody>\n",
              "</table>\n",
              "</div>\n",
              "      <button class=\"colab-df-convert\" onclick=\"convertToInteractive('df-273f8adf-efd9-490c-b2d0-5eb6249b4a3f')\"\n",
              "              title=\"Convert this dataframe to an interactive table.\"\n",
              "              style=\"display:none;\">\n",
              "        \n",
              "  <svg xmlns=\"http://www.w3.org/2000/svg\" height=\"24px\"viewBox=\"0 0 24 24\"\n",
              "       width=\"24px\">\n",
              "    <path d=\"M0 0h24v24H0V0z\" fill=\"none\"/>\n",
              "    <path d=\"M18.56 5.44l.94 2.06.94-2.06 2.06-.94-2.06-.94-.94-2.06-.94 2.06-2.06.94zm-11 1L8.5 8.5l.94-2.06 2.06-.94-2.06-.94L8.5 2.5l-.94 2.06-2.06.94zm10 10l.94 2.06.94-2.06 2.06-.94-2.06-.94-.94-2.06-.94 2.06-2.06.94z\"/><path d=\"M17.41 7.96l-1.37-1.37c-.4-.4-.92-.59-1.43-.59-.52 0-1.04.2-1.43.59L10.3 9.45l-7.72 7.72c-.78.78-.78 2.05 0 2.83L4 21.41c.39.39.9.59 1.41.59.51 0 1.02-.2 1.41-.59l7.78-7.78 2.81-2.81c.8-.78.8-2.07 0-2.86zM5.41 20L4 18.59l7.72-7.72 1.47 1.35L5.41 20z\"/>\n",
              "  </svg>\n",
              "      </button>\n",
              "      \n",
              "  <style>\n",
              "    .colab-df-container {\n",
              "      display:flex;\n",
              "      flex-wrap:wrap;\n",
              "      gap: 12px;\n",
              "    }\n",
              "\n",
              "    .colab-df-convert {\n",
              "      background-color: #E8F0FE;\n",
              "      border: none;\n",
              "      border-radius: 50%;\n",
              "      cursor: pointer;\n",
              "      display: none;\n",
              "      fill: #1967D2;\n",
              "      height: 32px;\n",
              "      padding: 0 0 0 0;\n",
              "      width: 32px;\n",
              "    }\n",
              "\n",
              "    .colab-df-convert:hover {\n",
              "      background-color: #E2EBFA;\n",
              "      box-shadow: 0px 1px 2px rgba(60, 64, 67, 0.3), 0px 1px 3px 1px rgba(60, 64, 67, 0.15);\n",
              "      fill: #174EA6;\n",
              "    }\n",
              "\n",
              "    [theme=dark] .colab-df-convert {\n",
              "      background-color: #3B4455;\n",
              "      fill: #D2E3FC;\n",
              "    }\n",
              "\n",
              "    [theme=dark] .colab-df-convert:hover {\n",
              "      background-color: #434B5C;\n",
              "      box-shadow: 0px 1px 3px 1px rgba(0, 0, 0, 0.15);\n",
              "      filter: drop-shadow(0px 1px 2px rgba(0, 0, 0, 0.3));\n",
              "      fill: #FFFFFF;\n",
              "    }\n",
              "  </style>\n",
              "\n",
              "      <script>\n",
              "        const buttonEl =\n",
              "          document.querySelector('#df-273f8adf-efd9-490c-b2d0-5eb6249b4a3f button.colab-df-convert');\n",
              "        buttonEl.style.display =\n",
              "          google.colab.kernel.accessAllowed ? 'block' : 'none';\n",
              "\n",
              "        async function convertToInteractive(key) {\n",
              "          const element = document.querySelector('#df-273f8adf-efd9-490c-b2d0-5eb6249b4a3f');\n",
              "          const dataTable =\n",
              "            await google.colab.kernel.invokeFunction('convertToInteractive',\n",
              "                                                     [key], {});\n",
              "          if (!dataTable) return;\n",
              "\n",
              "          const docLinkHtml = 'Like what you see? Visit the ' +\n",
              "            '<a target=\"_blank\" href=https://colab.research.google.com/notebooks/data_table.ipynb>data table notebook</a>'\n",
              "            + ' to learn more about interactive tables.';\n",
              "          element.innerHTML = '';\n",
              "          dataTable['output_type'] = 'display_data';\n",
              "          await google.colab.output.renderOutput(dataTable, element);\n",
              "          const docLink = document.createElement('div');\n",
              "          docLink.innerHTML = docLinkHtml;\n",
              "          element.appendChild(docLink);\n",
              "        }\n",
              "      </script>\n",
              "    </div>\n",
              "  </div>\n",
              "  "
            ]
          },
          "metadata": {},
          "execution_count": 38
        }
      ],
      "source": [
        "data[data[\"Language\"] != 'en'].sample(10)"
      ]
    },
    {
      "cell_type": "code",
      "execution_count": 39,
      "metadata": {
        "id": "Gw2W10_Ti-Lb"
      },
      "outputs": [],
      "source": [
        "data['length']=[len(text) for text in data['Trndescription']]\n",
        "data=data[data['length']>=3]\n",
        "data['Trndescription'] = data['Trndescription'].apply(lambda x : \" \".join([word for word in x.split() if(len(word)>2)]))"
      ]
    },
    {
      "cell_type": "code",
      "execution_count": 40,
      "metadata": {
        "colab": {
          "base_uri": "https://localhost:8080/",
          "height": 455
        },
        "id": "x-wlvVqujIz4",
        "outputId": "f9591607-bef5-4353-8923-dd62c924c5ad"
      },
      "outputs": [
        {
          "output_type": "execute_result",
          "data": {
            "text/plain": [
              "                  counts\n",
              "Assignment group        \n",
              "GRP_0               3928\n",
              "GRP_1                 31\n",
              "GRP_10               140\n",
              "GRP_11                30\n",
              "GRP_12               257\n",
              "...                  ...\n",
              "GRP_71                 2\n",
              "GRP_72                 2\n",
              "GRP_73                 1\n",
              "GRP_8                645\n",
              "GRP_9                252\n",
              "\n",
              "[74 rows x 1 columns]"
            ],
            "text/html": [
              "\n",
              "  <div id=\"df-9d476762-bec5-4c26-bd34-c1e41cfa3a8b\">\n",
              "    <div class=\"colab-df-container\">\n",
              "      <div>\n",
              "<style scoped>\n",
              "    .dataframe tbody tr th:only-of-type {\n",
              "        vertical-align: middle;\n",
              "    }\n",
              "\n",
              "    .dataframe tbody tr th {\n",
              "        vertical-align: top;\n",
              "    }\n",
              "\n",
              "    .dataframe thead th {\n",
              "        text-align: right;\n",
              "    }\n",
              "</style>\n",
              "<table border=\"1\" class=\"dataframe\">\n",
              "  <thead>\n",
              "    <tr style=\"text-align: right;\">\n",
              "      <th></th>\n",
              "      <th>counts</th>\n",
              "    </tr>\n",
              "    <tr>\n",
              "      <th>Assignment group</th>\n",
              "      <th></th>\n",
              "    </tr>\n",
              "  </thead>\n",
              "  <tbody>\n",
              "    <tr>\n",
              "      <th>GRP_0</th>\n",
              "      <td>3928</td>\n",
              "    </tr>\n",
              "    <tr>\n",
              "      <th>GRP_1</th>\n",
              "      <td>31</td>\n",
              "    </tr>\n",
              "    <tr>\n",
              "      <th>GRP_10</th>\n",
              "      <td>140</td>\n",
              "    </tr>\n",
              "    <tr>\n",
              "      <th>GRP_11</th>\n",
              "      <td>30</td>\n",
              "    </tr>\n",
              "    <tr>\n",
              "      <th>GRP_12</th>\n",
              "      <td>257</td>\n",
              "    </tr>\n",
              "    <tr>\n",
              "      <th>...</th>\n",
              "      <td>...</td>\n",
              "    </tr>\n",
              "    <tr>\n",
              "      <th>GRP_71</th>\n",
              "      <td>2</td>\n",
              "    </tr>\n",
              "    <tr>\n",
              "      <th>GRP_72</th>\n",
              "      <td>2</td>\n",
              "    </tr>\n",
              "    <tr>\n",
              "      <th>GRP_73</th>\n",
              "      <td>1</td>\n",
              "    </tr>\n",
              "    <tr>\n",
              "      <th>GRP_8</th>\n",
              "      <td>645</td>\n",
              "    </tr>\n",
              "    <tr>\n",
              "      <th>GRP_9</th>\n",
              "      <td>252</td>\n",
              "    </tr>\n",
              "  </tbody>\n",
              "</table>\n",
              "<p>74 rows × 1 columns</p>\n",
              "</div>\n",
              "      <button class=\"colab-df-convert\" onclick=\"convertToInteractive('df-9d476762-bec5-4c26-bd34-c1e41cfa3a8b')\"\n",
              "              title=\"Convert this dataframe to an interactive table.\"\n",
              "              style=\"display:none;\">\n",
              "        \n",
              "  <svg xmlns=\"http://www.w3.org/2000/svg\" height=\"24px\"viewBox=\"0 0 24 24\"\n",
              "       width=\"24px\">\n",
              "    <path d=\"M0 0h24v24H0V0z\" fill=\"none\"/>\n",
              "    <path d=\"M18.56 5.44l.94 2.06.94-2.06 2.06-.94-2.06-.94-.94-2.06-.94 2.06-2.06.94zm-11 1L8.5 8.5l.94-2.06 2.06-.94-2.06-.94L8.5 2.5l-.94 2.06-2.06.94zm10 10l.94 2.06.94-2.06 2.06-.94-2.06-.94-.94-2.06-.94 2.06-2.06.94z\"/><path d=\"M17.41 7.96l-1.37-1.37c-.4-.4-.92-.59-1.43-.59-.52 0-1.04.2-1.43.59L10.3 9.45l-7.72 7.72c-.78.78-.78 2.05 0 2.83L4 21.41c.39.39.9.59 1.41.59.51 0 1.02-.2 1.41-.59l7.78-7.78 2.81-2.81c.8-.78.8-2.07 0-2.86zM5.41 20L4 18.59l7.72-7.72 1.47 1.35L5.41 20z\"/>\n",
              "  </svg>\n",
              "      </button>\n",
              "      \n",
              "  <style>\n",
              "    .colab-df-container {\n",
              "      display:flex;\n",
              "      flex-wrap:wrap;\n",
              "      gap: 12px;\n",
              "    }\n",
              "\n",
              "    .colab-df-convert {\n",
              "      background-color: #E8F0FE;\n",
              "      border: none;\n",
              "      border-radius: 50%;\n",
              "      cursor: pointer;\n",
              "      display: none;\n",
              "      fill: #1967D2;\n",
              "      height: 32px;\n",
              "      padding: 0 0 0 0;\n",
              "      width: 32px;\n",
              "    }\n",
              "\n",
              "    .colab-df-convert:hover {\n",
              "      background-color: #E2EBFA;\n",
              "      box-shadow: 0px 1px 2px rgba(60, 64, 67, 0.3), 0px 1px 3px 1px rgba(60, 64, 67, 0.15);\n",
              "      fill: #174EA6;\n",
              "    }\n",
              "\n",
              "    [theme=dark] .colab-df-convert {\n",
              "      background-color: #3B4455;\n",
              "      fill: #D2E3FC;\n",
              "    }\n",
              "\n",
              "    [theme=dark] .colab-df-convert:hover {\n",
              "      background-color: #434B5C;\n",
              "      box-shadow: 0px 1px 3px 1px rgba(0, 0, 0, 0.15);\n",
              "      filter: drop-shadow(0px 1px 2px rgba(0, 0, 0, 0.3));\n",
              "      fill: #FFFFFF;\n",
              "    }\n",
              "  </style>\n",
              "\n",
              "      <script>\n",
              "        const buttonEl =\n",
              "          document.querySelector('#df-9d476762-bec5-4c26-bd34-c1e41cfa3a8b button.colab-df-convert');\n",
              "        buttonEl.style.display =\n",
              "          google.colab.kernel.accessAllowed ? 'block' : 'none';\n",
              "\n",
              "        async function convertToInteractive(key) {\n",
              "          const element = document.querySelector('#df-9d476762-bec5-4c26-bd34-c1e41cfa3a8b');\n",
              "          const dataTable =\n",
              "            await google.colab.kernel.invokeFunction('convertToInteractive',\n",
              "                                                     [key], {});\n",
              "          if (!dataTable) return;\n",
              "\n",
              "          const docLinkHtml = 'Like what you see? Visit the ' +\n",
              "            '<a target=\"_blank\" href=https://colab.research.google.com/notebooks/data_table.ipynb>data table notebook</a>'\n",
              "            + ' to learn more about interactive tables.';\n",
              "          element.innerHTML = '';\n",
              "          dataTable['output_type'] = 'display_data';\n",
              "          await google.colab.output.renderOutput(dataTable, element);\n",
              "          const docLink = document.createElement('div');\n",
              "          docLink.innerHTML = docLinkHtml;\n",
              "          element.appendChild(docLink);\n",
              "        }\n",
              "      </script>\n",
              "    </div>\n",
              "  </div>\n",
              "  "
            ]
          },
          "metadata": {},
          "execution_count": 40
        }
      ],
      "source": [
        "AsgnGrp=data.groupby(['Assignment group']).size().reset_index(name='counts')\n",
        "AsgnGrp.set_index(['Assignment group'], inplace = True)\n",
        "AsgnGrp"
      ]
    },
    {
      "cell_type": "code",
      "execution_count": 41,
      "metadata": {
        "id": "C3t6NW3mjOzZ"
      },
      "outputs": [],
      "source": [
        "def assigngrp(grp):\n",
        "  \n",
        "  x=AsgnGrp.loc[grp][0]\n",
        "\n",
        "  if x>10:\n",
        "    return grp\n",
        "  else:\n",
        "    return \"GRP_X\""
      ]
    },
    {
      "cell_type": "code",
      "execution_count": 42,
      "metadata": {
        "id": "g8UbpRKCjUmn"
      },
      "outputs": [],
      "source": [
        "data[\"ModifiedAssignGrp\"]= data['Assignment group'].apply(lambda x: assigngrp(x))"
      ]
    },
    {
      "cell_type": "code",
      "execution_count": 43,
      "metadata": {
        "colab": {
          "base_uri": "https://localhost:8080/"
        },
        "id": "VoSw5p0_jaGh",
        "outputId": "7019c23d-05b2-4f7d-8bf8-8cf3251b45f1"
      },
      "outputs": [
        {
          "output_type": "execute_result",
          "data": {
            "text/plain": [
              "50"
            ]
          },
          "metadata": {},
          "execution_count": 43
        }
      ],
      "source": [
        "n=data[\"ModifiedAssignGrp\"].nunique()\n",
        "n"
      ]
    },
    {
      "cell_type": "code",
      "execution_count": 44,
      "metadata": {
        "id": "QLYDWsPWj5WM",
        "colab": {
          "base_uri": "https://localhost:8080/",
          "height": 595
        },
        "outputId": "3f209f7e-3743-4722-9558-5c55a32eb87e"
      },
      "outputs": [
        {
          "output_type": "stream",
          "name": "stderr",
          "text": [
            "/usr/local/lib/python3.7/dist-packages/ipykernel_launcher.py:3: FutureWarning: pandas.util.testing is deprecated. Use the functions in the public API at pandas.testing instead.\n",
            "  This is separate from the ipykernel package so we can avoid doing imports until\n"
          ]
        },
        {
          "output_type": "display_data",
          "data": {
            "text/plain": [
              "<Figure size 1584x720 with 1 Axes>"
            ],
            "image/png": "[encoded data removed]"
          },
          "metadata": {
            "needs_background": "light"
          }
        }
      ],
      "source": [
        "import matplotlib.pyplot as plt\n",
        "import warnings\n",
        "import pandas.util.testing as tm\n",
        "plt.style.use('ggplot')\n",
        "%matplotlib inline\n",
        "\n",
        "descending_order = data[\"ModifiedAssignGrp\"].value_counts().sort_values(ascending=False).index\n",
        "plt.subplots(figsize=(22,10))\n",
        "ax=sns.countplot(x='ModifiedAssignGrp', data=data, color='lightseagreen',order=descending_order)\n",
        "ax.set_xticklabels(ax.get_xticklabels(), rotation=90, ha=\"right\")\n",
        "plt.tight_layout()\n",
        "for p in ax.patches:\n",
        "    ax.annotate(f'\\n{p.get_height()}', (p.get_x()+0.4, p.get_height()+170), ha='center', va='top', color='black', size=12)\n",
        "plt.show()"
      ]
    },
    {
      "cell_type": "code",
      "execution_count": 45,
      "metadata": {
        "id": "aX2iR5nVkREV"
      },
      "outputs": [],
      "source": [
        "def lemmatize_corpus(corpus, text_lemmatization=True, stopword_removal=True):\n",
        "    \n",
        "    lemmatize_corpus = []\n",
        "    # normalize each document in the corpus\n",
        "    for doc in corpus:\n",
        "        # remove stopwords\n",
        "        if stopword_removal:\n",
        "            doc = remove_stopwords(doc)\n",
        "        # lemmatize text\n",
        "        if text_lemmatization:\n",
        "            doc = lemmatize_text(doc)\n",
        "            \n",
        "        lemmatize_corpus.append(doc)\n",
        "        \n",
        "    return lemmatize_corpus"
      ]
    },
    {
      "cell_type": "code",
      "execution_count": 46,
      "metadata": {
        "id": "Vyl2NWeVlfUU"
      },
      "outputs": [],
      "source": [
        "data['lmdescription'] = lemmatize_corpus(data['Trndescription'])"
      ]
    },
    {
      "cell_type": "code",
      "execution_count": 47,
      "metadata": {
        "id": "8hD4J0ZzlnVo",
        "colab": {
          "base_uri": "https://localhost:8080/",
          "height": 372
        },
        "outputId": "cce49d09-8117-49b6-a2bc-39e7c6f322c0"
      },
      "outputs": [
        {
          "output_type": "execute_result",
          "data": {
            "text/plain": [
              "                                         Description Assignment group  \\\n",
              "0  -verified user details.(employee# & manager na...            GRP_0   \n",
              "1  _x000D_\\n_x000D_\\nreceived from: hmjdrvpb.komu...            GRP_0   \n",
              "2  _x000D_\\n_x000D_\\nreceived from: eylqgodm.ybqk...            GRP_0   \n",
              "3                      unable to access hr_tool page            GRP_0   \n",
              "4                                       skype error             GRP_0   \n",
              "\n",
              "                                      Clndescription Language  \\\n",
              "0  verified user details employee and manager nam...       en   \n",
              "1  xd xd xd hello team xd xd my meetingsskype mee...       en   \n",
              "2  xd xd xd hi xd xd cannot log on to vpn xd xd best       so   \n",
              "3                      unable to access hr tool page       en   \n",
              "4                                        skype error       no   \n",
              "\n",
              "                                      Trndescription  length  \\\n",
              "0  verified user details employee and manager nam...     189   \n",
              "1  hello team meetingsskype meetings etc are not ...     154   \n",
              "2                                cannot log vpn best      49   \n",
              "3                            unable access tool page      29   \n",
              "4                                        skype error      11   \n",
              "\n",
              "  ModifiedAssignGrp                                      lmdescription  \n",
              "0             GRP_0  verified user detail employee manager name che...  \n",
              "1             GRP_0  hello team meetingsskype meeting etc appearing...  \n",
              "2             GRP_0                                       log vpn best  \n",
              "3             GRP_0                            unable access tool page  \n",
              "4             GRP_0                                        skype error  "
            ],
            "text/html": [
              "\n",
              "  <div id=\"df-89e8bd74-0565-4aec-a7b6-cec5414c9810\">\n",
              "    <div class=\"colab-df-container\">\n",
              "      <div>\n",
              "<style scoped>\n",
              "    .dataframe tbody tr th:only-of-type {\n",
              "        vertical-align: middle;\n",
              "    }\n",
              "\n",
              "    .dataframe tbody tr th {\n",
              "        vertical-align: top;\n",
              "    }\n",
              "\n",
              "    .dataframe thead th {\n",
              "        text-align: right;\n",
              "    }\n",
              "</style>\n",
              "<table border=\"1\" class=\"dataframe\">\n",
              "  <thead>\n",
              "    <tr style=\"text-align: right;\">\n",
              "      <th></th>\n",
              "      <th>Description</th>\n",
              "      <th>Assignment group</th>\n",
              "      <th>Clndescription</th>\n",
              "      <th>Language</th>\n",
              "      <th>Trndescription</th>\n",
              "      <th>length</th>\n",
              "      <th>ModifiedAssignGrp</th>\n",
              "      <th>lmdescription</th>\n",
              "    </tr>\n",
              "  </thead>\n",
              "  <tbody>\n",
              "    <tr>\n",
              "      <th>0</th>\n",
              "      <td>-verified user details.(employee# &amp; manager na...</td>\n",
              "      <td>GRP_0</td>\n",
              "      <td>verified user details employee and manager nam...</td>\n",
              "      <td>en</td>\n",
              "      <td>verified user details employee and manager nam...</td>\n",
              "      <td>189</td>\n",
              "      <td>GRP_0</td>\n",
              "      <td>verified user detail employee manager name che...</td>\n",
              "    </tr>\n",
              "    <tr>\n",
              "      <th>1</th>\n",
              "      <td>_x000D_\\n_x000D_\\nreceived from: hmjdrvpb.komu...</td>\n",
              "      <td>GRP_0</td>\n",
              "      <td>xd xd xd hello team xd xd my meetingsskype mee...</td>\n",
              "      <td>en</td>\n",
              "      <td>hello team meetingsskype meetings etc are not ...</td>\n",
              "      <td>154</td>\n",
              "      <td>GRP_0</td>\n",
              "      <td>hello team meetingsskype meeting etc appearing...</td>\n",
              "    </tr>\n",
              "    <tr>\n",
              "      <th>2</th>\n",
              "      <td>_x000D_\\n_x000D_\\nreceived from: eylqgodm.ybqk...</td>\n",
              "      <td>GRP_0</td>\n",
              "      <td>xd xd xd hi xd xd cannot log on to vpn xd xd best</td>\n",
              "      <td>so</td>\n",
              "      <td>cannot log vpn best</td>\n",
              "      <td>49</td>\n",
              "      <td>GRP_0</td>\n",
              "      <td>log vpn best</td>\n",
              "    </tr>\n",
              "    <tr>\n",
              "      <th>3</th>\n",
              "      <td>unable to access hr_tool page</td>\n",
              "      <td>GRP_0</td>\n",
              "      <td>unable to access hr tool page</td>\n",
              "      <td>en</td>\n",
              "      <td>unable access tool page</td>\n",
              "      <td>29</td>\n",
              "      <td>GRP_0</td>\n",
              "      <td>unable access tool page</td>\n",
              "    </tr>\n",
              "    <tr>\n",
              "      <th>4</th>\n",
              "      <td>skype error</td>\n",
              "      <td>GRP_0</td>\n",
              "      <td>skype error</td>\n",
              "      <td>no</td>\n",
              "      <td>skype error</td>\n",
              "      <td>11</td>\n",
              "      <td>GRP_0</td>\n",
              "      <td>skype error</td>\n",
              "    </tr>\n",
              "  </tbody>\n",
              "</table>\n",
              "</div>\n",
              "      <button class=\"colab-df-convert\" onclick=\"convertToInteractive('df-89e8bd74-0565-4aec-a7b6-cec5414c9810')\"\n",
              "              title=\"Convert this dataframe to an interactive table.\"\n",
              "              style=\"display:none;\">\n",
              "        \n",
              "  <svg xmlns=\"http://www.w3.org/2000/svg\" height=\"24px\"viewBox=\"0 0 24 24\"\n",
              "       width=\"24px\">\n",
              "    <path d=\"M0 0h24v24H0V0z\" fill=\"none\"/>\n",
              "    <path d=\"M18.56 5.44l.94 2.06.94-2.06 2.06-.94-2.06-.94-.94-2.06-.94 2.06-2.06.94zm-11 1L8.5 8.5l.94-2.06 2.06-.94-2.06-.94L8.5 2.5l-.94 2.06-2.06.94zm10 10l.94 2.06.94-2.06 2.06-.94-2.06-.94-.94-2.06-.94 2.06-2.06.94z\"/><path d=\"M17.41 7.96l-1.37-1.37c-.4-.4-.92-.59-1.43-.59-.52 0-1.04.2-1.43.59L10.3 9.45l-7.72 7.72c-.78.78-.78 2.05 0 2.83L4 21.41c.39.39.9.59 1.41.59.51 0 1.02-.2 1.41-.59l7.78-7.78 2.81-2.81c.8-.78.8-2.07 0-2.86zM5.41 20L4 18.59l7.72-7.72 1.47 1.35L5.41 20z\"/>\n",
              "  </svg>\n",
              "      </button>\n",
              "      \n",
              "  <style>\n",
              "    .colab-df-container {\n",
              "      display:flex;\n",
              "      flex-wrap:wrap;\n",
              "      gap: 12px;\n",
              "    }\n",
              "\n",
              "    .colab-df-convert {\n",
              "      background-color: #E8F0FE;\n",
              "      border: none;\n",
              "      border-radius: 50%;\n",
              "      cursor: pointer;\n",
              "      display: none;\n",
              "      fill: #1967D2;\n",
              "      height: 32px;\n",
              "      padding: 0 0 0 0;\n",
              "      width: 32px;\n",
              "    }\n",
              "\n",
              "    .colab-df-convert:hover {\n",
              "      background-color: #E2EBFA;\n",
              "      box-shadow: 0px 1px 2px rgba(60, 64, 67, 0.3), 0px 1px 3px 1px rgba(60, 64, 67, 0.15);\n",
              "      fill: #174EA6;\n",
              "    }\n",
              "\n",
              "    [theme=dark] .colab-df-convert {\n",
              "      background-color: #3B4455;\n",
              "      fill: #D2E3FC;\n",
              "    }\n",
              "\n",
              "    [theme=dark] .colab-df-convert:hover {\n",
              "      background-color: #434B5C;\n",
              "      box-shadow: 0px 1px 3px 1px rgba(0, 0, 0, 0.15);\n",
              "      filter: drop-shadow(0px 1px 2px rgba(0, 0, 0, 0.3));\n",
              "      fill: #FFFFFF;\n",
              "    }\n",
              "  </style>\n",
              "\n",
              "      <script>\n",
              "        const buttonEl =\n",
              "          document.querySelector('#df-89e8bd74-0565-4aec-a7b6-cec5414c9810 button.colab-df-convert');\n",
              "        buttonEl.style.display =\n",
              "          google.colab.kernel.accessAllowed ? 'block' : 'none';\n",
              "\n",
              "        async function convertToInteractive(key) {\n",
              "          const element = document.querySelector('#df-89e8bd74-0565-4aec-a7b6-cec5414c9810');\n",
              "          const dataTable =\n",
              "            await google.colab.kernel.invokeFunction('convertToInteractive',\n",
              "                                                     [key], {});\n",
              "          if (!dataTable) return;\n",
              "\n",
              "          const docLinkHtml = 'Like what you see? Visit the ' +\n",
              "            '<a target=\"_blank\" href=https://colab.research.google.com/notebooks/data_table.ipynb>data table notebook</a>'\n",
              "            + ' to learn more about interactive tables.';\n",
              "          element.innerHTML = '';\n",
              "          dataTable['output_type'] = 'display_data';\n",
              "          await google.colab.output.renderOutput(dataTable, element);\n",
              "          const docLink = document.createElement('div');\n",
              "          docLink.innerHTML = docLinkHtml;\n",
              "          element.appendChild(docLink);\n",
              "        }\n",
              "      </script>\n",
              "    </div>\n",
              "  </div>\n",
              "  "
            ]
          },
          "metadata": {},
          "execution_count": 47
        }
      ],
      "source": [
        "data.head(5)"
      ]
    },
    {
      "cell_type": "code",
      "execution_count": 48,
      "metadata": {
        "id": "REkDM_jbltpY"
      },
      "outputs": [],
      "source": [
        "#Removing descriptions having length more than 3000 characters\n",
        "data=data.loc[(data.lmdescription.str.len() < 3000)]"
      ]
    },
    {
      "cell_type": "markdown",
      "metadata": {
        "id": "73pxdMXpl-PP"
      },
      "source": [
        "Analysing Text\n"
      ]
    },
    {
      "cell_type": "code",
      "execution_count": 49,
      "metadata": {
        "id": "Ckrym5qomECC"
      },
      "outputs": [],
      "source": [
        "import gensim\n",
        "import gensim.corpora as corpora\n",
        "from gensim.utils import simple_preprocess\n",
        "from gensim.models.ldamodel import LdaModel\n",
        "from gensim.models import CoherenceModel\n",
        "from wordcloud import WordCloud"
      ]
    },
    {
      "cell_type": "code",
      "execution_count": 50,
      "metadata": {
        "id": "Z_hW7RI4mMBG",
        "colab": {
          "base_uri": "https://localhost:8080/",
          "height": 35
        },
        "outputId": "c8ddc1a7-ae9b-4d7f-99cb-e6b6b06f9b88"
      },
      "outputs": [
        {
          "output_type": "execute_result",
          "data": {
            "text/plain": [
              "'unable log engineering tool skype'"
            ],
            "application/vnd.google.colaboratory.intrinsic+json": {
              "type": "string"
            }
          },
          "metadata": {},
          "execution_count": 50
        }
      ],
      "source": [
        "combined_text=data.lmdescription.values.tolist()\n",
        "combined_text[5]"
      ]
    },
    {
      "cell_type": "code",
      "execution_count": 51,
      "metadata": {
        "id": "1mb09IIhmO2a"
      },
      "outputs": [],
      "source": [
        "def sent_to_words(sentences):\n",
        "    for sentence in sentences:\n",
        "        yield(gensim.utils.simple_preprocess(str(sentence), deacc=True))  \n",
        "\n",
        "data_words = list(sent_to_words(combined_text))"
      ]
    },
    {
      "cell_type": "code",
      "execution_count": 52,
      "metadata": {
        "id": "ztsmLBRNmXmC",
        "colab": {
          "base_uri": "https://localhost:8080/"
        },
        "outputId": "aa43e8d2-c55c-4bcd-88c3-3edb53aee00d"
      },
      "outputs": [
        {
          "output_type": "stream",
          "name": "stdout",
          "text": [
            "['unable', 'log', 'engineering', 'tool', 'skype']\n"
          ]
        }
      ],
      "source": [
        "print(data_words[5])"
      ]
    },
    {
      "cell_type": "code",
      "execution_count": 53,
      "metadata": {
        "id": "55o-pqZcmby-",
        "colab": {
          "base_uri": "https://localhost:8080/"
        },
        "outputId": "a33bfe52-f5a7-484c-d522-dfddc2b48230"
      },
      "outputs": [
        {
          "output_type": "stream",
          "name": "stderr",
          "text": [
            "/usr/local/lib/python3.7/dist-packages/gensim/models/phrases.py:598: UserWarning: For a faster implementation, use the gensim.models.phrases.Phraser class\n",
            "  warnings.warn(\"For a faster implementation, use the gensim.models.phrases.Phraser class\")\n"
          ]
        }
      ],
      "source": [
        "bigram = gensim.models.Phrases(data_words, min_count=5, threshold=100) \n",
        "trigram = gensim.models.Phrases(bigram[data_words], threshold=100)  \n",
        "\n",
        "# Faster way to get a sentence clubbed as a trigram/bigram\n",
        "bigram_mod = gensim.models.phrases.Phraser(bigram)\n",
        "trigram_mod = gensim.models.phrases.Phraser(trigram)"
      ]
    },
    {
      "cell_type": "code",
      "execution_count": 54,
      "metadata": {
        "id": "AEeroOvXmiML",
        "colab": {
          "base_uri": "https://localhost:8080/"
        },
        "outputId": "a425ed10-764d-4796-a639-46d4718323fe"
      },
      "outputs": [
        {
          "output_type": "stream",
          "name": "stdout",
          "text": [
            "['unable', 'log', 'engineering', 'tool', 'skype']\n"
          ]
        }
      ],
      "source": [
        "print(bigram_mod[data_words[5]])"
      ]
    },
    {
      "cell_type": "code",
      "execution_count": 55,
      "metadata": {
        "id": "AlT62IX4mltq",
        "colab": {
          "base_uri": "https://localhost:8080/"
        },
        "outputId": "1d025651-6bd4-4664-9325-c768844429ce"
      },
      "outputs": [
        {
          "output_type": "stream",
          "name": "stdout",
          "text": [
            "['unable', 'log', 'engineering', 'tool', 'skype']\n"
          ]
        }
      ],
      "source": [
        "print(trigram_mod[bigram_mod[data_words[5]]])"
      ]
    },
    {
      "cell_type": "code",
      "execution_count": 56,
      "metadata": {
        "id": "6j4kyrkbmo3N"
      },
      "outputs": [],
      "source": [
        "def make_bigrams(texts):\n",
        "    return [bigram_mod[doc] for doc in texts]\n",
        "\n",
        "def make_trigrams(texts):\n",
        "    return [trigram_mod[bigram_mod[doc]] for doc in texts]"
      ]
    },
    {
      "cell_type": "code",
      "execution_count": 57,
      "metadata": {
        "id": "Yud0PgKcmtZj"
      },
      "outputs": [],
      "source": [
        "data_words_bigrams = make_bigrams(data_words)"
      ]
    },
    {
      "cell_type": "code",
      "execution_count": 58,
      "metadata": {
        "id": "3HuOJC02mycy",
        "colab": {
          "base_uri": "https://localhost:8080/"
        },
        "outputId": "1ea780f3-aedc-472c-fd2e-3be5f28aebb3"
      },
      "outputs": [
        {
          "output_type": "stream",
          "name": "stdout",
          "text": [
            "['unable', 'log', 'engineering', 'tool', 'skype']\n"
          ]
        }
      ],
      "source": [
        "print(data_words_bigrams[5])"
      ]
    },
    {
      "cell_type": "code",
      "execution_count": 59,
      "metadata": {
        "id": "RcI8dNckm1o6"
      },
      "outputs": [],
      "source": [
        "wordclouds=' '.join(map(str, data_words_bigrams)) "
      ]
    },
    {
      "cell_type": "code",
      "execution_count": 60,
      "metadata": {
        "id": "Hut7gxwInH9g",
        "colab": {
          "base_uri": "https://localhost:8080/",
          "height": 575
        },
        "outputId": "81bd9880-301d-4d0e-bbd0-7a359b581fb0"
      },
      "outputs": [
        {
          "output_type": "display_data",
          "data": {
            "text/plain": [
              "<Figure size 1440x720 with 1 Axes>"
            ],
            "image/png": "[encoded data removed]"
          },
          "metadata": {
            "needs_background": "light"
          }
        }
      ],
      "source": [
        "wordcloud = WordCloud(width=480, height=480, max_font_size=20, min_font_size=10).generate(wordclouds)\n",
        "plt.figure(figsize=(20,10))\n",
        "plt.imshow(wordcloud, interpolation=\"bilinear\")\n",
        "plt.axis(\"off\")\n",
        "plt.margins(x=0, y=0)\n",
        "plt.show()"
      ]
    },
    {
      "cell_type": "code",
      "execution_count": 61,
      "metadata": {
        "id": "drjA_f91nyQl",
        "colab": {
          "base_uri": "https://localhost:8080/",
          "height": 575
        },
        "outputId": "658a7116-cc6c-47f7-c51f-35cbff5f515b"
      },
      "outputs": [
        {
          "output_type": "display_data",
          "data": {
            "text/plain": [
              "<Figure size 720x720 with 1 Axes>"
            ],
            "image/png": "[encoded data removed]"
          },
          "metadata": {
            "needs_background": "light"
          }
        }
      ],
      "source": [
        "wordcloud_2 = WordCloud(width=480, height=480, max_words=100).generate(wordclouds)\n",
        "plt.figure(figsize=(10,10))\n",
        "plt.imshow(wordcloud_2, interpolation=\"bilinear\")\n",
        "plt.axis(\"off\")\n",
        "plt.margins(x=0, y=0)\n",
        "plt.show()"
      ]
    },
    {
      "cell_type": "code",
      "execution_count": 62,
      "metadata": {
        "id": "LNFjMNhnn5ok"
      },
      "outputs": [],
      "source": [
        "id2word = corpora.Dictionary(data_words_bigrams)\n",
        "texts = data_words_bigrams\n",
        "corpus = [id2word.doc2bow(text) for text in texts]"
      ]
    },
    {
      "cell_type": "code",
      "execution_count": 63,
      "metadata": {
        "id": "A_mvgbmnn_F8",
        "colab": {
          "base_uri": "https://localhost:8080/"
        },
        "outputId": "c25c7472-2350-4143-95e0-2fac66860070"
      },
      "outputs": [
        {
          "output_type": "stream",
          "name": "stdout",
          "text": [
            "[[(0, 1), (1, 1), (2, 1), (3, 1), (4, 1), (5, 1), (6, 1), (7, 2), (8, 1), (9, 2), (10, 1), (11, 1), (12, 3), (13, 1)]]\n"
          ]
        }
      ],
      "source": [
        "print(corpus[:1])"
      ]
    },
    {
      "cell_type": "code",
      "execution_count": 64,
      "metadata": {
        "id": "zJYdyLMKoDA7"
      },
      "outputs": [],
      "source": [
        "lda_model = LdaModel(corpus=corpus,id2word=id2word,num_topics=7,random_state=200,update_every=1,chunksize=800,passes=10,alpha='auto',per_word_topics=True)"
      ]
    },
    {
      "cell_type": "code",
      "execution_count": 65,
      "metadata": {
        "id": "HodEy3GloLGt",
        "colab": {
          "base_uri": "https://localhost:8080/"
        },
        "outputId": "853f4ab4-ccee-4bab-b6c4-50bc8461d44a"
      },
      "outputs": [
        {
          "output_type": "stream",
          "name": "stdout",
          "text": [
            "[(0,\n",
            "  '0.032*\"please\" + 0.018*\"error\" + 0.017*\"unable\" + 0.015*\"issue\" + '\n",
            "  '0.015*\"hello\" + 0.014*\"tool\" + 0.013*\"erp\" + 0.012*\"outlook\" + '\n",
            "  '0.012*\"email\" + 0.012*\"access\"'),\n",
            " (1,\n",
            "  '0.082*\"password\" + 0.072*\"user\" + 0.046*\"account\" + 0.042*\"reset\" + '\n",
            "  '0.038*\"sid\" + 0.033*\"erp\" + 0.033*\"login\" + 0.021*\"locked\" + 0.019*\"tool\" + '\n",
            "  '0.017*\"please\"'),\n",
            " (2,\n",
            "  '0.257*\"job\" + 0.097*\"scheduler\" + 0.062*\"failed\" + 0.043*\"abended\" + '\n",
            "  '0.022*\"sid\" + 0.021*\"ticket\" + 0.021*\"hostname\" + 0.016*\"language_internet\" '\n",
            "  '+ 0.016*\"number_telephone\" + 0.016*\"explorer_customer\"'),\n",
            " (3,\n",
            "  '0.033*\"event\" + 0.016*\"ticket\" + 0.013*\"company\" + 0.013*\"com\" + '\n",
            "  '0.011*\"let_know\" + 0.009*\"name\" + 0.008*\"connection\" + 0.008*\"tcp\" + '\n",
            "  '0.008*\"hostname\" + 0.006*\"host\"'),\n",
            " (4,\n",
            "  '0.127*\"yesnona\" + 0.060*\"site\" + 0.050*\"power\" + 0.047*\"circuit\" + '\n",
            "  '0.044*\"vendor\" + 0.038*\"backup\" + 0.027*\"network\" + 0.027*\"company\" + '\n",
            "  '0.025*\"telecom\" + 0.024*\"yes\"'),\n",
            " (5,\n",
            "  '0.023*\"device\" + 0.017*\"server\" + 0.016*\"hostname\" + 0.009*\"status\" + '\n",
            "  '0.009*\"via\" + 0.009*\"company\" + 0.009*\"germany\" + 0.008*\"port\" + '\n",
            "  '0.008*\"setup\" + 0.008*\"time\"'),\n",
            " (6,\n",
            "  '0.021*\"please\" + 0.016*\"order\" + 0.013*\"plant\" + 0.010*\"number\" + '\n",
            "  '0.009*\"access\" + 0.009*\"customer\" + 0.008*\"need\" + 0.007*\"company\" + '\n",
            "  '0.007*\"help\" + 0.007*\"phone\"')]\n"
          ]
        }
      ],
      "source": [
        "from pprint import pprint\n",
        "pprint(lda_model.print_topics())\n",
        "doc_lda = lda_model[corpus]"
      ]
    },
    {
      "cell_type": "code",
      "execution_count": 66,
      "metadata": {
        "id": "M9FNJ9VyoP2F",
        "colab": {
          "base_uri": "https://localhost:8080/"
        },
        "outputId": "0c452648-17da-49b0-90c8-282a8ec12269"
      },
      "outputs": [
        {
          "output_type": "stream",
          "name": "stdout",
          "text": [
            "\n",
            "Perplexity:  -7.088837863296459\n",
            "\n",
            "Coherence Score:  0.5714141553957492\n"
          ]
        }
      ],
      "source": [
        "texts=data_words_bigrams\n",
        "# Compute Perplexity\n",
        "print('\\nPerplexity: ', lda_model.log_perplexity(corpus))  # a measure of how good the model is. lower the better.\n",
        "\n",
        "# Compute Coherence Score\n",
        "coherence_model_lda = CoherenceModel(model=lda_model, texts=texts, dictionary=id2word, coherence='c_v')\n",
        "coherence_lda = coherence_model_lda.get_coherence()\n",
        "print('\\nCoherence Score: ', coherence_lda)"
      ]
    },
    {
      "cell_type": "code",
      "execution_count": 67,
      "metadata": {
        "id": "uMH5V0MToVDe",
        "colab": {
          "base_uri": "https://localhost:8080/",
          "height": 112
        },
        "outputId": "99c894c2-ab7a-493d-a1ed-f54a4b44aafb"
      },
      "outputs": [
        {
          "output_type": "execute_result",
          "data": {
            "text/plain": [
              "            count        mean         std  min   25%   50%    75%     max\n",
              "length     8395.0  138.967242  223.880972  3.0  35.0  62.0  155.0  3874.0\n",
              "num_words  8395.0   26.902799   44.646987  1.0   6.0  12.0   30.0  1057.0"
            ],
            "text/html": [
              "\n",
              "  <div id=\"df-ab7c9093-5314-4a95-b489-995c25ee2724\">\n",
              "    <div class=\"colab-df-container\">\n",
              "      <div>\n",
              "<style scoped>\n",
              "    .dataframe tbody tr th:only-of-type {\n",
              "        vertical-align: middle;\n",
              "    }\n",
              "\n",
              "    .dataframe tbody tr th {\n",
              "        vertical-align: top;\n",
              "    }\n",
              "\n",
              "    .dataframe thead th {\n",
              "        text-align: right;\n",
              "    }\n",
              "</style>\n",
              "<table border=\"1\" class=\"dataframe\">\n",
              "  <thead>\n",
              "    <tr style=\"text-align: right;\">\n",
              "      <th></th>\n",
              "      <th>count</th>\n",
              "      <th>mean</th>\n",
              "      <th>std</th>\n",
              "      <th>min</th>\n",
              "      <th>25%</th>\n",
              "      <th>50%</th>\n",
              "      <th>75%</th>\n",
              "      <th>max</th>\n",
              "    </tr>\n",
              "  </thead>\n",
              "  <tbody>\n",
              "    <tr>\n",
              "      <th>length</th>\n",
              "      <td>8395.0</td>\n",
              "      <td>138.967242</td>\n",
              "      <td>223.880972</td>\n",
              "      <td>3.0</td>\n",
              "      <td>35.0</td>\n",
              "      <td>62.0</td>\n",
              "      <td>155.0</td>\n",
              "      <td>3874.0</td>\n",
              "    </tr>\n",
              "    <tr>\n",
              "      <th>num_words</th>\n",
              "      <td>8395.0</td>\n",
              "      <td>26.902799</td>\n",
              "      <td>44.646987</td>\n",
              "      <td>1.0</td>\n",
              "      <td>6.0</td>\n",
              "      <td>12.0</td>\n",
              "      <td>30.0</td>\n",
              "      <td>1057.0</td>\n",
              "    </tr>\n",
              "  </tbody>\n",
              "</table>\n",
              "</div>\n",
              "      <button class=\"colab-df-convert\" onclick=\"convertToInteractive('df-ab7c9093-5314-4a95-b489-995c25ee2724')\"\n",
              "              title=\"Convert this dataframe to an interactive table.\"\n",
              "              style=\"display:none;\">\n",
              "        \n",
              "  <svg xmlns=\"http://www.w3.org/2000/svg\" height=\"24px\"viewBox=\"0 0 24 24\"\n",
              "       width=\"24px\">\n",
              "    <path d=\"M0 0h24v24H0V0z\" fill=\"none\"/>\n",
              "    <path d=\"M18.56 5.44l.94 2.06.94-2.06 2.06-.94-2.06-.94-.94-2.06-.94 2.06-2.06.94zm-11 1L8.5 8.5l.94-2.06 2.06-.94-2.06-.94L8.5 2.5l-.94 2.06-2.06.94zm10 10l.94 2.06.94-2.06 2.06-.94-2.06-.94-.94-2.06-.94 2.06-2.06.94z\"/><path d=\"M17.41 7.96l-1.37-1.37c-.4-.4-.92-.59-1.43-.59-.52 0-1.04.2-1.43.59L10.3 9.45l-7.72 7.72c-.78.78-.78 2.05 0 2.83L4 21.41c.39.39.9.59 1.41.59.51 0 1.02-.2 1.41-.59l7.78-7.78 2.81-2.81c.8-.78.8-2.07 0-2.86zM5.41 20L4 18.59l7.72-7.72 1.47 1.35L5.41 20z\"/>\n",
              "  </svg>\n",
              "      </button>\n",
              "      \n",
              "  <style>\n",
              "    .colab-df-container {\n",
              "      display:flex;\n",
              "      flex-wrap:wrap;\n",
              "      gap: 12px;\n",
              "    }\n",
              "\n",
              "    .colab-df-convert {\n",
              "      background-color: #E8F0FE;\n",
              "      border: none;\n",
              "      border-radius: 50%;\n",
              "      cursor: pointer;\n",
              "      display: none;\n",
              "      fill: #1967D2;\n",
              "      height: 32px;\n",
              "      padding: 0 0 0 0;\n",
              "      width: 32px;\n",
              "    }\n",
              "\n",
              "    .colab-df-convert:hover {\n",
              "      background-color: #E2EBFA;\n",
              "      box-shadow: 0px 1px 2px rgba(60, 64, 67, 0.3), 0px 1px 3px 1px rgba(60, 64, 67, 0.15);\n",
              "      fill: #174EA6;\n",
              "    }\n",
              "\n",
              "    [theme=dark] .colab-df-convert {\n",
              "      background-color: #3B4455;\n",
              "      fill: #D2E3FC;\n",
              "    }\n",
              "\n",
              "    [theme=dark] .colab-df-convert:hover {\n",
              "      background-color: #434B5C;\n",
              "      box-shadow: 0px 1px 3px 1px rgba(0, 0, 0, 0.15);\n",
              "      filter: drop-shadow(0px 1px 2px rgba(0, 0, 0, 0.3));\n",
              "      fill: #FFFFFF;\n",
              "    }\n",
              "  </style>\n",
              "\n",
              "      <script>\n",
              "        const buttonEl =\n",
              "          document.querySelector('#df-ab7c9093-5314-4a95-b489-995c25ee2724 button.colab-df-convert');\n",
              "        buttonEl.style.display =\n",
              "          google.colab.kernel.accessAllowed ? 'block' : 'none';\n",
              "\n",
              "        async function convertToInteractive(key) {\n",
              "          const element = document.querySelector('#df-ab7c9093-5314-4a95-b489-995c25ee2724');\n",
              "          const dataTable =\n",
              "            await google.colab.kernel.invokeFunction('convertToInteractive',\n",
              "                                                     [key], {});\n",
              "          if (!dataTable) return;\n",
              "\n",
              "          const docLinkHtml = 'Like what you see? Visit the ' +\n",
              "            '<a target=\"_blank\" href=https://colab.research.google.com/notebooks/data_table.ipynb>data table notebook</a>'\n",
              "            + ' to learn more about interactive tables.';\n",
              "          element.innerHTML = '';\n",
              "          dataTable['output_type'] = 'display_data';\n",
              "          await google.colab.output.renderOutput(dataTable, element);\n",
              "          const docLink = document.createElement('div');\n",
              "          docLink.innerHTML = docLinkHtml;\n",
              "          element.appendChild(docLink);\n",
              "        }\n",
              "      </script>\n",
              "    </div>\n",
              "  </div>\n",
              "  "
            ]
          },
          "metadata": {},
          "execution_count": 67
        }
      ],
      "source": [
        "# adding a deep copy to another dataframe df to other Dataframe\n",
        "data =  data.copy()\n",
        "data['num_words'] = data.Description.apply(lambda x : len(x.split()))\n",
        "data.describe().transpose()"
      ]
    },
    {
      "cell_type": "code",
      "execution_count": 68,
      "metadata": {
        "id": "vw9WKDDgohNj"
      },
      "outputs": [],
      "source": [
        "bins=[0,50,75, np.inf]\n",
        "data['bins']=pd.cut(data.num_words, bins=[0,100,300,500,800, np.inf], labels=['0-100', '100-300', '300-500','500-800' ,'>800'])\n",
        "word_distribution = data.groupby('bins').size().reset_index().rename(columns={0:'counts'})"
      ]
    },
    {
      "cell_type": "code",
      "execution_count": 69,
      "metadata": {
        "id": "QD2Tt0Zoorh7",
        "colab": {
          "base_uri": "https://localhost:8080/",
          "height": 206
        },
        "outputId": "7c568bbb-b2c0-410c-a641-4a1ce1ad3fa5"
      },
      "outputs": [
        {
          "output_type": "execute_result",
          "data": {
            "text/plain": [
              "      bins  counts\n",
              "0    0-100    7990\n",
              "1  100-300     378\n",
              "2  300-500      17\n",
              "3  500-800       8\n",
              "4     >800       2"
            ],
            "text/html": [
              "\n",
              "  <div id=\"df-7938b969-0a1d-418d-8082-cb46971ff51a\">\n",
              "    <div class=\"colab-df-container\">\n",
              "      <div>\n",
              "<style scoped>\n",
              "    .dataframe tbody tr th:only-of-type {\n",
              "        vertical-align: middle;\n",
              "    }\n",
              "\n",
              "    .dataframe tbody tr th {\n",
              "        vertical-align: top;\n",
              "    }\n",
              "\n",
              "    .dataframe thead th {\n",
              "        text-align: right;\n",
              "    }\n",
              "</style>\n",
              "<table border=\"1\" class=\"dataframe\">\n",
              "  <thead>\n",
              "    <tr style=\"text-align: right;\">\n",
              "      <th></th>\n",
              "      <th>bins</th>\n",
              "      <th>counts</th>\n",
              "    </tr>\n",
              "  </thead>\n",
              "  <tbody>\n",
              "    <tr>\n",
              "      <th>0</th>\n",
              "      <td>0-100</td>\n",
              "      <td>7990</td>\n",
              "    </tr>\n",
              "    <tr>\n",
              "      <th>1</th>\n",
              "      <td>100-300</td>\n",
              "      <td>378</td>\n",
              "    </tr>\n",
              "    <tr>\n",
              "      <th>2</th>\n",
              "      <td>300-500</td>\n",
              "      <td>17</td>\n",
              "    </tr>\n",
              "    <tr>\n",
              "      <th>3</th>\n",
              "      <td>500-800</td>\n",
              "      <td>8</td>\n",
              "    </tr>\n",
              "    <tr>\n",
              "      <th>4</th>\n",
              "      <td>&gt;800</td>\n",
              "      <td>2</td>\n",
              "    </tr>\n",
              "  </tbody>\n",
              "</table>\n",
              "</div>\n",
              "      <button class=\"colab-df-convert\" onclick=\"convertToInteractive('df-7938b969-0a1d-418d-8082-cb46971ff51a')\"\n",
              "              title=\"Convert this dataframe to an interactive table.\"\n",
              "              style=\"display:none;\">\n",
              "        \n",
              "  <svg xmlns=\"http://www.w3.org/2000/svg\" height=\"24px\"viewBox=\"0 0 24 24\"\n",
              "       width=\"24px\">\n",
              "    <path d=\"M0 0h24v24H0V0z\" fill=\"none\"/>\n",
              "    <path d=\"M18.56 5.44l.94 2.06.94-2.06 2.06-.94-2.06-.94-.94-2.06-.94 2.06-2.06.94zm-11 1L8.5 8.5l.94-2.06 2.06-.94-2.06-.94L8.5 2.5l-.94 2.06-2.06.94zm10 10l.94 2.06.94-2.06 2.06-.94-2.06-.94-.94-2.06-.94 2.06-2.06.94z\"/><path d=\"M17.41 7.96l-1.37-1.37c-.4-.4-.92-.59-1.43-.59-.52 0-1.04.2-1.43.59L10.3 9.45l-7.72 7.72c-.78.78-.78 2.05 0 2.83L4 21.41c.39.39.9.59 1.41.59.51 0 1.02-.2 1.41-.59l7.78-7.78 2.81-2.81c.8-.78.8-2.07 0-2.86zM5.41 20L4 18.59l7.72-7.72 1.47 1.35L5.41 20z\"/>\n",
              "  </svg>\n",
              "      </button>\n",
              "      \n",
              "  <style>\n",
              "    .colab-df-container {\n",
              "      display:flex;\n",
              "      flex-wrap:wrap;\n",
              "      gap: 12px;\n",
              "    }\n",
              "\n",
              "    .colab-df-convert {\n",
              "      background-color: #E8F0FE;\n",
              "      border: none;\n",
              "      border-radius: 50%;\n",
              "      cursor: pointer;\n",
              "      display: none;\n",
              "      fill: #1967D2;\n",
              "      height: 32px;\n",
              "      padding: 0 0 0 0;\n",
              "      width: 32px;\n",
              "    }\n",
              "\n",
              "    .colab-df-convert:hover {\n",
              "      background-color: #E2EBFA;\n",
              "      box-shadow: 0px 1px 2px rgba(60, 64, 67, 0.3), 0px 1px 3px 1px rgba(60, 64, 67, 0.15);\n",
              "      fill: #174EA6;\n",
              "    }\n",
              "\n",
              "    [theme=dark] .colab-df-convert {\n",
              "      background-color: #3B4455;\n",
              "      fill: #D2E3FC;\n",
              "    }\n",
              "\n",
              "    [theme=dark] .colab-df-convert:hover {\n",
              "      background-color: #434B5C;\n",
              "      box-shadow: 0px 1px 3px 1px rgba(0, 0, 0, 0.15);\n",
              "      filter: drop-shadow(0px 1px 2px rgba(0, 0, 0, 0.3));\n",
              "      fill: #FFFFFF;\n",
              "    }\n",
              "  </style>\n",
              "\n",
              "      <script>\n",
              "        const buttonEl =\n",
              "          document.querySelector('#df-7938b969-0a1d-418d-8082-cb46971ff51a button.colab-df-convert');\n",
              "        buttonEl.style.display =\n",
              "          google.colab.kernel.accessAllowed ? 'block' : 'none';\n",
              "\n",
              "        async function convertToInteractive(key) {\n",
              "          const element = document.querySelector('#df-7938b969-0a1d-418d-8082-cb46971ff51a');\n",
              "          const dataTable =\n",
              "            await google.colab.kernel.invokeFunction('convertToInteractive',\n",
              "                                                     [key], {});\n",
              "          if (!dataTable) return;\n",
              "\n",
              "          const docLinkHtml = 'Like what you see? Visit the ' +\n",
              "            '<a target=\"_blank\" href=https://colab.research.google.com/notebooks/data_table.ipynb>data table notebook</a>'\n",
              "            + ' to learn more about interactive tables.';\n",
              "          element.innerHTML = '';\n",
              "          dataTable['output_type'] = 'display_data';\n",
              "          await google.colab.output.renderOutput(dataTable, element);\n",
              "          const docLink = document.createElement('div');\n",
              "          docLink.innerHTML = docLinkHtml;\n",
              "          element.appendChild(docLink);\n",
              "        }\n",
              "      </script>\n",
              "    </div>\n",
              "  </div>\n",
              "  "
            ]
          },
          "metadata": {},
          "execution_count": 69
        }
      ],
      "source": [
        "word_distribution"
      ]
    },
    {
      "cell_type": "code",
      "execution_count": 70,
      "metadata": {
        "id": "2xbSnsHHou4d",
        "colab": {
          "base_uri": "https://localhost:8080/",
          "height": 316
        },
        "outputId": "ab91bd04-6ec7-4c21-c9fa-ed15f7fd2859"
      },
      "outputs": [
        {
          "output_type": "execute_result",
          "data": {
            "text/plain": [
              "Text(0.5, 1.0, 'Word distribution per bin')"
            ]
          },
          "metadata": {},
          "execution_count": 70
        },
        {
          "output_type": "display_data",
          "data": {
            "text/plain": [
              "<Figure size 432x288 with 1 Axes>"
            ],
            "image/png": "[encoded data removed]"
          },
          "metadata": {
            "needs_background": "light"
          }
        }
      ],
      "source": [
        "sns.barplot(x='bins', y='counts', data=word_distribution).set_title(\"Word distribution per bin\")"
      ]
    },
    {
      "cell_type": "code",
      "execution_count": 71,
      "metadata": {
        "id": "Yc8FSL1coyWt"
      },
      "outputs": [],
      "source": [
        "from sklearn.model_selection import train_test_split"
      ]
    },
    {
      "cell_type": "code",
      "execution_count": 72,
      "metadata": {
        "id": "yEK7q6-no1pD"
      },
      "outputs": [],
      "source": [
        "# split X and y into training and testing sets\n",
        "trainX, testX, trainY, testY = train_test_split(data['lmdescription'], data['ModifiedAssignGrp'], random_state=100)"
      ]
    },
    {
      "cell_type": "code",
      "execution_count": 73,
      "metadata": {
        "id": "5oNomanko8Rq",
        "colab": {
          "base_uri": "https://localhost:8080/"
        },
        "outputId": "ef456628-5131-464c-9b72-18c76c5b53c1"
      },
      "outputs": [
        {
          "output_type": "stream",
          "name": "stdout",
          "text": [
            "(6296,)\n",
            "(6296,)\n"
          ]
        }
      ],
      "source": [
        "#Traing data\n",
        "print(trainX.shape)\n",
        "print(trainY.shape)"
      ]
    },
    {
      "cell_type": "code",
      "execution_count": 74,
      "metadata": {
        "id": "XC764vXHpAAI",
        "colab": {
          "base_uri": "https://localhost:8080/"
        },
        "outputId": "f6f3eac1-c4b9-4aa1-bc7e-7dbdeea02e33"
      },
      "outputs": [
        {
          "output_type": "stream",
          "name": "stdout",
          "text": [
            "(2099,)\n",
            "(2099,)\n"
          ]
        }
      ],
      "source": [
        "#Test Data\n",
        "print(testX.shape)\n",
        "print(testY.shape)"
      ]
    },
    {
      "cell_type": "code",
      "execution_count": 75,
      "metadata": {
        "id": "ZT3JyMT_pEOX"
      },
      "outputs": [],
      "source": [
        "# import and instantiate TF-IDF Vectorizer (with the default parameters)\n",
        "from sklearn.feature_extraction.text import TfidfVectorizer\n",
        "\n",
        "vectorizer=TfidfVectorizer(max_df=0.7,analyzer='word')"
      ]
    },
    {
      "cell_type": "code",
      "execution_count": 76,
      "metadata": {
        "id": "d8dv1no4pI8J"
      },
      "outputs": [],
      "source": [
        "# transforming the training data to document_term_matrix\n",
        "vectorizer.fit(trainX)\n",
        "trainX_tf=vectorizer.transform(trainX)"
      ]
    },
    {
      "cell_type": "code",
      "execution_count": 77,
      "metadata": {
        "id": "liWvzlJdpPj8"
      },
      "outputs": [],
      "source": [
        "#Converting Test descriptions also to tf-idf vectors\n",
        "testX_tf = vectorizer.transform(testX)"
      ]
    },
    {
      "cell_type": "code",
      "execution_count": 78,
      "metadata": {
        "id": "vvx4H3eMpTR6",
        "colab": {
          "base_uri": "https://localhost:8080/"
        },
        "outputId": "9f0553f5-0778-48ae-9ec1-f35be875e90e"
      },
      "outputs": [
        {
          "output_type": "execute_result",
          "data": {
            "text/plain": [
              "(6296, 8776)"
            ]
          },
          "metadata": {},
          "execution_count": 78
        }
      ],
      "source": [
        "trainX_tf.shape"
      ]
    },
    {
      "cell_type": "code",
      "execution_count": 79,
      "metadata": {
        "id": "qf1GkR36pYar",
        "colab": {
          "base_uri": "https://localhost:8080/"
        },
        "outputId": "4b1d3da8-66d3-4cb9-bb29-c7ac7d05e2cd"
      },
      "outputs": [
        {
          "output_type": "execute_result",
          "data": {
            "text/plain": [
              "(2099, 8776)"
            ]
          },
          "metadata": {},
          "execution_count": 79
        }
      ],
      "source": [
        "testX_tf.shape"
      ]
    },
    {
      "cell_type": "code",
      "execution_count": 80,
      "metadata": {
        "id": "mKiQm3v3pZtC",
        "colab": {
          "base_uri": "https://localhost:8080/"
        },
        "outputId": "31cc03b8-1bbf-4459-9a39-2fb63c777f5e"
      },
      "outputs": [
        {
          "output_type": "execute_result",
          "data": {
            "text/plain": [
              "8776"
            ]
          },
          "metadata": {},
          "execution_count": 80
        }
      ],
      "source": [
        "len(vectorizer.vocabulary_)"
      ]
    },
    {
      "cell_type": "code",
      "execution_count": 81,
      "metadata": {
        "id": "VktVuO7kpc9D"
      },
      "outputs": [],
      "source": [
        "from sklearn.svm import SVC\n",
        "from sklearn.ensemble import RandomForestClassifier\n",
        "from sklearn import metrics\n",
        "from sklearn.metrics import confusion_matrix\n",
        "from sklearn.model_selection import GridSearchCV"
      ]
    },
    {
      "cell_type": "markdown",
      "metadata": {
        "id": "uaR2J_Vnpo4J"
      },
      "source": [
        "Support Vector Machine Classifier\n"
      ]
    },
    {
      "cell_type": "code",
      "execution_count": 82,
      "metadata": {
        "id": "BZgmoMSzpsHE"
      },
      "outputs": [],
      "source": [
        "param_grid = {'C': [0.001, 0.01, 0.1, 1, 10, 100], \n",
        "              'gamma': [0.001, 0.01, 0.1, 1, 10], } "
      ]
    },
    {
      "cell_type": "code",
      "execution_count": 83,
      "metadata": {
        "id": "uodo7w59pxRe",
        "colab": {
          "base_uri": "https://localhost:8080/"
        },
        "outputId": "70f03070-7272-4f96-a1aa-05efeccdf6dd"
      },
      "outputs": [
        {
          "output_type": "execute_result",
          "data": {
            "text/plain": [
              "GridSearchCV(cv=2, estimator=SVC(),\n",
              "             param_grid={'C': [0.001, 0.01, 0.1, 1, 10, 100],\n",
              "                         'gamma': [0.001, 0.01, 0.1, 1, 10]})"
            ]
          },
          "metadata": {},
          "execution_count": 83
        }
      ],
      "source": [
        "svc = SVC()\n",
        "svc_gs = GridSearchCV(svc,param_grid,cv=2)\n",
        "svc_gs.fit(trainX_tf, trainY)"
      ]
    },
    {
      "cell_type": "code",
      "execution_count": 84,
      "metadata": {
        "id": "9WyZ3zpIyg3y",
        "colab": {
          "base_uri": "https://localhost:8080/"
        },
        "outputId": "60095bf3-4957-4aa0-f85e-882097b8c65d"
      },
      "outputs": [
        {
          "output_type": "execute_result",
          "data": {
            "text/plain": [
              "{'C': 10, 'gamma': 0.1}"
            ]
          },
          "metadata": {},
          "execution_count": 84
        }
      ],
      "source": [
        "svc_gs.best_params_"
      ]
    },
    {
      "cell_type": "code",
      "execution_count": 85,
      "metadata": {
        "id": "IcGnQgJ8ykyb",
        "colab": {
          "base_uri": "https://localhost:8080/"
        },
        "outputId": "864a5aa6-b30d-44e8-b5f2-e425c6f67686"
      },
      "outputs": [
        {
          "output_type": "execute_result",
          "data": {
            "text/plain": [
              "0.6526917579799905"
            ]
          },
          "metadata": {},
          "execution_count": 85
        }
      ],
      "source": [
        "svc_tf = SVC(C=10, gamma=0.1)\n",
        "svc_tf.fit(trainX_tf, trainY)\n",
        "pred_testY_tf = svc_tf.predict(testX_tf)\n",
        "#Calculate accuracy on Test Dataset\n",
        "metrics.accuracy_score(testY, pred_testY_tf)"
      ]
    },
    {
      "cell_type": "code",
      "execution_count": 86,
      "metadata": {
        "id": "WvEZEbqKythE"
      },
      "outputs": [],
      "source": [
        "resultsml=pd.DataFrame()\n",
        "tempResults = pd.DataFrame({'Model':['SVM Classifier Dataset1'], 'Pred_Accuracy': [metrics.accuracy_score(testY, pred_testY_tf)],'Pred_Unsampled_Accuracy': 'NA'},index={'1'})\n",
        "resultsml = pd.concat([resultsml, tempResults])"
      ]
    },
    {
      "cell_type": "markdown",
      "metadata": {
        "id": "ymI1GKJny_E9"
      },
      "source": [
        "Random Forest Classifier"
      ]
    },
    {
      "cell_type": "code",
      "execution_count": 87,
      "metadata": {
        "id": "Y0-LffRXzAVa"
      },
      "outputs": [],
      "source": [
        "param_grid = { \n",
        "    'n_estimators': [100, 200],\n",
        "    'max_features': ['auto', 'sqrt', 'log2'],\n",
        "    'criterion' :['gini', 'entropy']}"
      ]
    },
    {
      "cell_type": "code",
      "execution_count": 88,
      "metadata": {
        "id": "rgwWC1dZzFzA",
        "colab": {
          "base_uri": "https://localhost:8080/"
        },
        "outputId": "e450634d-754e-4413-a4d9-189b8d19ebc1"
      },
      "outputs": [
        {
          "output_type": "execute_result",
          "data": {
            "text/plain": [
              "GridSearchCV(cv=2, estimator=RandomForestClassifier(),\n",
              "             param_grid={'criterion': ['gini', 'entropy'],\n",
              "                         'max_features': ['auto', 'sqrt', 'log2'],\n",
              "                         'n_estimators': [100, 200]})"
            ]
          },
          "metadata": {},
          "execution_count": 88
        }
      ],
      "source": [
        "rfc=RandomForestClassifier()\n",
        "rfc_gs = GridSearchCV(estimator=rfc, param_grid=param_grid, cv= 2)\n",
        "rfc_gs.fit(trainX_tf, trainY)"
      ]
    },
    {
      "cell_type": "code",
      "execution_count": 89,
      "metadata": {
        "id": "U93CsU0UzLD_",
        "colab": {
          "base_uri": "https://localhost:8080/"
        },
        "outputId": "05149eec-8c02-4c13-f9c1-c0a7a60b3c1c"
      },
      "outputs": [
        {
          "output_type": "execute_result",
          "data": {
            "text/plain": [
              "{'criterion': 'gini', 'max_features': 'sqrt', 'n_estimators': 200}"
            ]
          },
          "metadata": {},
          "execution_count": 89
        }
      ],
      "source": [
        "rfc_gs.best_params_"
      ]
    },
    {
      "cell_type": "code",
      "execution_count": 90,
      "metadata": {
        "id": "AEajwgU30OOk",
        "colab": {
          "base_uri": "https://localhost:8080/"
        },
        "outputId": "9ca78ff8-5b04-4bd7-f88f-462ed9e0986d"
      },
      "outputs": [
        {
          "output_type": "stream",
          "name": "stdout",
          "text": [
            "Accuracy: 0.6279180562172463\n"
          ]
        }
      ],
      "source": [
        "rfc_tf=RandomForestClassifier(max_features='sqrt', n_estimators= 200, criterion='gini')\n",
        "rfc_tf.fit(trainX_tf, trainY)\n",
        "predY_rf=rfc_tf.predict(testX_tf)\n",
        "print(\"Accuracy:\",metrics.accuracy_score(testY, predY_rf))"
      ]
    },
    {
      "cell_type": "code",
      "execution_count": 91,
      "metadata": {
        "id": "gCmGVprr0YGf"
      },
      "outputs": [],
      "source": [
        "tempResults = pd.DataFrame({'Model':['Random Forest Classifier Dataset1'], 'Pred_Accuracy': [metrics.accuracy_score(testY, predY_rf)],'Pred_Unsampled_Accuracy': 'NA'},index={'2'})\n",
        "resultsml = pd.concat([resultsml, tempResults])"
      ]
    },
    {
      "cell_type": "markdown",
      "metadata": {
        "id": "qvTrh8j60iEQ"
      },
      "source": [
        "Neural Network Model"
      ]
    },
    {
      "cell_type": "code",
      "execution_count": 92,
      "metadata": {
        "id": "cpAI0x5e0kv2"
      },
      "outputs": [],
      "source": [
        "import tensorflow as tf\n",
        "import numpy as np"
      ]
    },
    {
      "cell_type": "code",
      "execution_count": 93,
      "metadata": {
        "id": "G0kDtr3k0peR"
      },
      "outputs": [],
      "source": [
        "from sklearn.preprocessing import LabelEncoder\n",
        "le = LabelEncoder()\n",
        "letrainY = le.fit_transform(trainY.values)\n",
        "letestY = le.transform(testY.values)"
      ]
    },
    {
      "cell_type": "code",
      "execution_count": 94,
      "metadata": {
        "id": "HvnrJQmm0swU"
      },
      "outputs": [],
      "source": [
        "#Start building a Keras Sequential Model\n",
        "tf.keras.backend.clear_session()\n",
        "model = tf.keras.Sequential()"
      ]
    },
    {
      "cell_type": "code",
      "execution_count": 95,
      "metadata": {
        "id": "D8KoiBZ00viJ"
      },
      "outputs": [],
      "source": [
        "#Add hidden layers\n",
        "model.add(tf.keras.layers.Dense(128, activation='relu', input_shape=(len(vectorizer.vocabulary_),)))\n",
        "model.add(tf.keras.layers.Dropout(0.4))\n",
        "model.add(tf.keras.layers.Dense(128, activation='relu'))\n",
        "model.add(tf.keras.layers.Dropout(0.4))\n",
        "#Add Output layer\n",
        "model.add(tf.keras.layers.Dense(n, activation='softmax'))"
      ]
    },
    {
      "cell_type": "code",
      "execution_count": 96,
      "metadata": {
        "id": "DGnXeUYQ02VW"
      },
      "outputs": [],
      "source": [
        "#Compile the model\n",
        "model.compile(optimizer='adam', loss='sparse_categorical_crossentropy', metrics=['acc'])"
      ]
    },
    {
      "cell_type": "code",
      "execution_count": 97,
      "metadata": {
        "id": "0ReC5Glp09p7",
        "colab": {
          "base_uri": "https://localhost:8080/"
        },
        "outputId": "67a911e5-c9d0-4f48-ff0d-a04aa6e5be8e"
      },
      "outputs": [
        {
          "output_type": "stream",
          "name": "stdout",
          "text": [
            "Epoch 1/10\n"
          ]
        },
        {
          "output_type": "stream",
          "name": "stderr",
          "text": [
            "/usr/local/lib/python3.7/dist-packages/tensorflow/python/framework/indexed_slices.py:446: UserWarning: Converting sparse IndexedSlices(IndexedSlices(indices=Tensor(\"gradient_tape/sequential/dense/embedding_lookup_sparse/Reshape_1:0\", shape=(None,), dtype=int32), values=Tensor(\"gradient_tape/sequential/dense/embedding_lookup_sparse/Reshape:0\", shape=(None, 128), dtype=float32), dense_shape=Tensor(\"gradient_tape/sequential/dense/embedding_lookup_sparse/Cast:0\", shape=(2,), dtype=int32))) to a dense Tensor of unknown shape. This may consume a large amount of memory.\n",
            "  \"shape. This may consume a large amount of memory.\" % value)\n"
          ]
        },
        {
          "output_type": "stream",
          "name": "stdout",
          "text": [
            "197/197 [==============================] - 4s 16ms/step - loss: 2.4986 - acc: 0.4976 - val_loss: 1.9950 - val_acc: 0.5312\n",
            "Epoch 2/10\n",
            "197/197 [==============================] - 3s 15ms/step - loss: 1.8484 - acc: 0.5583 - val_loss: 1.8166 - val_acc: 0.5669\n",
            "Epoch 3/10\n",
            "197/197 [==============================] - 3s 15ms/step - loss: 1.5686 - acc: 0.6020 - val_loss: 1.6970 - val_acc: 0.5955\n",
            "Epoch 4/10\n",
            "197/197 [==============================] - 3s 15ms/step - loss: 1.3250 - acc: 0.6526 - val_loss: 1.6194 - val_acc: 0.6051\n",
            "Epoch 5/10\n",
            "197/197 [==============================] - 3s 15ms/step - loss: 1.1223 - acc: 0.6970 - val_loss: 1.6138 - val_acc: 0.6351\n",
            "Epoch 6/10\n",
            "197/197 [==============================] - 3s 15ms/step - loss: 0.9476 - acc: 0.7468 - val_loss: 1.5709 - val_acc: 0.6327\n",
            "Epoch 7/10\n",
            "197/197 [==============================] - 3s 15ms/step - loss: 0.8006 - acc: 0.7789 - val_loss: 1.6282 - val_acc: 0.6389\n",
            "Epoch 8/10\n",
            "197/197 [==============================] - 3s 15ms/step - loss: 0.6986 - acc: 0.8034 - val_loss: 1.7010 - val_acc: 0.6379\n",
            "Epoch 9/10\n",
            "197/197 [==============================] - 3s 16ms/step - loss: 0.6069 - acc: 0.8269 - val_loss: 1.7735 - val_acc: 0.6341\n",
            "Epoch 10/10\n",
            "197/197 [==============================] - 3s 15ms/step - loss: 0.5391 - acc: 0.8458 - val_loss: 1.8243 - val_acc: 0.6384\n"
          ]
        },
        {
          "output_type": "execute_result",
          "data": {
            "text/plain": [
              "<keras.callbacks.History at 0x7ff8ecf4c3d0>"
            ]
          },
          "metadata": {},
          "execution_count": 97
        }
      ],
      "source": [
        "model.fit(trainX_tf, letrainY, epochs=10, batch_size=32, validation_data=(testX_tf, letestY))"
      ]
    },
    {
      "cell_type": "code",
      "execution_count": 98,
      "metadata": {
        "id": "L1SxC0HX1A83",
        "colab": {
          "base_uri": "https://localhost:8080/"
        },
        "outputId": "0c7cb878-78d7-4de9-fde0-baff6e73c91a"
      },
      "outputs": [
        {
          "output_type": "stream",
          "name": "stdout",
          "text": [
            "66/66 [==============================] - 0s 2ms/step - loss: 1.8243 - acc: 0.6384\n",
            "Test Score: 1.824347734451294\n",
            "Test Accuracy: 0.6383992433547974\n"
          ]
        }
      ],
      "source": [
        "score = model.evaluate(testX_tf, letestY, verbose=1)\n",
        "\n",
        "print(\"Test Score:\", score[0])\n",
        "print(\"Test Accuracy:\", score[1])"
      ]
    }
  ],
  "metadata": {
    "accelerator": "TPU",
    "colab": {
      "collapsed_sections": [],
      "name": "Untitled5.ipynb",
      "provenance": []
    },
    "kernelspec": {
      "display_name": "Python 3",
      "name": "python3"
    },
    "language_info": {
      "name": "python"
    }
  },
  "nbformat": 4,
  "nbformat_minor": 0
}