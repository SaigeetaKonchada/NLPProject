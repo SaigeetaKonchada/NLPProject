{
 "cells": [
  {
   "cell_type": "code",
   "execution_count": 1,
   "metadata": {},
   "outputs": [
    {
     "name": "stderr",
     "output_type": "stream",
     "text": [
      "[nltk_data] Downloading package punkt to C:\\Users\\DHAVALESWARA\n",
      "[nltk_data]     RAO\\AppData\\Roaming\\nltk_data...\n",
      "[nltk_data]   Package punkt is already up-to-date!\n",
      "[nltk_data] Downloading package stopwords to C:\\Users\\DHAVALESWARA\n",
      "[nltk_data]     RAO\\AppData\\Roaming\\nltk_data...\n",
      "[nltk_data]   Package stopwords is already up-to-date!\n",
      "[nltk_data] Downloading package wordnet to C:\\Users\\DHAVALESWARA\n",
      "[nltk_data]     RAO\\AppData\\Roaming\\nltk_data...\n",
      "[nltk_data]   Package wordnet is already up-to-date!\n"
     ]
    },
    {
     "data": {
      "text/plain": [
       "True"
      ]
     },
     "execution_count": 1,
     "metadata": {},
     "output_type": "execute_result"
    }
   ],
   "source": [
    "import nltk\n",
    "nltk.download('punkt')\n",
    "nltk.download('stopwords')\n",
    "nltk.download('wordnet')"
   ]
  },
  {
   "cell_type": "code",
   "execution_count": 2,
   "metadata": {},
   "outputs": [],
   "source": [
    "from bs4 import BeautifulSoup\n",
    "import re\n",
    "import unicodedata\n",
    "from nltk import word_tokenize\n",
    "from nltk.stem import WordNetLemmatizer\n",
    "from nltk.corpus import stopwords                   \n",
    "from nltk.stem import PorterStemmer\n",
    "stop_words = set(stopwords.words('english'))"
   ]
  },
  {
   "cell_type": "code",
   "execution_count": 3,
   "metadata": {},
   "outputs": [],
   "source": [
    "from sklearn.feature_extraction.text import TfidfVectorizer"
   ]
  },
  {
   "cell_type": "code",
   "execution_count": 4,
   "metadata": {},
   "outputs": [],
   "source": [
    "from langdetect import detect\n",
    "from deep_translator import GoogleTranslator"
   ]
  },
  {
   "cell_type": "markdown",
   "metadata": {},
   "source": [
    "## check packages above"
   ]
  },
  {
   "cell_type": "code",
   "execution_count": 1,
   "metadata": {},
   "outputs": [],
   "source": [
    "from flask import Flask\n",
    "from flask import Flask, render_template, redirect, url_for\n",
    "from flask_bootstrap import Bootstrap\n",
    "from flask_wtf import FlaskForm\n",
    "from wtforms import StringField, SubmitField\n",
    "from wtforms.validators import DataRequired\n",
    "import pandas as pd"
   ]
  },
  {
   "cell_type": "code",
   "execution_count": 2,
   "metadata": {},
   "outputs": [
    {
     "data": {
      "text/plain": [
       "<flask_bootstrap.Bootstrap at 0x21195388e20>"
      ]
     },
     "execution_count": 2,
     "metadata": {},
     "output_type": "execute_result"
    }
   ],
   "source": [
    "app = Flask(__name__)\n",
    "\n",
    "# Flask-WTF requires an encryption key - the string can be anything\n",
    "app.config['SECRET_KEY'] = 'C2HWGVoMGfNTBsrYQg8EcMrdTimkZfAb'\n",
    "\n",
    "# Flask-Bootstrap requires this line\n",
    "Bootstrap(app)"
   ]
  },
  {
   "cell_type": "code",
   "execution_count": 3,
   "metadata": {},
   "outputs": [],
   "source": [
    "class NameForm(FlaskForm):\n",
    "    sdesc = StringField('Short Description', validators=[DataRequired()])\n",
    "    desc = StringField('Description', validators=[DataRequired()])\n",
    "    caller = StringField('Caller', validators=[DataRequired()])\n",
    "    submit = SubmitField('Submit')"
   ]
  },
  {
   "cell_type": "code",
   "execution_count": 4,
   "metadata": {},
   "outputs": [
    {
     "name": "stderr",
     "output_type": "stream",
     "text": [
      "[nltk_data] Downloading package punkt to C:\\Users\\DHAVALESWARA\n",
      "[nltk_data]     RAO\\AppData\\Roaming\\nltk_data...\n",
      "[nltk_data]   Package punkt is already up-to-date!\n",
      "[nltk_data] Downloading package stopwords to C:\\Users\\DHAVALESWARA\n",
      "[nltk_data]     RAO\\AppData\\Roaming\\nltk_data...\n",
      "[nltk_data]   Package stopwords is already up-to-date!\n",
      "[nltk_data] Downloading package wordnet to C:\\Users\\DHAVALESWARA\n",
      "[nltk_data]     RAO\\AppData\\Roaming\\nltk_data...\n",
      "[nltk_data]   Package wordnet is already up-to-date!\n",
      "[nltk_data] Downloading package omw-1.4 to C:\\Users\\DHAVALESWARA\n",
      "[nltk_data]     RAO\\AppData\\Roaming\\nltk_data...\n",
      "[nltk_data]   Unzipping corpora\\omw-1.4.zip.\n"
     ]
    }
   ],
   "source": [
    "from preprocessing import preprocess_data"
   ]
  },
  {
   "cell_type": "code",
   "execution_count": 5,
   "metadata": {},
   "outputs": [],
   "source": [
    "@app.route('/', methods=['GET', 'POST'])\n",
    "def index():\n",
    "    form = NameForm()\n",
    "    message = \"\"\n",
    "    new_data=pd.DataFrame()\n",
    "    sdesc = \"\"\n",
    "    desc = \"\"\n",
    "    caller = \"\"\n",
    "    \n",
    "    if form.validate_on_submit():\n",
    "        sdesc = form.sdesc.data\n",
    "        desc = form.desc.data\n",
    "        caller = form.caller.data\n",
    "        if sdesc.lower() !=\"\" and desc.lower() !=\"\" and caller.lower() !=\"\":\n",
    "            message = \"excellent\"\n",
    "            form_data=[[sdesc,desc,caller]]\n",
    "            columns=['Short description','Description','Caller']\n",
    "            new_data= pd.DataFrame(form_data, columns = columns)\n",
    "            pro_data=preprocess_data(new_data)\n",
    "            \n",
    "        else:\n",
    "            message = \"That actor is not in our database.\"\n",
    "        \n",
    "    return render_template('index.html', form=form, tables=[new_data.to_html(classes='data', header=\"true\")],message=message)"
   ]
  },
  {
   "cell_type": "code",
   "execution_count": 6,
   "metadata": {
    "scrolled": true
   },
   "outputs": [
    {
     "name": "stdout",
     "output_type": "stream",
     "text": [
      " * Serving Flask app '__main__' (lazy loading)\n",
      " * Environment: production\n",
      "\u001b[31m   WARNING: This is a development server. Do not use it in a production deployment.\u001b[0m\n",
      "\u001b[2m   Use a production WSGI server instead.\u001b[0m\n",
      " * Debug mode: off\n"
     ]
    },
    {
     "name": "stderr",
     "output_type": "stream",
     "text": [
      " * Running on all addresses.\n",
      "   WARNING: This is a development server. Do not use it in a production deployment.\n",
      " * Running on http://192.168.1.11:8000/ (Press CTRL+C to quit)\n",
      "[2022-05-28 10:56:00,308] ERROR in app: Exception on / [POST]\n",
      "Traceback (most recent call last):\n",
      "  File \"c:\\Users\\DHAVALESWARA RAO\\anaconda3\\lib\\site-packages\\flask\\app.py\", line 2077, in wsgi_app\n",
      "    response = self.full_dispatch_request()\n",
      "  File \"c:\\Users\\DHAVALESWARA RAO\\anaconda3\\lib\\site-packages\\flask\\app.py\", line 1525, in full_dispatch_request\n",
      "    rv = self.handle_user_exception(e)\n",
      "  File \"c:\\Users\\DHAVALESWARA RAO\\anaconda3\\lib\\site-packages\\flask\\app.py\", line 1523, in full_dispatch_request\n",
      "    rv = self.dispatch_request()\n",
      "  File \"c:\\Users\\DHAVALESWARA RAO\\anaconda3\\lib\\site-packages\\flask\\app.py\", line 1509, in dispatch_request\n",
      "    return self.ensure_sync(self.view_functions[rule.endpoint])(**req.view_args)\n",
      "  File \"<ipython-input-5-58c58bb8ccd6>\", line 19, in index\n",
      "    pro_data=preprocess_data(new_data)\n",
      "  File \"c:\\Users\\DHAVALESWARA RAO\\OneDrive\\great learning\\Capstone Project\\preprocessing.py\", line 141, in preprocess_data\n",
      "    tfidf = pickle.load(open(\"tfidf1.pkl\", \"rb\" ) )\n",
      "NameError: name 'pickle' is not defined\n",
      "127.0.0.1 - - [28/May/2022 10:56:00] \"POST / HTTP/1.1\" 500 -\n"
     ]
    }
   ],
   "source": [
    "if __name__ == '__main__':\n",
    "    app.run(host='0.0.0.0', port=8000)"
   ]
  },
  {
   "cell_type": "code",
   "execution_count": null,
   "metadata": {},
   "outputs": [],
   "source": [
    "new_data"
   ]
  },
  {
   "cell_type": "code",
   "execution_count": null,
   "metadata": {},
   "outputs": [],
   "source": []
  }
 ],
 "metadata": {
  "interpreter": {
   "hash": "673c33ff7e1991693ed833cff39bf1f6cdf665d555520efd5553e4a680d967aa"
  },
  "kernelspec": {
   "display_name": "Python 3.8.3 ('base')",
   "language": "python",
   "name": "python3"
  },
  "language_info": {
   "codemirror_mode": {
    "name": "ipython",
    "version": 3
   },
   "file_extension": ".py",
   "mimetype": "text/x-python",
   "name": "python",
   "nbconvert_exporter": "python",
   "pygments_lexer": "ipython3",
   "version": "3.8.3"
  }
 },
 "nbformat": 4,
 "nbformat_minor": 4
}
